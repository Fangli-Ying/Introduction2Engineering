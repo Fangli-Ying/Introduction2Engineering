{
 "cells": [
  {
   "cell_type": "markdown",
   "id": "6546b9a1",
   "metadata": {},
   "source": [
    "# Tensor Basics"
   ]
  },
  {
   "cell_type": "markdown",
   "id": "0dd5b88e",
   "metadata": {},
   "source": [
    "Numpy to tensor and some basics"
   ]
  },
  {
   "cell_type": "code",
   "execution_count": 1,
   "id": "050e676a",
   "metadata": {},
   "outputs": [],
   "source": [
    "import torch"
   ]
  },
  {
   "cell_type": "code",
   "execution_count": 2,
   "id": "746706e7",
   "metadata": {},
   "outputs": [
    {
     "data": {
      "text/plain": [
       "tensor([[-4.9384e-39,  5.3389e-43, -4.9384e-39],\n",
       "        [ 5.3389e-43, -1.2394e-38,  5.3389e-43]])"
      ]
     },
     "execution_count": 2,
     "metadata": {},
     "output_type": "execute_result"
    }
   ],
   "source": [
    "x =  torch.empty(2,3)\n",
    "x"
   ]
  },
  {
   "cell_type": "code",
   "execution_count": 4,
   "id": "e63833ff",
   "metadata": {},
   "outputs": [
    {
     "data": {
      "text/plain": [
       "tensor([[[0.1495, 0.2676, 0.3049, 0.2750],\n",
       "         [0.2394, 0.0614, 0.5467, 0.3394],\n",
       "         [0.8833, 0.9106, 0.8058, 0.1013]],\n",
       "\n",
       "        [[0.9797, 0.3648, 0.1466, 0.0433],\n",
       "         [0.4520, 0.7845, 0.0099, 0.0172],\n",
       "         [0.2617, 0.3466, 0.6870, 0.2733]]])"
      ]
     },
     "execution_count": 4,
     "metadata": {},
     "output_type": "execute_result"
    }
   ],
   "source": [
    "y= torch.rand(2,3,4)\n",
    "y"
   ]
  },
  {
   "cell_type": "code",
   "execution_count": 7,
   "id": "caafe686",
   "metadata": {},
   "outputs": [
    {
     "data": {
      "text/plain": [
       "tensor([[1., 1.],\n",
       "        [1., 1.]])"
      ]
     },
     "execution_count": 7,
     "metadata": {},
     "output_type": "execute_result"
    }
   ],
   "source": [
    "z = torch.ones(2,2)\n",
    "z"
   ]
  },
  {
   "cell_type": "code",
   "execution_count": 9,
   "id": "594f8183",
   "metadata": {},
   "outputs": [
    {
     "data": {
      "text/plain": [
       "tensor([[1., 1.],\n",
       "        [1., 1.]], dtype=torch.float64)"
      ]
     },
     "execution_count": 9,
     "metadata": {},
     "output_type": "execute_result"
    }
   ],
   "source": [
    "m = torch.ones(2,2, dtype= torch.double)#float16\n",
    "m"
   ]
  },
  {
   "cell_type": "code",
   "execution_count": 11,
   "id": "46f27e88",
   "metadata": {},
   "outputs": [
    {
     "name": "stdout",
     "output_type": "stream",
     "text": [
      "torch.Size([2, 2])\n"
     ]
    }
   ],
   "source": [
    "print(m.size())"
   ]
  },
  {
   "cell_type": "code",
   "execution_count": 14,
   "id": "4647c22a",
   "metadata": {},
   "outputs": [
    {
     "data": {
      "text/plain": [
       "tensor([1.2000, 1.0000])"
      ]
     },
     "execution_count": 14,
     "metadata": {},
     "output_type": "execute_result"
    }
   ],
   "source": [
    "h= torch.tensor([1.2, 1.])\n",
    "h"
   ]
  },
  {
   "cell_type": "code",
   "execution_count": 16,
   "id": "20548787",
   "metadata": {},
   "outputs": [
    {
     "data": {
      "text/plain": [
       "torch.Tensor"
      ]
     },
     "execution_count": 16,
     "metadata": {},
     "output_type": "execute_result"
    }
   ],
   "source": [
    "type(h)"
   ]
  },
  {
   "cell_type": "code",
   "execution_count": 19,
   "id": "2279846a",
   "metadata": {},
   "outputs": [
    {
     "data": {
      "text/plain": [
       "tensor([[0.7122, 0.0021, 0.9954],\n",
       "        [0.5527, 0.6483, 0.4960]])"
      ]
     },
     "execution_count": 19,
     "metadata": {},
     "output_type": "execute_result"
    }
   ],
   "source": [
    "x= torch.rand(2,3)\n",
    "y= torch.rand(2,3)\n",
    "x"
   ]
  },
  {
   "cell_type": "code",
   "execution_count": 21,
   "id": "508a6845",
   "metadata": {},
   "outputs": [
    {
     "data": {
      "text/plain": [
       "tensor([[0.3498, 0.9510, 0.2612],\n",
       "        [0.2224, 0.4601, 0.8452]])"
      ]
     },
     "execution_count": 21,
     "metadata": {},
     "output_type": "execute_result"
    }
   ],
   "source": [
    "y"
   ]
  },
  {
   "cell_type": "code",
   "execution_count": 23,
   "id": "4a1e0105",
   "metadata": {},
   "outputs": [
    {
     "data": {
      "text/plain": [
       "tensor([[1.0620, 0.9530, 1.2567],\n",
       "        [0.7752, 1.1084, 1.3412]])"
      ]
     },
     "execution_count": 23,
     "metadata": {},
     "output_type": "execute_result"
    }
   ],
   "source": [
    "z= x+y\n",
    "z"
   ]
  },
  {
   "cell_type": "code",
   "execution_count": 28,
   "id": "68442990",
   "metadata": {},
   "outputs": [
    {
     "data": {
      "text/plain": [
       "tensor([[1.7743, 0.9551, 2.2521],\n",
       "        [1.3279, 1.7566, 1.8372]])"
      ]
     },
     "execution_count": 28,
     "metadata": {},
     "output_type": "execute_result"
    }
   ],
   "source": [
    "z= torch.add(x,y)\n",
    "z"
   ]
  },
  {
   "cell_type": "code",
   "execution_count": 29,
   "id": "26fe981d",
   "metadata": {},
   "outputs": [
    {
     "data": {
      "text/plain": [
       "tensor([[1.0620, 0.9530, 1.2567],\n",
       "        [0.7752, 1.1084, 1.3412]])"
      ]
     },
     "execution_count": 29,
     "metadata": {},
     "output_type": "execute_result"
    }
   ],
   "source": [
    "y"
   ]
  },
  {
   "cell_type": "code",
   "execution_count": 31,
   "id": "c85c3eb5",
   "metadata": {},
   "outputs": [
    {
     "data": {
      "text/plain": [
       "tensor([[2.4865, 0.9572, 3.2475],\n",
       "        [1.8806, 2.4049, 2.3332]])"
      ]
     },
     "execution_count": 31,
     "metadata": {},
     "output_type": "execute_result"
    }
   ],
   "source": [
    "#inplace add with add_\n",
    "y.add_(x)\n",
    "y"
   ]
  },
  {
   "cell_type": "code",
   "execution_count": 33,
   "id": "d5f3a5ab",
   "metadata": {},
   "outputs": [
    {
     "data": {
      "text/plain": [
       "tensor([[-1.7743, -0.9551, -2.2521],\n",
       "        [-1.3279, -1.7566, -1.8372]])"
      ]
     },
     "execution_count": 33,
     "metadata": {},
     "output_type": "execute_result"
    }
   ],
   "source": [
    "#same for sub\n",
    "z1= torch.sub(x,y)\n",
    "z1"
   ]
  },
  {
   "cell_type": "code",
   "execution_count": 36,
   "id": "89598be0",
   "metadata": {},
   "outputs": [
    {
     "data": {
      "text/plain": [
       "tensor([[-1.7743, -0.9551, -2.2521],\n",
       "        [-1.3279, -1.7566, -1.8372]])"
      ]
     },
     "execution_count": 36,
     "metadata": {},
     "output_type": "execute_result"
    }
   ],
   "source": [
    "z=x-y\n",
    "z"
   ]
  },
  {
   "cell_type": "code",
   "execution_count": 38,
   "id": "50f39b5e",
   "metadata": {},
   "outputs": [
    {
     "data": {
      "text/plain": [
       "tensor([[2.4865, 0.9572, 3.2475],\n",
       "        [1.8806, 2.4049, 2.3332]])"
      ]
     },
     "execution_count": 38,
     "metadata": {},
     "output_type": "execute_result"
    }
   ],
   "source": [
    "y"
   ]
  },
  {
   "cell_type": "code",
   "execution_count": 40,
   "id": "f3c6a71a",
   "metadata": {},
   "outputs": [
    {
     "data": {
      "text/plain": [
       "tensor([[1.0620, 0.9530, 1.2567],\n",
       "        [0.7752, 1.1084, 1.3412]])"
      ]
     },
     "execution_count": 40,
     "metadata": {},
     "output_type": "execute_result"
    }
   ],
   "source": [
    "y.sub_(x)\n",
    "y"
   ]
  },
  {
   "cell_type": "markdown",
   "id": "542420f6",
   "metadata": {},
   "source": [
    "### same for mul - * and div - / "
   ]
  },
  {
   "cell_type": "code",
   "execution_count": 43,
   "id": "2bd93a3c",
   "metadata": {},
   "outputs": [
    {
     "data": {
      "text/plain": [
       "tensor([[0.4244, 0.2378, 0.1686],\n",
       "        [0.7752, 0.4780, 0.7811],\n",
       "        [0.1390, 0.7367, 0.0492],\n",
       "        [0.7122, 0.4733, 0.7879],\n",
       "        [0.5814, 0.6558, 0.4885]])"
      ]
     },
     "execution_count": 43,
     "metadata": {},
     "output_type": "execute_result"
    }
   ],
   "source": [
    "x= torch.rand(5,3)\n",
    "x"
   ]
  },
  {
   "cell_type": "code",
   "execution_count": 45,
   "id": "cab060dc",
   "metadata": {},
   "outputs": [
    {
     "data": {
      "text/plain": [
       "tensor([0.7752, 0.4780, 0.7811])"
      ]
     },
     "execution_count": 45,
     "metadata": {},
     "output_type": "execute_result"
    }
   ],
   "source": [
    "x[1,:] #1 is the second(0,1,2...) row 行 and ：is all columns "
   ]
  },
  {
   "cell_type": "code",
   "execution_count": 47,
   "id": "baaca134",
   "metadata": {},
   "outputs": [
    {
     "data": {
      "text/plain": [
       "tensor(0.4780)"
      ]
     },
     "execution_count": 47,
     "metadata": {},
     "output_type": "execute_result"
    }
   ],
   "source": [
    "x[1,1] # the second row and second column"
   ]
  },
  {
   "cell_type": "code",
   "execution_count": 49,
   "id": "fe6f356f",
   "metadata": {},
   "outputs": [
    {
     "data": {
      "text/plain": [
       "0.47803258895874023"
      ]
     },
     "execution_count": 49,
     "metadata": {},
     "output_type": "execute_result"
    }
   ],
   "source": [
    "x[1,1].item() # get the one element with actual value"
   ]
  },
  {
   "cell_type": "code",
   "execution_count": 52,
   "id": "df637d70",
   "metadata": {},
   "outputs": [
    {
     "data": {
      "text/plain": [
       "tensor([0.2843, 0.9532, 0.4500, 0.8673, 0.1187, 0.9415, 0.0999, 0.1147, 0.8233,\n",
       "        0.6926, 0.3265, 0.4036, 0.3597, 0.7581, 0.4455, 0.0368])"
      ]
     },
     "execution_count": 52,
     "metadata": {},
     "output_type": "execute_result"
    }
   ],
   "source": [
    "x= torch.rand(4,4)\n",
    "y= x.view(16)# reshape from 4*4 to 16*1\n",
    "y"
   ]
  },
  {
   "cell_type": "code",
   "execution_count": 57,
   "id": "6a84a513",
   "metadata": {},
   "outputs": [
    {
     "data": {
      "text/plain": [
       "tensor([[0.2843, 0.9532, 0.4500, 0.8673, 0.1187, 0.9415, 0.0999, 0.1147],\n",
       "        [0.8233, 0.6926, 0.3265, 0.4036, 0.3597, 0.7581, 0.4455, 0.0368]])"
      ]
     },
     "execution_count": 57,
     "metadata": {},
     "output_type": "execute_result"
    }
   ],
   "source": [
    "z= x.view(-1,8)# reshape from 4*4 to any (-1 is decide by itself)* 8\n",
    "z"
   ]
  },
  {
   "cell_type": "code",
   "execution_count": 58,
   "id": "0f25b59e",
   "metadata": {},
   "outputs": [
    {
     "data": {
      "text/plain": [
       "<function Tensor.size>"
      ]
     },
     "execution_count": 58,
     "metadata": {},
     "output_type": "execute_result"
    }
   ],
   "source": [
    "z.size"
   ]
  },
  {
   "cell_type": "code",
   "execution_count": 60,
   "id": "7f67c188",
   "metadata": {},
   "outputs": [
    {
     "data": {
      "text/plain": [
       "torch.Size([2, 8])"
      ]
     },
     "execution_count": 60,
     "metadata": {},
     "output_type": "execute_result"
    }
   ],
   "source": [
    "z.size()"
   ]
  },
  {
   "cell_type": "markdown",
   "id": "450dbd23",
   "metadata": {},
   "source": [
    "## Numpy to tensor"
   ]
  },
  {
   "cell_type": "code",
   "execution_count": 66,
   "id": "7248a468",
   "metadata": {},
   "outputs": [
    {
     "data": {
      "text/plain": [
       "tensor([1., 1., 1., 1., 1.])"
      ]
     },
     "execution_count": 66,
     "metadata": {},
     "output_type": "execute_result"
    }
   ],
   "source": [
    "a = torch.ones(5)\n",
    "a"
   ]
  },
  {
   "cell_type": "code",
   "execution_count": 67,
   "id": "dd02fa35",
   "metadata": {},
   "outputs": [
    {
     "data": {
      "text/plain": [
       "torch.Tensor"
      ]
     },
     "execution_count": 67,
     "metadata": {},
     "output_type": "execute_result"
    }
   ],
   "source": [
    "type(a)"
   ]
  },
  {
   "cell_type": "code",
   "execution_count": 68,
   "id": "1cc179b3",
   "metadata": {},
   "outputs": [
    {
     "data": {
      "text/plain": [
       "array([1., 1., 1., 1., 1.], dtype=float32)"
      ]
     },
     "execution_count": 68,
     "metadata": {},
     "output_type": "execute_result"
    }
   ],
   "source": [
    "b= a.numpy()\n",
    "b"
   ]
  },
  {
   "cell_type": "code",
   "execution_count": 70,
   "id": "71abebeb",
   "metadata": {},
   "outputs": [
    {
     "data": {
      "text/plain": [
       "numpy.ndarray"
      ]
     },
     "execution_count": 70,
     "metadata": {},
     "output_type": "execute_result"
    }
   ],
   "source": [
    "type(b)"
   ]
  },
  {
   "cell_type": "markdown",
   "id": "320f0b4b",
   "metadata": {},
   "source": [
    "## note inplace operation when pointing the same place"
   ]
  },
  {
   "cell_type": "code",
   "execution_count": 74,
   "id": "0691565b",
   "metadata": {},
   "outputs": [
    {
     "data": {
      "text/plain": [
       "tensor([3., 3., 3., 3., 3.])"
      ]
     },
     "execution_count": 74,
     "metadata": {},
     "output_type": "execute_result"
    }
   ],
   "source": [
    "a.add_(1)\n",
    "a"
   ]
  },
  {
   "cell_type": "code",
   "execution_count": 76,
   "id": "f6b84f66",
   "metadata": {},
   "outputs": [
    {
     "data": {
      "text/plain": [
       "array([3., 3., 3., 3., 3.], dtype=float32)"
      ]
     },
     "execution_count": 76,
     "metadata": {},
     "output_type": "execute_result"
    }
   ],
   "source": [
    "b"
   ]
  },
  {
   "cell_type": "markdown",
   "id": "af2f19df",
   "metadata": {},
   "source": [
    "## tensor to numpy"
   ]
  },
  {
   "cell_type": "code",
   "execution_count": 80,
   "id": "200c38f5",
   "metadata": {},
   "outputs": [
    {
     "data": {
      "text/plain": [
       "tensor([3., 3., 3., 3., 3.])"
      ]
     },
     "execution_count": 80,
     "metadata": {},
     "output_type": "execute_result"
    }
   ],
   "source": [
    "h= torch.from_numpy(b)\n",
    "h"
   ]
  },
  {
   "cell_type": "code",
   "execution_count": 88,
   "id": "4fddb287",
   "metadata": {},
   "outputs": [
    {
     "data": {
      "text/plain": [
       "array([7., 7., 7., 7., 7.], dtype=float32)"
      ]
     },
     "execution_count": 88,
     "metadata": {},
     "output_type": "execute_result"
    }
   ],
   "source": [
    "b+=1 #inplace operation from numpy to tensor\n",
    "b\n"
   ]
  },
  {
   "cell_type": "code",
   "execution_count": 89,
   "id": "359a259a",
   "metadata": {},
   "outputs": [
    {
     "data": {
      "text/plain": [
       "tensor([7., 7., 7., 7., 7.])"
      ]
     },
     "execution_count": 89,
     "metadata": {},
     "output_type": "execute_result"
    }
   ],
   "source": [
    "h"
   ]
  },
  {
   "cell_type": "code",
   "execution_count": 99,
   "id": "a9559b18",
   "metadata": {},
   "outputs": [
    {
     "name": "stdout",
     "output_type": "stream",
     "text": [
      "tensor([2., 2., 2., 2., 2.])\n"
     ]
    }
   ],
   "source": [
    "#windows\n",
    "if torch.cuda.is_available():\n",
    "    device =  torch.device(\"cuda\")\n",
    "    x= torch.ones(5,device= device)#specify the gpu variable\n",
    "    y= torch.ones(5)\n",
    "    y= y.to(device)# or you can define it then move to gpu\n",
    "    z= x+y\n",
    "    z = z.to(\"cpu\")\n",
    "    print(z)"
   ]
  },
  {
   "cell_type": "code",
   "execution_count": 100,
   "id": "73bc792c",
   "metadata": {},
   "outputs": [],
   "source": [
    "x= torch.ones(5,requires_grad =True)# need to caculate the gradient"
   ]
  },
  {
   "cell_type": "markdown",
   "id": "1672f829",
   "metadata": {},
   "source": [
    "## gradient"
   ]
  },
  {
   "cell_type": "code",
   "execution_count": 102,
   "id": "a203c3eb",
   "metadata": {},
   "outputs": [
    {
     "data": {
      "text/plain": [
       "tensor([0.8676, 0.4958, 0.0943])"
      ]
     },
     "execution_count": 102,
     "metadata": {},
     "output_type": "execute_result"
    }
   ],
   "source": [
    "x= torch.randn(3)\n",
    "x"
   ]
  },
  {
   "cell_type": "code",
   "execution_count": 104,
   "id": "10670fb9",
   "metadata": {},
   "outputs": [
    {
     "data": {
      "text/plain": [
       "tensor([ 0.8662, -0.1341,  1.2969], requires_grad=True)"
      ]
     },
     "execution_count": 104,
     "metadata": {},
     "output_type": "execute_result"
    }
   ],
   "source": [
    "x= torch.randn(3, requires_grad =True)# need to caculate the gradient\n",
    "x"
   ]
  },
  {
   "cell_type": "code",
   "execution_count": 106,
   "id": "a0dacf10",
   "metadata": {},
   "outputs": [],
   "source": [
    "y = x+2"
   ]
  },
  {
   "cell_type": "markdown",
   "id": "76332f6c",
   "metadata": {},
   "source": [
    "![VS](figures/BB.PNG)"
   ]
  },
  {
   "cell_type": "code",
   "execution_count": 108,
   "id": "16eb2ed5",
   "metadata": {},
   "outputs": [
    {
     "data": {
      "text/plain": [
       "tensor([2.8662, 1.8659, 3.2969], grad_fn=<AddBackward0>)"
      ]
     },
     "execution_count": 108,
     "metadata": {},
     "output_type": "execute_result"
    }
   ],
   "source": [
    "y # we can see backward for add"
   ]
  },
  {
   "cell_type": "code",
   "execution_count": 110,
   "id": "b326b2d8",
   "metadata": {},
   "outputs": [
    {
     "data": {
      "text/plain": [
       "tensor([16.4307,  6.9629, 21.7393], grad_fn=<MulBackward0>)"
      ]
     },
     "execution_count": 110,
     "metadata": {},
     "output_type": "execute_result"
    }
   ],
   "source": [
    "z=y*y*2 # we can see backward for multiply\n",
    "z"
   ]
  },
  {
   "cell_type": "code",
   "execution_count": 117,
   "id": "099fee6c",
   "metadata": {},
   "outputs": [
    {
     "data": {
      "text/plain": [
       "tensor(15.0443, grad_fn=<MeanBackward0>)"
      ]
     },
     "execution_count": 117,
     "metadata": {},
     "output_type": "execute_result"
    }
   ],
   "source": [
    "h = z.mean()\n",
    "h"
   ]
  },
  {
   "cell_type": "code",
   "execution_count": 118,
   "id": "ea70da0d",
   "metadata": {},
   "outputs": [
    {
     "ename": "RuntimeError",
     "evalue": "Trying to backward through the graph a second time, but the buffers have already been freed. Specify retain_graph=True when calling backward the first time.",
     "output_type": "error",
     "traceback": [
      "\u001b[1;31m---------------------------------------------------------------------------\u001b[0m",
      "\u001b[1;31mRuntimeError\u001b[0m                              Traceback (most recent call last)",
      "\u001b[1;32m<ipython-input-118-805874694f51>\u001b[0m in \u001b[0;36m<module>\u001b[1;34m\u001b[0m\n\u001b[1;32m----> 1\u001b[1;33m \u001b[0mh\u001b[0m\u001b[1;33m.\u001b[0m\u001b[0mbackward\u001b[0m\u001b[1;33m(\u001b[0m\u001b[1;33m)\u001b[0m \u001b[1;31m#dz/dx\u001b[0m\u001b[1;33m\u001b[0m\u001b[1;33m\u001b[0m\u001b[0m\n\u001b[0m",
      "\u001b[1;32mD:\\ProgramData\\Anaconda3\\lib\\site-packages\\torch\\tensor.py\u001b[0m in \u001b[0;36mbackward\u001b[1;34m(self, gradient, retain_graph, create_graph)\u001b[0m\n\u001b[0;32m    116\u001b[0m                 \u001b[0mproducts\u001b[0m\u001b[1;33m.\u001b[0m \u001b[0mDefaults\u001b[0m \u001b[0mto\u001b[0m\u001b[0;31m \u001b[0m\u001b[0;31m`\u001b[0m\u001b[0;31m`\u001b[0m\u001b[1;32mFalse\u001b[0m\u001b[0;31m`\u001b[0m\u001b[0;31m`\u001b[0m\u001b[1;33m.\u001b[0m\u001b[1;33m\u001b[0m\u001b[1;33m\u001b[0m\u001b[0m\n\u001b[0;32m    117\u001b[0m         \"\"\"\n\u001b[1;32m--> 118\u001b[1;33m         \u001b[0mtorch\u001b[0m\u001b[1;33m.\u001b[0m\u001b[0mautograd\u001b[0m\u001b[1;33m.\u001b[0m\u001b[0mbackward\u001b[0m\u001b[1;33m(\u001b[0m\u001b[0mself\u001b[0m\u001b[1;33m,\u001b[0m \u001b[0mgradient\u001b[0m\u001b[1;33m,\u001b[0m \u001b[0mretain_graph\u001b[0m\u001b[1;33m,\u001b[0m \u001b[0mcreate_graph\u001b[0m\u001b[1;33m)\u001b[0m\u001b[1;33m\u001b[0m\u001b[1;33m\u001b[0m\u001b[0m\n\u001b[0m\u001b[0;32m    119\u001b[0m \u001b[1;33m\u001b[0m\u001b[0m\n\u001b[0;32m    120\u001b[0m     \u001b[1;32mdef\u001b[0m \u001b[0mregister_hook\u001b[0m\u001b[1;33m(\u001b[0m\u001b[0mself\u001b[0m\u001b[1;33m,\u001b[0m \u001b[0mhook\u001b[0m\u001b[1;33m)\u001b[0m\u001b[1;33m:\u001b[0m\u001b[1;33m\u001b[0m\u001b[1;33m\u001b[0m\u001b[0m\n",
      "\u001b[1;32mD:\\ProgramData\\Anaconda3\\lib\\site-packages\\torch\\autograd\\__init__.py\u001b[0m in \u001b[0;36mbackward\u001b[1;34m(tensors, grad_tensors, retain_graph, create_graph, grad_variables)\u001b[0m\n\u001b[0;32m     91\u001b[0m     Variable._execution_engine.run_backward(\n\u001b[0;32m     92\u001b[0m         \u001b[0mtensors\u001b[0m\u001b[1;33m,\u001b[0m \u001b[0mgrad_tensors\u001b[0m\u001b[1;33m,\u001b[0m \u001b[0mretain_graph\u001b[0m\u001b[1;33m,\u001b[0m \u001b[0mcreate_graph\u001b[0m\u001b[1;33m,\u001b[0m\u001b[1;33m\u001b[0m\u001b[1;33m\u001b[0m\u001b[0m\n\u001b[1;32m---> 93\u001b[1;33m         allow_unreachable=True)  # allow_unreachable flag\n\u001b[0m\u001b[0;32m     94\u001b[0m \u001b[1;33m\u001b[0m\u001b[0m\n\u001b[0;32m     95\u001b[0m \u001b[1;33m\u001b[0m\u001b[0m\n",
      "\u001b[1;31mRuntimeError\u001b[0m: Trying to backward through the graph a second time, but the buffers have already been freed. Specify retain_graph=True when calling backward the first time."
     ]
    }
   ],
   "source": [
    "h.backward() #dz/dx but it can not go second time and the requires_grad should be True"
   ]
  },
  {
   "cell_type": "code",
   "execution_count": 120,
   "id": "ba928e0c",
   "metadata": {},
   "outputs": [
    {
     "data": {
      "text/plain": [
       "tensor([3.8217, 2.4878, 4.3959])"
      ]
     },
     "execution_count": 120,
     "metadata": {},
     "output_type": "execute_result"
    }
   ],
   "source": [
    "x.grad"
   ]
  },
  {
   "cell_type": "markdown",
   "id": "e8a2a95b",
   "metadata": {},
   "source": [
    "![VS](figures/chain.PNG)"
   ]
  },
  {
   "cell_type": "code",
   "execution_count": 122,
   "id": "6498313e",
   "metadata": {},
   "outputs": [
    {
     "data": {
      "text/plain": [
       "tensor([0.1000, 1.0000, 0.1000])"
      ]
     },
     "execution_count": 122,
     "metadata": {},
     "output_type": "execute_result"
    }
   ],
   "source": [
    "v =torch.tensor([0.1,1.0,0.1],dtype=torch.float32)\n",
    "v"
   ]
  },
  {
   "cell_type": "code",
   "execution_count": 143,
   "id": "60c11570",
   "metadata": {},
   "outputs": [
    {
     "ename": "RuntimeError",
     "evalue": "element 0 of tensors does not require grad and does not have a grad_fn",
     "output_type": "error",
     "traceback": [
      "\u001b[1;31m---------------------------------------------------------------------------\u001b[0m",
      "\u001b[1;31mRuntimeError\u001b[0m                              Traceback (most recent call last)",
      "\u001b[1;32m<ipython-input-143-a21bcdc39797>\u001b[0m in \u001b[0;36m<module>\u001b[1;34m\u001b[0m\n\u001b[0;32m      1\u001b[0m \u001b[0mb\u001b[0m\u001b[1;33m=\u001b[0m\u001b[0my\u001b[0m\u001b[1;33m*\u001b[0m\u001b[0my\u001b[0m\u001b[1;33m\u001b[0m\u001b[1;33m\u001b[0m\u001b[0m\n\u001b[0;32m      2\u001b[0m \u001b[1;33m\u001b[0m\u001b[0m\n\u001b[1;32m----> 3\u001b[1;33m \u001b[0mb\u001b[0m\u001b[1;33m.\u001b[0m\u001b[0mbackward\u001b[0m\u001b[1;33m(\u001b[0m\u001b[0mv\u001b[0m\u001b[1;33m)\u001b[0m\u001b[1;33m\u001b[0m\u001b[1;33m\u001b[0m\u001b[0m\n\u001b[0m\u001b[0;32m      4\u001b[0m \u001b[0mx\u001b[0m\u001b[1;33m.\u001b[0m\u001b[0mgrad\u001b[0m\u001b[1;33m\u001b[0m\u001b[1;33m\u001b[0m\u001b[0m\n",
      "\u001b[1;32mD:\\ProgramData\\Anaconda3\\lib\\site-packages\\torch\\tensor.py\u001b[0m in \u001b[0;36mbackward\u001b[1;34m(self, gradient, retain_graph, create_graph)\u001b[0m\n\u001b[0;32m    116\u001b[0m                 \u001b[0mproducts\u001b[0m\u001b[1;33m.\u001b[0m \u001b[0mDefaults\u001b[0m \u001b[0mto\u001b[0m\u001b[0;31m \u001b[0m\u001b[0;31m`\u001b[0m\u001b[0;31m`\u001b[0m\u001b[1;32mFalse\u001b[0m\u001b[0;31m`\u001b[0m\u001b[0;31m`\u001b[0m\u001b[1;33m.\u001b[0m\u001b[1;33m\u001b[0m\u001b[1;33m\u001b[0m\u001b[0m\n\u001b[0;32m    117\u001b[0m         \"\"\"\n\u001b[1;32m--> 118\u001b[1;33m         \u001b[0mtorch\u001b[0m\u001b[1;33m.\u001b[0m\u001b[0mautograd\u001b[0m\u001b[1;33m.\u001b[0m\u001b[0mbackward\u001b[0m\u001b[1;33m(\u001b[0m\u001b[0mself\u001b[0m\u001b[1;33m,\u001b[0m \u001b[0mgradient\u001b[0m\u001b[1;33m,\u001b[0m \u001b[0mretain_graph\u001b[0m\u001b[1;33m,\u001b[0m \u001b[0mcreate_graph\u001b[0m\u001b[1;33m)\u001b[0m\u001b[1;33m\u001b[0m\u001b[1;33m\u001b[0m\u001b[0m\n\u001b[0m\u001b[0;32m    119\u001b[0m \u001b[1;33m\u001b[0m\u001b[0m\n\u001b[0;32m    120\u001b[0m     \u001b[1;32mdef\u001b[0m \u001b[0mregister_hook\u001b[0m\u001b[1;33m(\u001b[0m\u001b[0mself\u001b[0m\u001b[1;33m,\u001b[0m \u001b[0mhook\u001b[0m\u001b[1;33m)\u001b[0m\u001b[1;33m:\u001b[0m\u001b[1;33m\u001b[0m\u001b[1;33m\u001b[0m\u001b[0m\n",
      "\u001b[1;32mD:\\ProgramData\\Anaconda3\\lib\\site-packages\\torch\\autograd\\__init__.py\u001b[0m in \u001b[0;36mbackward\u001b[1;34m(tensors, grad_tensors, retain_graph, create_graph, grad_variables)\u001b[0m\n\u001b[0;32m     91\u001b[0m     Variable._execution_engine.run_backward(\n\u001b[0;32m     92\u001b[0m         \u001b[0mtensors\u001b[0m\u001b[1;33m,\u001b[0m \u001b[0mgrad_tensors\u001b[0m\u001b[1;33m,\u001b[0m \u001b[0mretain_graph\u001b[0m\u001b[1;33m,\u001b[0m \u001b[0mcreate_graph\u001b[0m\u001b[1;33m,\u001b[0m\u001b[1;33m\u001b[0m\u001b[1;33m\u001b[0m\u001b[0m\n\u001b[1;32m---> 93\u001b[1;33m         allow_unreachable=True)  # allow_unreachable flag\n\u001b[0m\u001b[0;32m     94\u001b[0m \u001b[1;33m\u001b[0m\u001b[0m\n\u001b[0;32m     95\u001b[0m \u001b[1;33m\u001b[0m\u001b[0m\n",
      "\u001b[1;31mRuntimeError\u001b[0m: element 0 of tensors does not require grad and does not have a grad_fn"
     ]
    }
   ],
   "source": [
    "b=y*y\n",
    "\n",
    "b.backward(v)\n",
    "x.grad"
   ]
  },
  {
   "cell_type": "markdown",
   "id": "7daf7663",
   "metadata": {},
   "source": [
    "## caculate with no gradient"
   ]
  },
  {
   "cell_type": "code",
   "execution_count": 130,
   "id": "85a7dea7",
   "metadata": {},
   "outputs": [
    {
     "data": {
      "text/plain": [
       "tensor([0.7725, 0.3541, 0.0081], requires_grad=True)"
      ]
     },
     "execution_count": 130,
     "metadata": {},
     "output_type": "execute_result"
    }
   ],
   "source": [
    "x = torch.randn(3, requires_grad=True)\n",
    "x\n",
    "#x.requires_grad_(False)\n",
    "#x.detach()\n",
    "#with torch.no_grad()"
   ]
  },
  {
   "cell_type": "code",
   "execution_count": 132,
   "id": "909e4a45",
   "metadata": {},
   "outputs": [
    {
     "data": {
      "text/plain": [
       "tensor([0.7725, 0.3541, 0.0081])"
      ]
     },
     "execution_count": 132,
     "metadata": {},
     "output_type": "execute_result"
    }
   ],
   "source": [
    "x.requires_grad_(False)"
   ]
  },
  {
   "cell_type": "code",
   "execution_count": 139,
   "id": "7c393e3c",
   "metadata": {},
   "outputs": [
    {
     "data": {
      "text/plain": [
       "tensor([-2.0816, -0.4068, -0.2405])"
      ]
     },
     "execution_count": 139,
     "metadata": {},
     "output_type": "execute_result"
    }
   ],
   "source": [
    "x = torch.randn(3, requires_grad=True)\n",
    "y=x.detach()\n",
    "y"
   ]
  },
  {
   "cell_type": "code",
   "execution_count": 140,
   "id": "f9dd0bf4",
   "metadata": {},
   "outputs": [
    {
     "data": {
      "text/plain": [
       "tensor([3.3204, 2.7357, 1.3388])"
      ]
     },
     "execution_count": 140,
     "metadata": {},
     "output_type": "execute_result"
    }
   ],
   "source": [
    "x = torch.randn(3, requires_grad=True)\n",
    "with torch.no_grad():\n",
    "    y=x+2\n",
    "y"
   ]
  },
  {
   "cell_type": "code",
   "execution_count": 142,
   "id": "93c4d27b",
   "metadata": {},
   "outputs": [
    {
     "data": {
      "text/plain": [
       "tensor([ 1.3204,  0.7357, -0.6612], requires_grad=True)"
      ]
     },
     "execution_count": 142,
     "metadata": {},
     "output_type": "execute_result"
    }
   ],
   "source": [
    "x"
   ]
  },
  {
   "cell_type": "markdown",
   "id": "3039a53a",
   "metadata": {},
   "source": [
    "## accumulate the gradient"
   ]
  },
  {
   "cell_type": "code",
   "execution_count": 146,
   "id": "52b7c185",
   "metadata": {},
   "outputs": [
    {
     "data": {
      "text/plain": [
       "tensor([3., 3., 3., 3.])"
      ]
     },
     "execution_count": 146,
     "metadata": {},
     "output_type": "execute_result"
    }
   ],
   "source": [
    "w = torch.ones(4, requires_grad=True)\n",
    "for epoch in range(1):\n",
    "    model_output =  (w*3).sum()\n",
    "    model_output.backward()\n",
    "    \n",
    "w.grad    \n",
    "    "
   ]
  },
  {
   "cell_type": "code",
   "execution_count": 148,
   "id": "f1c71c41",
   "metadata": {},
   "outputs": [
    {
     "data": {
      "text/plain": [
       "tensor([6., 6., 6., 6.])"
      ]
     },
     "execution_count": 148,
     "metadata": {},
     "output_type": "execute_result"
    }
   ],
   "source": [
    "w = torch.ones(4, requires_grad=True)\n",
    "for epoch in range(2):\n",
    "    model_output =  (w*3).sum()\n",
    "    model_output.backward()\n",
    "    \n",
    "w.grad  "
   ]
  },
  {
   "cell_type": "code",
   "execution_count": 150,
   "id": "57f8e859",
   "metadata": {},
   "outputs": [
    {
     "data": {
      "text/plain": [
       "tensor([9., 9., 9., 9.])"
      ]
     },
     "execution_count": 150,
     "metadata": {},
     "output_type": "execute_result"
    }
   ],
   "source": [
    "w = torch.ones(4, requires_grad=True)\n",
    "for epoch in range(3):\n",
    "    model_output =  (w*3).sum()\n",
    "    model_output.backward()\n",
    "    \n",
    "w.grad  "
   ]
  },
  {
   "cell_type": "code",
   "execution_count": 153,
   "id": "73a46dc1",
   "metadata": {},
   "outputs": [
    {
     "name": "stdout",
     "output_type": "stream",
     "text": [
      "tensor([3., 3., 3., 3.])\n",
      "tensor([3., 3., 3., 3.])\n",
      "tensor([3., 3., 3., 3.])\n"
     ]
    }
   ],
   "source": [
    "w = torch.ones(4, requires_grad=True)\n",
    "for epoch in range(3):\n",
    "    model_output =  (w*3).sum()\n",
    "    model_output.backward()\n",
    "    print(w.grad )\n",
    "    w.grad.zero_()\n",
    " "
   ]
  },
  {
   "cell_type": "code",
   "execution_count": 156,
   "id": "1fde2af3",
   "metadata": {},
   "outputs": [],
   "source": [
    "#opt = torch.optim.SGD(w,lr=0.01)\n",
    "#opt.step()\n",
    "#opt.zero_grad()\n",
    "#we should also prevent the optimizer sumup the gradient too"
   ]
  },
  {
   "cell_type": "markdown",
   "id": "efdfb8a5",
   "metadata": {},
   "source": [
    "![VS](figures/cr.PNG)"
   ]
  },
  {
   "cell_type": "markdown",
   "id": "0d4f9289",
   "metadata": {},
   "source": [
    "![VS](figures/crbp.PNG)"
   ]
  },
  {
   "cell_type": "markdown",
   "id": "644e61b1",
   "metadata": {},
   "source": [
    "![VS](figures/crbp1.PNG)"
   ]
  },
  {
   "cell_type": "code",
   "execution_count": 6,
   "id": "57750c2a",
   "metadata": {},
   "outputs": [
    {
     "data": {
      "text/plain": [
       "tensor(1., grad_fn=<PowBackward0>)"
      ]
     },
     "execution_count": 6,
     "metadata": {},
     "output_type": "execute_result"
    }
   ],
   "source": [
    "import torch\n",
    "x= torch.tensor(1.0)\n",
    "y= torch.tensor(2.0)\n",
    "\n",
    "w= torch.tensor(1.0, requires_grad = True)\n",
    "\n",
    "#foward pass and compute loss\n",
    "y_hat = w*x\n",
    "loss = (y_hat-y)**2\n",
    "loss"
   ]
  },
  {
   "cell_type": "code",
   "execution_count": 7,
   "id": "0ce67fa5",
   "metadata": {},
   "outputs": [
    {
     "data": {
      "text/plain": [
       "tensor(-2.)"
      ]
     },
     "execution_count": 7,
     "metadata": {},
     "output_type": "execute_result"
    }
   ],
   "source": [
    "#backward pass\n",
    "loss.backward()\n",
    "w.grad"
   ]
  },
  {
   "cell_type": "code",
   "execution_count": 8,
   "id": "91fb8a1c",
   "metadata": {},
   "outputs": [],
   "source": [
    "#update weight"
   ]
  },
  {
   "cell_type": "markdown",
   "id": "cc4e5848",
   "metadata": {},
   "source": [
    "![VS](figures/man.PNG)"
   ]
  },
  {
   "cell_type": "code",
   "execution_count": 30,
   "id": "7e21eb69",
   "metadata": {},
   "outputs": [
    {
     "name": "stdout",
     "output_type": "stream",
     "text": [
      "Prediection before training:f(5) = 0.00000000\n"
     ]
    }
   ],
   "source": [
    "import numpy as np\n",
    "\n",
    "#f=w*x\n",
    "# =2*x\n",
    "#X= np.array([1,2,3,4],dtype=np.float32)\n",
    "#Y= np.array([2,4,6,8],dtype=np.float32)\n",
    "X= torch.tensor([1,2,3,4],dtype=torch.float32)\n",
    "Y= torch.tensor([2,4,6,8],dtype=torch.float32)\n",
    "w =0.0\n",
    "\n",
    "#model prediction\n",
    "\n",
    "def forward(x):\n",
    "     return w*x\n",
    "\n",
    "\n",
    "#loss =MSE\n",
    "\n",
    "def loss(y, y_predicted):\n",
    "    return ((y_predicted-y)**2).mean()\n",
    "\n",
    "     \n",
    "\n",
    "\n",
    "\n",
    "#gradient\n",
    "#MSE = 1/N*(w*x-y)**2\n",
    "#dJ/dw = 1/N 2x(w*x-y)\n",
    "\n",
    "def gradient(x,y,y_prediected):\n",
    "    return np.dot(2*x, y_pred-y).mean()\n",
    "a = forward(5)\n",
    "print(f'Prediection before training:f(5) = {a:.8f}')"
   ]
  },
  {
   "cell_type": "code",
   "execution_count": 31,
   "id": "74a61d0a",
   "metadata": {},
   "outputs": [
    {
     "name": "stdout",
     "output_type": "stream",
     "text": [
      "epoch 1:w = 12.000, loss =30.00000000\n",
      "epoch 2:w = -48.000, loss =750.00000000\n",
      "epoch 3:w = 252.000, loss =18750.00000000\n",
      "epoch 4:w = -1248.000, loss =468750.00000000\n",
      "epoch 5:w = 6252.000, loss =11718750.00000000\n",
      "epoch 6:w = -31248.000, loss =292968768.00000000\n",
      "epoch 7:w = 156252.000, loss =7324218368.00000000\n",
      "epoch 8:w = -781248.000, loss =183105470464.00000000\n",
      "epoch 9:w = 3906252.000, loss =4577636646912.00000000\n",
      "epoch 10:w = -19531247.200, loss =114440913551360.00000000\n",
      "Prediection before training:f(5) = {forward(5):.3f}\n"
     ]
    }
   ],
   "source": [
    "\n",
    "\n",
    "#Training\n",
    "learning_rate=0.1\n",
    "n_iters =10\n",
    "\n",
    "for epoch in range(n_iters):\n",
    "    #prediction = forward pass\n",
    "    y_pred = forward(X)\n",
    "    \n",
    "    #loss\n",
    "    l= loss(Y,y_pred)\n",
    "    \n",
    "    #gradients\n",
    "    dw = gradient(X,Y,y_pred)\n",
    "    \n",
    "    # update weights\n",
    "    w-=learning_rate*dw\n",
    "    \n",
    "    if epoch%1 == 0:\n",
    "        print(f'epoch {epoch+1}:w = {w:.3f}, loss ={l:.8f}')\n",
    "        \n",
    "print(f'Prediection before training:f(5) = {forward(5):.3f}')"
   ]
  }
 ],
 "metadata": {
  "kernelspec": {
   "display_name": "Python 3 (ipykernel)",
   "language": "python",
   "name": "python3"
  },
  "language_info": {
   "codemirror_mode": {
    "name": "ipython",
    "version": 3
   },
   "file_extension": ".py",
   "mimetype": "text/x-python",
   "name": "python",
   "nbconvert_exporter": "python",
   "pygments_lexer": "ipython3",
   "version": "3.7.11"
  }
 },
 "nbformat": 4,
 "nbformat_minor": 5
}
