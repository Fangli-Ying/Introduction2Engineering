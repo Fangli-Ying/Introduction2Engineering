{
 "cells": [
  {
   "cell_type": "markdown",
   "id": "3c14b267",
   "metadata": {},
   "source": [
    "## 10 DBSCAN"
   ]
  },
  {
   "cell_type": "markdown",
   "id": "0725db73",
   "metadata": {},
   "source": [
    "### Introduction"
   ]
  },
  {
   "cell_type": "markdown",
   "id": "5c8d88a0",
   "metadata": {},
   "source": [
    "Density Based Spatial Clustering of Applications with Noise (abbreviated as DBSCAN) is a density-based unsupervised clustering algorithm. In DBSCAN, clusters are formed from dense regions and separated by regions of no or low densities.\n",
    "\n",
    "DBSCAN computes nearest neighbor graphs and creates arbitrary-shaped clusters in datasets (which may contain noise or outliers) as opposed to k-means clustering, which typically generates spherical-shaped clusters\n",
    "Unlike k-means clustering, DBSCAN does not require specifying the number of clusters initially. However, DBSCAN requires two parameters viz. the radius of neighborhoods for a given data point p (eps or ε) and the minimum number of data points in a given ε-neighborhood to form clusters (minPts).\n",
    "\n",
    "DBSCAN is also useful for clustering non-linear datasets."
   ]
  },
  {
   "cell_type": "markdown",
   "id": "8c96ddeb",
   "metadata": {},
   "source": [
    "- DBSCAN [DBSCAN](https://www.youtube.com/watch?v=RDZUdRSDOok)\n",
    "- DBSCAN [DBSCAN vs Kmean](https://www.youtube.com/watch?v=8EvtpHeUwiw)"
   ]
  },
  {
   "cell_type": "markdown",
   "id": "4b42e86f",
   "metadata": {},
   "source": [
    "### Why do we need DBSCAN Clustering?\n",
    "\n",
    "This is a pertinent question. We already have basic clustering algorithms, so why should you spend your time and energy learning about yet another clustering method? It’s a fair question so let me answer that before I talk about what DBSCAN clustering is.\n",
    "\n",
    "First, let’s clear up the role of clustering.\n",
    "\n",
    "Clustering is an unsupervised learning technique where we try to group the data points based on specific characteristics. There are various clustering algorithms with K-Means and Hierarchical being the most used ones. Some of the use cases of clustering algorithms include:\n",
    "\n",
    "Document Clustering\n",
    "Recommendation Engine\n",
    "Image Segmentation\n",
    "Market Segmentation\n",
    "Search Result Grouping\n",
    "and Anomaly Detection.\n",
    "All these problems use the concept of clustering to reach their end goal. Therefore, it is crucial to understand the concept of clustering. But here’s the issue with these two clustering algorithms.\n",
    "\n",
    "K-Means and Hierarchical Clustering both fail in creating clusters of arbitrary shapes. They are not able to form clusters based on varying densities. That’s why we need DBSCAN clustering.\n",
    "\n",
    "Let’s try to understand it with an example. Here we have data points densely present in the form of concentric circles:\n",
    "\n"
   ]
  },
  {
   "cell_type": "markdown",
   "id": "1e6c06c6",
   "metadata": {},
   "source": [
    "![Dim](figures/db2-1.webp)"
   ]
  },
  {
   "cell_type": "markdown",
   "id": "0dbee98b",
   "metadata": {},
   "source": [
    "We can see three different dense clusters in the form of concentric circles with some noise here. Now, let’s run K-Means and Hierarchical clustering algorithms and see how they cluster these data points."
   ]
  },
  {
   "cell_type": "markdown",
   "id": "309c0ad4",
   "metadata": {},
   "source": [
    "![Dim](figures/db7-1.webp)"
   ]
  },
  {
   "cell_type": "markdown",
   "id": "96f825cf",
   "metadata": {},
   "source": [
    "You might be wondering why there are four colors in the graph? As I said earlier, this data contains noise too, therefore, I have taken noise as a different cluster which is represented by the purple color. Sadly, both of them failed to cluster the data points. Also, they were not able to properly detect the noise present in the dataset. Now, let’s take a look at the results from DBSCAN clustering."
   ]
  },
  {
   "cell_type": "markdown",
   "id": "e59824de",
   "metadata": {},
   "source": [
    "![Dim](figures/dbscan.png)"
   ]
  },
  {
   "cell_type": "markdown",
   "id": "1eaf7671",
   "metadata": {},
   "source": [
    "Awesome! DBSCAN is not just able to cluster the data points correctly, but it also perfectly detects noise in the dataset."
   ]
  },
  {
   "cell_type": "markdown",
   "id": "4f28c924",
   "metadata": {},
   "source": [
    "> It was proposed by Martin Ester et al. in 1996. DBSCAN is a density-based clustering algorithm that works on the assumption that clusters are dense regions in space separated by regions of lower density."
   ]
  },
  {
   "cell_type": "markdown",
   "id": "0f9f23cc",
   "metadata": {},
   "source": [
    "Here, we have some data points represented by grey color. Let’s see how DBSCAN clusters these data points.\n",
    "\n",
    "![Dim](figures/db25.webp)\n",
    "\n",
    "DBSCAN creates a circle of epsilon radius around every data point and classifies them into Core point, Border point, and Noise. A data point is a Core point if the circle around it contains at least ‘minPoints’ number of points. If the number of points is less than minPoints, then it is classified as Border Point, and if there are no other data points around any data point within epsilon radius, then it treated as Noise.\n",
    "\n",
    "![Dim](figures/db26.webp)"
   ]
  },
  {
   "cell_type": "markdown",
   "id": "af66f87c",
   "metadata": {},
   "source": [
    "The above figure shows us a cluster created by DBCAN with minPoints = 3. Here, we draw a circle of equal radius epsilon around every data point. These two parameters help in creating spatial clusters.\n",
    "\n",
    "All the data points with at least 3 points in the circle including itself are considered as Core points represented by red color. All the data points with less than 3 but greater than 1 point in the circle including itself are considered as Border points. They are represented by yellow color. Finally, data points with no point other than itself present inside the circle are considered as Noise represented by the purple color.\n",
    "\n",
    "For locating data points in space, DBSCAN uses Euclidean distance, although other methods can also be used (like great circle distance for geographical data). It also needs to scan through the entire dataset once, whereas in other algorithms we have to do it multiple times."
   ]
  },
  {
   "cell_type": "markdown",
   "id": "811a2994",
   "metadata": {},
   "source": [
    "### Reachability and Connectivity\n",
    "\n",
    "These are the two concepts that you need to understand before moving further. Reachability states if a data point can be accessed from another data point directly or indirectly, whereas Connectivity states whether two data points belong to the same cluster or not. In terms of reachability and connectivity, two points in DBSCAN can be referred to as:\n",
    "\n",
    "Directly Density-Reachable\n",
    "Density-Reachable\n",
    "Density-Connected\n",
    "Let’s understand what they are.\n",
    "\n",
    "A point X is directly density-reachable from point Y w.r.t epsilon, minPoints if,\n",
    "\n",
    "X belongs to the neighborhood of Y, i.e, dist(X, Y) <= epsilon\n",
    "Y is a core point\n"
   ]
  },
  {
   "cell_type": "markdown",
   "id": "1a767a9a",
   "metadata": {},
   "source": [
    "![Dim](figures/db10.png)"
   ]
  },
  {
   "cell_type": "markdown",
   "id": "09bb933d",
   "metadata": {},
   "source": [
    "Here, X is directly density-reachable from Y, but vice versa is not valid.\n",
    "\n",
    "A point X is density-reachable from point Y w.r.t epsilon, minPoints if there is a chain of points p1, p2, p3, …, pn and p1=X and pn=Y such that pi+1 is directly density-reachable from pi."
   ]
  },
  {
   "cell_type": "markdown",
   "id": "12f3e795",
   "metadata": {},
   "source": [
    "![Dim](figures/db11.png)"
   ]
  },
  {
   "cell_type": "markdown",
   "id": "81a2ce5c",
   "metadata": {},
   "source": [
    "Here, X is density-reachable from Y with X being directly density-reachable from P2, P2 from P3, and P3 from Y. But, the inverse of this is not valid.\n",
    "\n",
    "A point X is density-connected from point Y w.r.t epsilon and minPoints if there exists a point O such that both X and Y are density-reachable from O w.r.t to epsilon and minPoints."
   ]
  },
  {
   "cell_type": "markdown",
   "id": "62075ff9",
   "metadata": {},
   "source": [
    "![Dim](figures/db12.png)"
   ]
  },
  {
   "cell_type": "markdown",
   "id": "0a7f5903",
   "metadata": {},
   "source": [
    "Here, both X and Y are density-reachable from O, therefore, we can say that X is density-connected from Y."
   ]
  },
  {
   "cell_type": "markdown",
   "id": "340ab30a",
   "metadata": {},
   "source": [
    "### Parameters\n",
    "\n",
    "DBSCAN algorithm works with two parameters.\n",
    "\n",
    "These parameters are:\n",
    "\n",
    "- Epsilon (Eps): This is the least distance required for two points to be termed as a neighbor. This distance is known as Epsilon (Eps). Thus we consider Eps as a threshold for considering two points as neighbors, i.e., if the distance between two points is utmost Eps, then we consider the two points to be neighbors.\n",
    "\n",
    "- MinPoints: This refers to the minimum number of points needed to construct a cluster. We consider MinPoints as a threshold for considering a cluster as a cluster. A cluster is only recognized if the number of points is greater than or equal to the MinPts.\n",
    "\n",
    "We classify data points into three categories based on the two parameters above. So let us look at these categories.\n",
    "\n"
   ]
  },
  {
   "cell_type": "markdown",
   "id": "c9259f0b",
   "metadata": {},
   "source": [
    "### Types of data points in a DBSCAN clustering\n",
    "After the DBSCAN clustering is complete, we end up with three types of data points as follows:\n",
    "\n",
    "- Core: This is a point from which the two parameters above are fully defined, i.e., a point with at least Minpoints within the Eps distance from itself.\n",
    "- Border: This is any data point that is not a core point, but it has at least one Core point within Eps distance from itself.\n",
    "- Noise: This is a point with less than Minpoints within distance Eps from itself. Thus, it’s not a Core or a Border.\n",
    "Let’s now look at the algorithmic steps of DBSCAN clustering."
   ]
  },
  {
   "cell_type": "code",
   "execution_count": 1,
   "id": "8497e677",
   "metadata": {},
   "outputs": [
    {
     "data": {
      "text/plain": [
       "<matplotlib.collections.PathCollection at 0x16b74efb448>"
      ]
     },
     "execution_count": 1,
     "metadata": {},
     "output_type": "execute_result"
    }
   ],
   "source": [
    "\n",
    "# importing plotting library \n",
    "import matplotlib.pyplot as plt\n",
    "# Create Sample data\n",
    "from sklearn.datasets import make_moons\n",
    "X, y= make_moons(n_samples=500, shuffle=True, noise=0.1, random_state=20)\n",
    "plt.scatter(x= X[:,0], y= X[:,1])"
   ]
  },
  {
   "cell_type": "code",
   "execution_count": 4,
   "id": "25283ec5",
   "metadata": {},
   "outputs": [
    {
     "name": "stderr",
     "output_type": "stream",
     "text": [
      "D:\\ProgramData\\Anaconda3\\lib\\site-packages\\pandas\\compat\\_optional.py:138: UserWarning: Pandas requires version '2.7.0' or newer of 'numexpr' (version '2.6.9' currently installed).\n",
      "  warnings.warn(msg, UserWarning)\n"
     ]
    },
    {
     "data": {
      "text/html": [
       "<div>\n",
       "<style scoped>\n",
       "    .dataframe tbody tr th:only-of-type {\n",
       "        vertical-align: middle;\n",
       "    }\n",
       "\n",
       "    .dataframe tbody tr th {\n",
       "        vertical-align: top;\n",
       "    }\n",
       "\n",
       "    .dataframe thead th {\n",
       "        text-align: right;\n",
       "    }\n",
       "</style>\n",
       "<table border=\"1\" class=\"dataframe\">\n",
       "  <thead>\n",
       "    <tr style=\"text-align: right;\">\n",
       "      <th></th>\n",
       "      <th>score</th>\n",
       "      <th>parameters</th>\n",
       "    </tr>\n",
       "  </thead>\n",
       "  <tbody>\n",
       "    <tr>\n",
       "      <th>0</th>\n",
       "      <td>0.333368</td>\n",
       "      <td>eps:0.2 min_sample :3</td>\n",
       "    </tr>\n",
       "  </tbody>\n",
       "</table>\n",
       "</div>"
      ],
      "text/plain": [
       "      score             parameters\n",
       "0  0.333368  eps:0.2 min_sample :3"
      ]
     },
     "execution_count": 4,
     "metadata": {},
     "output_type": "execute_result"
    }
   ],
   "source": [
    "import numpy as np\n",
    "import pandas as pd\n",
    "from sklearn.metrics import silhouette_score\n",
    "from sklearn.cluster import DBSCAN\n",
    " \n",
    "# Defining the list of hyperparameters to try\n",
    "eps_list=np.arange(start=0.1, stop=0.9, step=0.01)\n",
    "min_sample_list=np.arange(start=2, stop=5, step=1)\n",
    " \n",
    "# Creating empty data frame to store the silhouette scores for each trials\n",
    "silhouette_scores_data=pd.DataFrame()\n",
    " \n",
    "for eps_trial in eps_list:\n",
    "    for min_sample_trial in min_sample_list:\n",
    "        \n",
    "        # Generating DBSAN clusters\n",
    "        db = DBSCAN(eps=eps_trial, min_samples=min_sample_trial)\n",
    "        \n",
    "        if(len(np.unique(db.fit_predict(X))) > 1):\n",
    "            sil_score=silhouette_score(X, db.fit_predict(X))\n",
    "        else:\n",
    "            continue\n",
    "        trial_parameters=\"eps:\" + str(eps_trial.round(1)) +\" min_sample :\" + str(min_sample_trial)\n",
    "        \n",
    "        silhouette_scores_data=silhouette_scores_data.append(pd.DataFrame(data=[[sil_score,trial_parameters]], columns=[\"score\", \"parameters\"]))\n",
    " \n",
    "# Finding out the best hyperparameters with highest Score\n",
    "silhouette_scores_data.sort_values(by='score', ascending=False).head(1)"
   ]
  },
  {
   "cell_type": "code",
   "execution_count": 5,
   "id": "470b2ece",
   "metadata": {},
   "outputs": [
    {
     "data": {
      "text/plain": [
       "<matplotlib.collections.PathCollection at 0x16b06851148>"
      ]
     },
     "execution_count": 5,
     "metadata": {},
     "output_type": "execute_result"
    },
    {
     "data": {
      "image/png": "[encoded data removed]",
      "text/plain": [
       "<Figure size 432x288 with 1 Axes>"
      ]
     },
     "metadata": {
      "filenames": {
       "image/png": "C:\\Users\\msipc\\Introduction2Engineering\\_build\\jupyter_execute\\10_DBSCAN_25_1.png"
      },
      "needs_background": "light"
     },
     "output_type": "display_data"
    }
   ],
   "source": [
    "\n",
    "# DBSCAN Clustering\n",
    "from sklearn.cluster import DBSCAN\n",
    "db = DBSCAN(eps=0.18, min_samples=2)\n",
    "# Plotting the clusters\n",
    "plt.scatter(x= X[:,0], y= X[:,1], c=db.fit_predict(X))"
   ]
  }
 ],
 "metadata": {
  "kernelspec": {
   "display_name": "Python 3 (ipykernel)",
   "language": "python",
   "name": "python3"
  },
  "language_info": {
   "codemirror_mode": {
    "name": "ipython",
    "version": 3
   },
   "file_extension": ".py",
   "mimetype": "text/x-python",
   "name": "python",
   "nbconvert_exporter": "python",
   "pygments_lexer": "ipython3",
   "version": "3.7.11"
  }
 },
 "nbformat": 4,
 "nbformat_minor": 5
}