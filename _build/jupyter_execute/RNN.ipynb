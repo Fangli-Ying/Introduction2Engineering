{
 "cells": [
  {
   "cell_type": "markdown",
   "id": "1f3b245a",
   "metadata": {},
   "source": [
    "# RNN and its applications"
   ]
  },
  {
   "cell_type": "markdown",
   "id": "0673b8e7",
   "metadata": {},
   "source": [
    "Recurrent Neural Networks (RNNs) are a form of machine learning algorithm that are ideal for sequential data such as text, time series, financial data, speech, audio, video among others."
   ]
  },
  {
   "cell_type": "markdown",
   "id": "80890af1",
   "metadata": {},
   "source": [
    "RNNs are ideal for solving problems where the sequence is more important than the individual items themselves."
   ]
  },
  {
   "cell_type": "markdown",
   "id": "854fddfc",
   "metadata": {},
   "source": [
    "An RNNs is essentially a fully connected neural network that contains a refactoring of some of its layers into a loop. That loop is typically an iteration over the addition or concatenation of two inputs, a matrix multiplication and a non-linear function.\n",
    "\n",
    "Among the text usages, the following tasks are among those RNNs perform well at:"
   ]
  },
  {
   "cell_type": "markdown",
   "id": "cfe89270",
   "metadata": {},
   "source": [
    "- Sequence labelling\n",
    "- Natural Language Processing (NLP) text classification\n",
    "- Natural Language Processing (NLP) text generation"
   ]
  },
  {
   "cell_type": "markdown",
   "id": "b2b2c422",
   "metadata": {},
   "source": [
    "RNNs effectively have an internal memory that allows the previous inputs to affect the subsequent predictions. It’s much easier to predict the next word in a sentence with more accuracy, if you know what the previous words were.\n",
    "\n",
    "Often with tasks well suited to RNNs, the sequence of the items is as or more important than the previous item in the sequence."
   ]
  },
  {
   "cell_type": "markdown",
   "id": "0c234c9a",
   "metadata": {},
   "source": [
    "# Natural Language Processing\n",
    "Natural Language Processing (NLP) is a sub-field of computer science and artificial intelligence, dealing with processing and generating natural language data. Although there is still research that is outside of the machine learning, most NLP is now based on language models produced by machine learning.\n",
    "\n",
    "NLP is a good use case for RNNs and is used in the article to explain how RNNs can be constructed."
   ]
  },
  {
   "cell_type": "markdown",
   "id": "3e9795cf",
   "metadata": {},
   "source": [
    "Language models\n",
    "The aim for a language model is to minimise how confused the model is having seen a given sequence of text.\n",
    "\n",
    "It is only necessary to train one language model per domain, as the language model encoder can be used for different purposes such as text generation and multiple different classifiers within that domain.\n",
    "\n",
    "As the longest part of training is usually creating the language model encoder, reusing the encoder can save significant training time."
   ]
  },
  {
   "cell_type": "markdown",
   "id": "ad95ecb2",
   "metadata": {},
   "source": [
    "# RNN for NLP\n"
   ]
  },
  {
   "cell_type": "markdown",
   "id": "7250a43e",
   "metadata": {},
   "source": [
    "Recurrent Neural Networks or RNN as they are called in short, are a very important variant of neural networks heavily used in Natural Language Processing."
   ]
  },
  {
   "cell_type": "markdown",
   "id": "d7dd52da",
   "metadata": {},
   "source": [
    "- Conceptually they differ from a standard neural network as the standard input in a RNN is a word instead of the entire sample as in the case of a standard neural network. This gives the flexibility for the network to work with varying lengths of sentences, something which cannot be achieved in a standard neural network due to it’s fixed structure. It also provides an additional advantage of sharing features learned across different positions of text which can not be obtained in a standard neural network."
   ]
  },
  {
   "cell_type": "markdown",
   "id": "249537dc",
   "metadata": {},
   "source": [
    "A RNN treats each word of a sentence as a separate input occurring at time ‘t’ and uses the activation value at ‘t-1’ also, as an input in addition to the input at time ‘t’. The diagram below shows a detailed structure of an RNN architecture."
   ]
  },
  {
   "cell_type": "markdown",
   "id": "da8f6651",
   "metadata": {},
   "source": [
    "![RNN](figures/rnn.jpeg)"
   ]
  },
  {
   "cell_type": "markdown",
   "id": "1560d233",
   "metadata": {},
   "source": [
    "Apart from the architecture mentioned above there are three other types of architectures of RNN which are commonly used.\n",
    "\n",
    "- Many to One RNN : Many to one architecture refers to an RNN architecture where many inputs (Tx) are used to give one output (Ty). A suitable example for using such an architecture will be a classification task."
   ]
  },
  {
   "cell_type": "markdown",
   "id": "2d96d351",
   "metadata": {},
   "source": [
    "![RNN](figures/12n.jpeg)"
   ]
  },
  {
   "cell_type": "markdown",
   "id": "d2de9d94",
   "metadata": {},
   "source": [
    "In the image above H represents the output of the activation function.\n",
    "\n",
    "2. One to Many RNN: One to Many architecture refers to a situation where a RNN generates a series of output values based on a single input value. A prime example for using such an architecture will be a music generation task, where an input is a jounre or the first note."
   ]
  },
  {
   "cell_type": "markdown",
   "id": "836e8589",
   "metadata": {},
   "source": [
    "![RNN](figures/imgc.png)"
   ]
  },
  {
   "cell_type": "markdown",
   "id": "c9c97bb9",
   "metadata": {},
   "source": [
    "3. Many to Many Architecture (Tx not equals Ty): This architecture refers to where many inputs are read to produce many outputs, where the length of inputs is not equal to the length of outputs. A prime example for using such an architecture is machine translation tasks."
   ]
  },
  {
   "cell_type": "markdown",
   "id": "fbd8cff4",
   "metadata": {},
   "source": [
    "![RNN](figures/n2n.png)"
   ]
  },
  {
   "cell_type": "markdown",
   "id": "4f1f83bf",
   "metadata": {},
   "source": [
    "Encoder refers to the part of the network which reads the sentence to be translated, and, Decoder is the part of the network which translates the sentence into desired language.\n",
    "\n",
    "Limitations of RNN\n",
    "Apart from all of its usefulness RNN does have certain limitations major of which are :\n",
    "\n",
    "- Examples of RNN architecture stated above are capable of capturing the dependencies in only one direction of language. Basically in case of Natural Language Processing it assumes that the word coming after has no effect on the meaning of the word coming before. With our experience of languages we know that it is certainly not true.\n",
    "- RNN are also not very good in capturing long term dependencies and the problem of vanishing gradients resurface in RNN.\n",
    "Both these limitations give rise to new types of RNN architectures which are being discussed below."
   ]
  },
  {
   "cell_type": "markdown",
   "id": "b8ce2d4f",
   "metadata": {},
   "source": [
    "## Gated Recurrent Unit"
   ]
  },
  {
   "cell_type": "code",
   "execution_count": null,
   "id": "8758a591",
   "metadata": {},
   "outputs": [],
   "source": []
  },
  {
   "cell_type": "markdown",
   "id": "80779187",
   "metadata": {},
   "source": [
    "It is a modification in the basic recurrent unit which helps to capture long range dependencies and also help a lot in fixing vanishing gradient problem.\n",
    "For a more detailed explanation one can refer to https://towardsdatascience.com/understanding-gru-networks-2ef37df6c9be\n",
    "\n",
    "LSTM"
   ]
  },
  {
   "cell_type": "markdown",
   "id": "8b65cb29",
   "metadata": {},
   "source": [
    "![RNN](figures/GRU.png)"
   ]
  },
  {
   "cell_type": "markdown",
   "id": "5dcfc04d",
   "metadata": {},
   "source": [
    "## LSTM"
   ]
  },
  {
   "cell_type": "markdown",
   "id": "ebfe62b8",
   "metadata": {},
   "source": [
    "In LSTM architecture instead of having one update gate as in GRU there is an update gate and a forget gate.\n",
    "A more detailed explanation of LSTM is available at http://colah.github.io/posts/2015-08-Understanding-LSTMs/"
   ]
  },
  {
   "cell_type": "code",
   "execution_count": 1,
   "id": "9713e703",
   "metadata": {},
   "outputs": [
    {
     "name": "stderr",
     "output_type": "stream",
     "text": [
      "D:\\ProgramData\\Anaconda3\\lib\\site-packages\\pandas\\compat\\_optional.py:138: UserWarning: Pandas requires version '2.7.0' or newer of 'numexpr' (version '2.6.9' currently installed).\n",
      "  warnings.warn(msg, UserWarning)\n"
     ]
    }
   ],
   "source": [
    "# data: https://download.pytorch.org/tutorial/data.zip\n",
    "import io\n",
    "import os\n",
    "import unicodedata\n",
    "import string\n",
    "import glob\n",
    "\n",
    "import torch\n",
    "import random\n",
    "\n",
    "# alphabet small + capital letters + \" .,;'\"\n",
    "ALL_LETTERS = string.ascii_letters + \" .,;'\"\n",
    "N_LETTERS = len(ALL_LETTERS)\n",
    "\n",
    "# Turn a Unicode string to plain ASCII, thanks to https://stackoverflow.com/a/518232/2809427\n",
    "def unicode_to_ascii(s):\n",
    "    return ''.join(\n",
    "        c for c in unicodedata.normalize('NFD', s)\n",
    "        if unicodedata.category(c) != 'Mn'\n",
    "        and c in ALL_LETTERS\n",
    "    )\n",
    "\n",
    "def load_data():\n",
    "    # Build the category_lines dictionary, a list of names per language\n",
    "    category_lines = {}\n",
    "    all_categories = []\n",
    "    \n",
    "    def find_files(path):\n",
    "        return glob.glob(path)\n",
    "    \n",
    "    # Read a file and split into lines\n",
    "    def read_lines(filename):\n",
    "        lines = io.open(filename, encoding='utf-8').read().strip().split('\\n')\n",
    "        return [unicode_to_ascii(line) for line in lines]\n",
    "    \n",
    "    for filename in find_files('data/names/*.txt'):\n",
    "        category = os.path.splitext(os.path.basename(filename))[0]\n",
    "        all_categories.append(category)\n",
    "        \n",
    "        lines = read_lines(filename)\n",
    "        category_lines[category] = lines\n",
    "        \n",
    "    return category_lines, all_categories\n",
    "\n",
    "\n",
    "\n",
    "\"\"\"\n",
    "To represent a single letter, we use a “one-hot vector” of \n",
    "size <1 x n_letters>. A one-hot vector is filled with 0s\n",
    "except for a 1 at index of the current letter, e.g. \"b\" = <0 1 0 0 0 ...>.\n",
    "\n",
    "To make a word we join a bunch of those into a\n",
    "2D matrix <line_length x 1 x n_letters>.\n",
    "\n",
    "That extra 1 dimension is because PyTorch assumes\n",
    "everything is in batches - we’re just using a batch size of 1 here.\n",
    "\"\"\"\n",
    "\n",
    "# Find letter index from all_letters, e.g. \"a\" = 0\n",
    "def letter_to_index(letter):\n",
    "    return ALL_LETTERS.find(letter)\n",
    "\n",
    "# Just for demonstration, turn a letter into a <1 x n_letters> Tensor\n",
    "def letter_to_tensor(letter):\n",
    "    tensor = torch.zeros(1, N_LETTERS)\n",
    "    tensor[0][letter_to_index(letter)] = 1\n",
    "    return tensor\n",
    "\n",
    "# Turn a line into a <line_length x 1 x n_letters>,\n",
    "# or an array of one-hot letter vectors\n",
    "def line_to_tensor(line):\n",
    "    tensor = torch.zeros(len(line), 1, N_LETTERS)\n",
    "    for i, letter in enumerate(line):\n",
    "        tensor[i][0][letter_to_index(letter)] = 1\n",
    "    return tensor\n",
    "\n",
    "\n",
    "def random_training_example(category_lines, all_categories):\n",
    "    \n",
    "    def random_choice(a):\n",
    "        random_idx = random.randint(0, len(a) - 1)\n",
    "        return a[random_idx]\n",
    "    \n",
    "    category = random_choice(all_categories)\n",
    "    line = random_choice(category_lines[category])\n",
    "    category_tensor = torch.tensor([all_categories.index(category)], dtype=torch.long)\n",
    "    line_tensor = line_to_tensor(line)\n",
    "    return category, line, category_tensor, line_tensor"
   ]
  },
  {
   "cell_type": "code",
   "execution_count": 2,
   "id": "5b66d5de",
   "metadata": {},
   "outputs": [
    {
     "name": "stdout",
     "output_type": "stream",
     "text": [
      "abcdefghijklmnopqrstuvwxyzABCDEFGHIJKLMNOPQRSTUVWXYZ .,;'\n",
      "Slusarski\n",
      "['Abandonato', 'Abatangelo', 'Abatantuono', 'Abate', 'Abategiovanni']\n",
      "tensor([[0., 0., 0., 0., 0., 0., 0., 0., 0., 0., 0., 0., 0., 0., 0., 0., 0., 0.,\n",
      "         0., 0., 0., 0., 0., 0., 0., 0., 0., 0., 0., 0., 0., 0., 0., 0., 0., 1.,\n",
      "         0., 0., 0., 0., 0., 0., 0., 0., 0., 0., 0., 0., 0., 0., 0., 0., 0., 0.,\n",
      "         0., 0., 0.]])\n",
      "torch.Size([5, 1, 57])\n"
     ]
    }
   ],
   "source": [
    "print(ALL_LETTERS)\n",
    "print(unicode_to_ascii('Ślusàrski'))\n",
    "    \n",
    "category_lines, all_categories = load_data()\n",
    "print(category_lines['Italian'][:5])\n",
    "    \n",
    "print(letter_to_tensor('J')) # [1, 57]\n",
    "print(line_to_tensor('Jones').size()) # [5, 1, 57]"
   ]
  },
  {
   "cell_type": "code",
   "execution_count": 3,
   "id": "5d80e570",
   "metadata": {},
   "outputs": [
    {
     "ename": "ModuleNotFoundError",
     "evalue": "No module named 'utils'",
     "output_type": "error",
     "traceback": [
      "\u001b[1;31m---------------------------------------------------------------------------\u001b[0m",
      "\u001b[1;31mModuleNotFoundError\u001b[0m                       Traceback (most recent call last)",
      "\u001b[1;32m<ipython-input-3-b882a226ed61>\u001b[0m in \u001b[0;36m<module>\u001b[1;34m\u001b[0m\n\u001b[0;32m      3\u001b[0m \u001b[1;32mimport\u001b[0m \u001b[0mmatplotlib\u001b[0m\u001b[1;33m.\u001b[0m\u001b[0mpyplot\u001b[0m \u001b[1;32mas\u001b[0m \u001b[0mplt\u001b[0m\u001b[1;33m\u001b[0m\u001b[1;33m\u001b[0m\u001b[0m\n\u001b[0;32m      4\u001b[0m \u001b[1;33m\u001b[0m\u001b[0m\n\u001b[1;32m----> 5\u001b[1;33m \u001b[1;32mfrom\u001b[0m \u001b[0mutils\u001b[0m \u001b[1;32mimport\u001b[0m \u001b[0mALL_LETTERS\u001b[0m\u001b[1;33m,\u001b[0m \u001b[0mN_LETTERS\u001b[0m\u001b[1;33m\u001b[0m\u001b[1;33m\u001b[0m\u001b[0m\n\u001b[0m\u001b[0;32m      6\u001b[0m \u001b[1;32mfrom\u001b[0m \u001b[0mutils\u001b[0m \u001b[1;32mimport\u001b[0m \u001b[0mload_data\u001b[0m\u001b[1;33m,\u001b[0m \u001b[0mletter_to_tensor\u001b[0m\u001b[1;33m,\u001b[0m \u001b[0mline_to_tensor\u001b[0m\u001b[1;33m,\u001b[0m \u001b[0mrandom_training_example\u001b[0m\u001b[1;33m\u001b[0m\u001b[1;33m\u001b[0m\u001b[0m\n\u001b[0;32m      7\u001b[0m \u001b[1;33m\u001b[0m\u001b[0m\n",
      "\u001b[1;31mModuleNotFoundError\u001b[0m: No module named 'utils'"
     ]
    }
   ],
   "source": [
    "import torch\n",
    "import torch.nn as nn \n",
    "import matplotlib.pyplot as plt \n",
    "\n",
    "from utils import ALL_LETTERS, N_LETTERS\n",
    "from utils import load_data, letter_to_tensor, line_to_tensor, random_training_example\n",
    "\n",
    "\n",
    "class RNN(nn.Module):\n",
    "    # implement RNN from scratch rather than using nn.RNN\n",
    "    def __init__(self, input_size, hidden_size, output_size):\n",
    "        super(RNN, self).__init__()\n",
    "        \n",
    "        self.hidden_size = hidden_size\n",
    "        self.i2h = nn.Linear(input_size + hidden_size, hidden_size)\n",
    "        self.i2o = nn.Linear(input_size + hidden_size, output_size)\n",
    "        self.softmax = nn.LogSoftmax(dim=1)\n",
    "        \n",
    "    def forward(self, input_tensor, hidden_tensor):\n",
    "        combined = torch.cat((input_tensor, hidden_tensor), 1)\n",
    "        \n",
    "        hidden = self.i2h(combined)\n",
    "        output = self.i2o(combined)\n",
    "        output = self.softmax(output)\n",
    "        return output, hidden\n",
    "    \n",
    "    def init_hidden(self):\n",
    "        return torch.zeros(1, self.hidden_size)\n",
    "    \n",
    "category_lines, all_categories = load_data()\n",
    "n_categories = len(all_categories)\n",
    "\n",
    "n_hidden = 128\n",
    "rnn = RNN(N_LETTERS, n_hidden, n_categories)\n",
    "\n",
    "# one step\n",
    "input_tensor = letter_to_tensor('A')\n",
    "hidden_tensor = rnn.init_hidden()\n",
    "\n",
    "output, next_hidden = rnn(input_tensor, hidden_tensor)\n",
    "#print(output.size())\n",
    "#print(next_hidden.size())\n",
    "\n",
    "# whole sequence/name\n",
    "input_tensor = line_to_tensor('Albert')\n",
    "hidden_tensor = rnn.init_hidden()\n",
    "\n",
    "output, next_hidden = rnn(input_tensor[0], hidden_tensor)\n",
    "#print(output.size())\n",
    "#print(next_hidden.size())\n",
    "\n",
    "#\n",
    "def category_from_output(output):\n",
    "    category_idx = torch.argmax(output).item()\n",
    "    return all_categories[category_idx]\n",
    "\n",
    "print(category_from_output(output))\n",
    "\n",
    "criterion = nn.NLLLoss()\n",
    "learning_rate = 0.005\n",
    "optimizer = torch.optim.SGD(rnn.parameters(), lr=learning_rate)\n",
    "\n",
    "def train(line_tensor, category_tensor):\n",
    "    hidden = rnn.init_hidden()\n",
    "    \n",
    "    for i in range(line_tensor.size()[0]):\n",
    "        output, hidden = rnn(line_tensor[i], hidden)\n",
    "        \n",
    "    loss = criterion(output, category_tensor)\n",
    "    \n",
    "    optimizer.zero_grad()\n",
    "    loss.backward()\n",
    "    optimizer.step()\n",
    "    \n",
    "    return output, loss.item()\n",
    "\n",
    "current_loss = 0\n",
    "all_losses = []\n",
    "plot_steps, print_steps = 1000, 5000\n",
    "n_iters = 100000\n",
    "for i in range(n_iters):\n",
    "    category, line, category_tensor, line_tensor = random_training_example(category_lines, all_categories)\n",
    "    \n",
    "    output, loss = train(line_tensor, category_tensor)\n",
    "    current_loss += loss \n",
    "    \n",
    "    if (i+1) % plot_steps == 0:\n",
    "        all_losses.append(current_loss / plot_steps)\n",
    "        current_loss = 0\n",
    "        \n",
    "    if (i+1) % print_steps == 0:\n",
    "        guess = category_from_output(output)\n",
    "        correct = \"CORRECT\" if guess == category else f\"WRONG ({category})\"\n",
    "        print(f\"{i+1} {(i+1)/n_iters*100} {loss:.4f} {line} / {guess} {correct}\")\n",
    "        \n",
    "    \n",
    "plt.figure()\n",
    "plt.plot(all_losses)\n",
    "plt.show()\n",
    "\n",
    "def predict(input_line):\n",
    "    print(f\"\\n> {input_line}\")\n",
    "    with torch.no_grad():\n",
    "        line_tensor = line_to_tensor(input_line)\n",
    "        \n",
    "        hidden = rnn.init_hidden()\n",
    "    \n",
    "        for i in range(line_tensor.size()[0]):\n",
    "            output, hidden = rnn(line_tensor[i], hidden)\n",
    "        \n",
    "        guess = category_from_output(output)\n",
    "        print(guess)\n",
    "\n",
    "\n",
    "while True:\n",
    "    sentence = input(\"Input:\")\n",
    "    if sentence == \"quit\":\n",
    "        break\n",
    "    \n",
    "    predict(sentence)"
   ]
  }
 ],
 "metadata": {
  "kernelspec": {
   "display_name": "Python 3 (ipykernel)",
   "language": "python",
   "name": "python3"
  },
  "language_info": {
   "codemirror_mode": {
    "name": "ipython",
    "version": 3
   },
   "file_extension": ".py",
   "mimetype": "text/x-python",
   "name": "python",
   "nbconvert_exporter": "python",
   "pygments_lexer": "ipython3",
   "version": "3.7.11"
  }
 },
 "nbformat": 4,
 "nbformat_minor": 5
}