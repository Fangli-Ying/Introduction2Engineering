{
 "cells": [
  {
   "cell_type": "markdown",
   "id": "6546b9a1",
   "metadata": {},
   "source": [
    "# Tensor Basics"
   ]
  },
  {
   "cell_type": "markdown",
   "id": "0dd5b88e",
   "metadata": {},
   "source": [
    "Numpy to tensor and some basics"
   ]
  },
  {
   "cell_type": "code",
   "execution_count": 1,
   "id": "050e676a",
   "metadata": {},
   "outputs": [
    {
     "name": "stderr",
     "output_type": "stream",
     "text": [
      "D:\\ProgramData\\Anaconda3\\lib\\site-packages\\pandas\\compat\\_optional.py:138: UserWarning: Pandas requires version '2.7.0' or newer of 'numexpr' (version '2.6.9' currently installed).\n",
      "  warnings.warn(msg, UserWarning)\n"
     ]
    }
   ],
   "source": [
    "import torch"
   ]
  },
  {
   "cell_type": "code",
   "execution_count": 2,
   "id": "746706e7",
   "metadata": {},
   "outputs": [
    {
     "data": {
      "text/plain": [
       "tensor([[2.7553e+12, 7.5338e+28, 1.8672e+25],\n",
       "        [5.0835e+31, 1.2708e+31, 1.7182e+25]])"
      ]
     },
     "execution_count": 2,
     "metadata": {},
     "output_type": "execute_result"
    }
   ],
   "source": [
    "x =  torch.empty(2,3)\n",
    "x"
   ]
  },
  {
   "cell_type": "code",
   "execution_count": 3,
   "id": "e63833ff",
   "metadata": {},
   "outputs": [
    {
     "data": {
      "text/plain": [
       "tensor([[[0.7476, 0.2837, 0.9267, 0.2663],\n",
       "         [0.6370, 0.2134, 0.9890, 0.8380],\n",
       "         [0.8611, 0.5684, 0.1319, 0.6567]],\n",
       "\n",
       "        [[0.1742, 0.2731, 0.8616, 0.5343],\n",
       "         [0.1049, 0.1139, 0.8023, 0.8278],\n",
       "         [0.3760, 0.5802, 0.0497, 0.6645]]])"
      ]
     },
     "execution_count": 3,
     "metadata": {},
     "output_type": "execute_result"
    }
   ],
   "source": [
    "y= torch.rand(2,3,4)\n",
    "y"
   ]
  },
  {
   "cell_type": "code",
   "execution_count": 4,
   "id": "caafe686",
   "metadata": {},
   "outputs": [
    {
     "data": {
      "text/plain": [
       "tensor([[1., 1.],\n",
       "        [1., 1.]])"
      ]
     },
     "execution_count": 4,
     "metadata": {},
     "output_type": "execute_result"
    }
   ],
   "source": [
    "z = torch.ones(2,2)\n",
    "z"
   ]
  },
  {
   "cell_type": "code",
   "execution_count": 5,
   "id": "594f8183",
   "metadata": {},
   "outputs": [
    {
     "data": {
      "text/plain": [
       "tensor([[1., 1.],\n",
       "        [1., 1.]], dtype=torch.float64)"
      ]
     },
     "execution_count": 5,
     "metadata": {},
     "output_type": "execute_result"
    }
   ],
   "source": [
    "m = torch.ones(2,2, dtype= torch.double)#float16\n",
    "m"
   ]
  },
  {
   "cell_type": "code",
   "execution_count": 6,
   "id": "46f27e88",
   "metadata": {},
   "outputs": [
    {
     "name": "stdout",
     "output_type": "stream",
     "text": [
      "torch.Size([2, 2])\n"
     ]
    }
   ],
   "source": [
    "print(m.size())"
   ]
  },
  {
   "cell_type": "code",
   "execution_count": 7,
   "id": "4647c22a",
   "metadata": {},
   "outputs": [
    {
     "data": {
      "text/plain": [
       "tensor([1.2000, 1.0000])"
      ]
     },
     "execution_count": 7,
     "metadata": {},
     "output_type": "execute_result"
    }
   ],
   "source": [
    "h= torch.tensor([1.2, 1.])\n",
    "h"
   ]
  },
  {
   "cell_type": "code",
   "execution_count": 8,
   "id": "20548787",
   "metadata": {},
   "outputs": [
    {
     "data": {
      "text/plain": [
       "torch.Tensor"
      ]
     },
     "execution_count": 8,
     "metadata": {},
     "output_type": "execute_result"
    }
   ],
   "source": [
    "type(h)"
   ]
  },
  {
   "cell_type": "code",
   "execution_count": 9,
   "id": "2279846a",
   "metadata": {},
   "outputs": [
    {
     "data": {
      "text/plain": [
       "tensor([[0.8141, 0.3723, 0.8889],\n",
       "        [0.2889, 0.2791, 0.9580]])"
      ]
     },
     "execution_count": 9,
     "metadata": {},
     "output_type": "execute_result"
    }
   ],
   "source": [
    "x= torch.rand(2,3)\n",
    "y= torch.rand(2,3)\n",
    "x"
   ]
  },
  {
   "cell_type": "code",
   "execution_count": 10,
   "id": "508a6845",
   "metadata": {},
   "outputs": [
    {
     "data": {
      "text/plain": [
       "tensor([[0.2538, 0.8793, 0.8801],\n",
       "        [0.0644, 0.0411, 0.1385]])"
      ]
     },
     "execution_count": 10,
     "metadata": {},
     "output_type": "execute_result"
    }
   ],
   "source": [
    "y"
   ]
  },
  {
   "cell_type": "code",
   "execution_count": 11,
   "id": "4a1e0105",
   "metadata": {},
   "outputs": [
    {
     "data": {
      "text/plain": [
       "tensor([[1.0679, 1.2516, 1.7690],\n",
       "        [0.3534, 0.3202, 1.0965]])"
      ]
     },
     "execution_count": 11,
     "metadata": {},
     "output_type": "execute_result"
    }
   ],
   "source": [
    "z= x+y\n",
    "z"
   ]
  },
  {
   "cell_type": "code",
   "execution_count": 12,
   "id": "68442990",
   "metadata": {},
   "outputs": [
    {
     "data": {
      "text/plain": [
       "tensor([[1.0679, 1.2516, 1.7690],\n",
       "        [0.3534, 0.3202, 1.0965]])"
      ]
     },
     "execution_count": 12,
     "metadata": {},
     "output_type": "execute_result"
    }
   ],
   "source": [
    "z= torch.add(x,y)\n",
    "z"
   ]
  },
  {
   "cell_type": "code",
   "execution_count": 13,
   "id": "26fe981d",
   "metadata": {},
   "outputs": [
    {
     "data": {
      "text/plain": [
       "tensor([[0.2538, 0.8793, 0.8801],\n",
       "        [0.0644, 0.0411, 0.1385]])"
      ]
     },
     "execution_count": 13,
     "metadata": {},
     "output_type": "execute_result"
    }
   ],
   "source": [
    "y"
   ]
  },
  {
   "cell_type": "code",
   "execution_count": 14,
   "id": "c85c3eb5",
   "metadata": {},
   "outputs": [
    {
     "data": {
      "text/plain": [
       "tensor([[1.0679, 1.2516, 1.7690],\n",
       "        [0.3534, 0.3202, 1.0965]])"
      ]
     },
     "execution_count": 14,
     "metadata": {},
     "output_type": "execute_result"
    }
   ],
   "source": [
    "#inplace add with add_\n",
    "y.add_(x)\n",
    "y"
   ]
  },
  {
   "cell_type": "code",
   "execution_count": 15,
   "id": "d5f3a5ab",
   "metadata": {},
   "outputs": [
    {
     "data": {
      "text/plain": [
       "tensor([[-0.2538, -0.8793, -0.8801],\n",
       "        [-0.0644, -0.0411, -0.1385]])"
      ]
     },
     "execution_count": 15,
     "metadata": {},
     "output_type": "execute_result"
    }
   ],
   "source": [
    "#same for sub\n",
    "z1= torch.sub(x,y)\n",
    "z1"
   ]
  },
  {
   "cell_type": "code",
   "execution_count": 16,
   "id": "89598be0",
   "metadata": {},
   "outputs": [
    {
     "data": {
      "text/plain": [
       "tensor([[-0.2538, -0.8793, -0.8801],\n",
       "        [-0.0644, -0.0411, -0.1385]])"
      ]
     },
     "execution_count": 16,
     "metadata": {},
     "output_type": "execute_result"
    }
   ],
   "source": [
    "z=x-y\n",
    "z"
   ]
  },
  {
   "cell_type": "code",
   "execution_count": 17,
   "id": "50f39b5e",
   "metadata": {},
   "outputs": [
    {
     "data": {
      "text/plain": [
       "tensor([[1.0679, 1.2516, 1.7690],\n",
       "        [0.3534, 0.3202, 1.0965]])"
      ]
     },
     "execution_count": 17,
     "metadata": {},
     "output_type": "execute_result"
    }
   ],
   "source": [
    "y"
   ]
  },
  {
   "cell_type": "code",
   "execution_count": 18,
   "id": "f3c6a71a",
   "metadata": {},
   "outputs": [
    {
     "data": {
      "text/plain": [
       "tensor([[0.2538, 0.8793, 0.8801],\n",
       "        [0.0644, 0.0411, 0.1385]])"
      ]
     },
     "execution_count": 18,
     "metadata": {},
     "output_type": "execute_result"
    }
   ],
   "source": [
    "y.sub_(x)\n",
    "y"
   ]
  },
  {
   "cell_type": "markdown",
   "id": "542420f6",
   "metadata": {},
   "source": [
    "### same for mul - * and div - / "
   ]
  },
  {
   "cell_type": "code",
   "execution_count": 19,
   "id": "2bd93a3c",
   "metadata": {},
   "outputs": [
    {
     "data": {
      "text/plain": [
       "tensor([[0.2890, 0.2221, 0.1694],\n",
       "        [0.4608, 0.3486, 0.1742],\n",
       "        [0.9750, 0.4639, 0.3125],\n",
       "        [0.2281, 0.5202, 0.0139],\n",
       "        [0.5687, 0.5909, 0.9148]])"
      ]
     },
     "execution_count": 19,
     "metadata": {},
     "output_type": "execute_result"
    }
   ],
   "source": [
    "x= torch.rand(5,3)\n",
    "x"
   ]
  },
  {
   "cell_type": "code",
   "execution_count": 20,
   "id": "cab060dc",
   "metadata": {},
   "outputs": [
    {
     "data": {
      "text/plain": [
       "tensor([0.4608, 0.3486, 0.1742])"
      ]
     },
     "execution_count": 20,
     "metadata": {},
     "output_type": "execute_result"
    }
   ],
   "source": [
    "x[1,:] #1 is the second(0,1,2...) row 行 and ：is all columns "
   ]
  },
  {
   "cell_type": "code",
   "execution_count": 21,
   "id": "baaca134",
   "metadata": {},
   "outputs": [
    {
     "data": {
      "text/plain": [
       "tensor(0.3486)"
      ]
     },
     "execution_count": 21,
     "metadata": {},
     "output_type": "execute_result"
    }
   ],
   "source": [
    "x[1,1] # the second row and second column"
   ]
  },
  {
   "cell_type": "code",
   "execution_count": 22,
   "id": "fe6f356f",
   "metadata": {},
   "outputs": [
    {
     "data": {
      "text/plain": [
       "0.3485875129699707"
      ]
     },
     "execution_count": 22,
     "metadata": {},
     "output_type": "execute_result"
    }
   ],
   "source": [
    "x[1,1].item() # get the one element with actual value"
   ]
  },
  {
   "cell_type": "code",
   "execution_count": 23,
   "id": "df637d70",
   "metadata": {},
   "outputs": [
    {
     "data": {
      "text/plain": [
       "tensor([0.7017, 0.4951, 0.2511, 0.9799, 0.5592, 0.0622, 0.7783, 0.0937, 0.4187,\n",
       "        0.3666, 0.8331, 0.4935, 0.2718, 0.6924, 0.4010, 0.5491])"
      ]
     },
     "execution_count": 23,
     "metadata": {},
     "output_type": "execute_result"
    }
   ],
   "source": [
    "x= torch.rand(4,4)\n",
    "y= x.view(16)# reshape from 4*4 to 16*1\n",
    "y"
   ]
  },
  {
   "cell_type": "code",
   "execution_count": 24,
   "id": "6a84a513",
   "metadata": {},
   "outputs": [
    {
     "data": {
      "text/plain": [
       "tensor([[0.7017, 0.4951, 0.2511, 0.9799, 0.5592, 0.0622, 0.7783, 0.0937],\n",
       "        [0.4187, 0.3666, 0.8331, 0.4935, 0.2718, 0.6924, 0.4010, 0.5491]])"
      ]
     },
     "execution_count": 24,
     "metadata": {},
     "output_type": "execute_result"
    }
   ],
   "source": [
    "z= x.view(-1,8)# reshape from 4*4 to any (-1 is decide by itself)* 8\n",
    "z"
   ]
  },
  {
   "cell_type": "code",
   "execution_count": 25,
   "id": "0f25b59e",
   "metadata": {},
   "outputs": [
    {
     "data": {
      "text/plain": [
       "<function Tensor.size>"
      ]
     },
     "execution_count": 25,
     "metadata": {},
     "output_type": "execute_result"
    }
   ],
   "source": [
    "z.size"
   ]
  },
  {
   "cell_type": "code",
   "execution_count": 26,
   "id": "7f67c188",
   "metadata": {},
   "outputs": [
    {
     "data": {
      "text/plain": [
       "torch.Size([2, 8])"
      ]
     },
     "execution_count": 26,
     "metadata": {},
     "output_type": "execute_result"
    }
   ],
   "source": [
    "z.size()"
   ]
  },
  {
   "cell_type": "markdown",
   "id": "450dbd23",
   "metadata": {},
   "source": [
    "## Numpy to tensor"
   ]
  },
  {
   "cell_type": "code",
   "execution_count": 27,
   "id": "7248a468",
   "metadata": {},
   "outputs": [
    {
     "data": {
      "text/plain": [
       "tensor([1., 1., 1., 1., 1.])"
      ]
     },
     "execution_count": 27,
     "metadata": {},
     "output_type": "execute_result"
    }
   ],
   "source": [
    "a = torch.ones(5)\n",
    "a"
   ]
  },
  {
   "cell_type": "code",
   "execution_count": 28,
   "id": "dd02fa35",
   "metadata": {},
   "outputs": [
    {
     "data": {
      "text/plain": [
       "torch.Tensor"
      ]
     },
     "execution_count": 28,
     "metadata": {},
     "output_type": "execute_result"
    }
   ],
   "source": [
    "type(a)"
   ]
  },
  {
   "cell_type": "code",
   "execution_count": 29,
   "id": "1cc179b3",
   "metadata": {},
   "outputs": [
    {
     "data": {
      "text/plain": [
       "array([1., 1., 1., 1., 1.], dtype=float32)"
      ]
     },
     "execution_count": 29,
     "metadata": {},
     "output_type": "execute_result"
    }
   ],
   "source": [
    "b= a.numpy()\n",
    "b"
   ]
  },
  {
   "cell_type": "code",
   "execution_count": 30,
   "id": "71abebeb",
   "metadata": {},
   "outputs": [
    {
     "data": {
      "text/plain": [
       "numpy.ndarray"
      ]
     },
     "execution_count": 30,
     "metadata": {},
     "output_type": "execute_result"
    }
   ],
   "source": [
    "type(b)"
   ]
  },
  {
   "cell_type": "markdown",
   "id": "320f0b4b",
   "metadata": {},
   "source": [
    "## note inplace operation when pointing the same place"
   ]
  },
  {
   "cell_type": "code",
   "execution_count": 31,
   "id": "0691565b",
   "metadata": {},
   "outputs": [
    {
     "data": {
      "text/plain": [
       "tensor([2., 2., 2., 2., 2.])"
      ]
     },
     "execution_count": 31,
     "metadata": {},
     "output_type": "execute_result"
    }
   ],
   "source": [
    "a.add_(1)\n",
    "a"
   ]
  },
  {
   "cell_type": "code",
   "execution_count": 32,
   "id": "f6b84f66",
   "metadata": {},
   "outputs": [
    {
     "data": {
      "text/plain": [
       "array([2., 2., 2., 2., 2.], dtype=float32)"
      ]
     },
     "execution_count": 32,
     "metadata": {},
     "output_type": "execute_result"
    }
   ],
   "source": [
    "b"
   ]
  },
  {
   "cell_type": "markdown",
   "id": "af2f19df",
   "metadata": {},
   "source": [
    "## tensor to numpy"
   ]
  },
  {
   "cell_type": "code",
   "execution_count": 33,
   "id": "200c38f5",
   "metadata": {},
   "outputs": [
    {
     "data": {
      "text/plain": [
       "tensor([2., 2., 2., 2., 2.])"
      ]
     },
     "execution_count": 33,
     "metadata": {},
     "output_type": "execute_result"
    }
   ],
   "source": [
    "h= torch.from_numpy(b)\n",
    "h"
   ]
  },
  {
   "cell_type": "code",
   "execution_count": 34,
   "id": "4fddb287",
   "metadata": {},
   "outputs": [
    {
     "data": {
      "text/plain": [
       "array([3., 3., 3., 3., 3.], dtype=float32)"
      ]
     },
     "execution_count": 34,
     "metadata": {},
     "output_type": "execute_result"
    }
   ],
   "source": [
    "b+=1 #inplace operation from numpy to tensor\n",
    "b\n"
   ]
  },
  {
   "cell_type": "code",
   "execution_count": 35,
   "id": "359a259a",
   "metadata": {},
   "outputs": [
    {
     "data": {
      "text/plain": [
       "tensor([3., 3., 3., 3., 3.])"
      ]
     },
     "execution_count": 35,
     "metadata": {},
     "output_type": "execute_result"
    }
   ],
   "source": [
    "h"
   ]
  },
  {
   "cell_type": "code",
   "execution_count": 36,
   "id": "a9559b18",
   "metadata": {},
   "outputs": [
    {
     "name": "stdout",
     "output_type": "stream",
     "text": [
      "tensor([2., 2., 2., 2., 2.])\n"
     ]
    }
   ],
   "source": [
    "#windows\n",
    "if torch.cuda.is_available():\n",
    "    device =  torch.device(\"cuda\")\n",
    "    x= torch.ones(5,device= device)#specify the gpu variable\n",
    "    y= torch.ones(5)\n",
    "    y= y.to(device)# or you can define it then move to gpu\n",
    "    z= x+y\n",
    "    z = z.to(\"cpu\")\n",
    "    print(z)"
   ]
  },
  {
   "cell_type": "code",
   "execution_count": 37,
   "id": "73bc792c",
   "metadata": {},
   "outputs": [],
   "source": [
    "x= torch.ones(5,requires_grad =True)# need to caculate the gradient"
   ]
  },
  {
   "cell_type": "markdown",
   "id": "1672f829",
   "metadata": {},
   "source": [
    "## gradient"
   ]
  },
  {
   "cell_type": "code",
   "execution_count": 38,
   "id": "a203c3eb",
   "metadata": {},
   "outputs": [
    {
     "data": {
      "text/plain": [
       "tensor([ 2.1938, -1.0881,  0.7461])"
      ]
     },
     "execution_count": 38,
     "metadata": {},
     "output_type": "execute_result"
    }
   ],
   "source": [
    "x= torch.randn(3)\n",
    "x"
   ]
  },
  {
   "cell_type": "code",
   "execution_count": 39,
   "id": "10670fb9",
   "metadata": {},
   "outputs": [
    {
     "data": {
      "text/plain": [
       "tensor([-1.1895,  0.2810, -0.7556], requires_grad=True)"
      ]
     },
     "execution_count": 39,
     "metadata": {},
     "output_type": "execute_result"
    }
   ],
   "source": [
    "x= torch.randn(3, requires_grad =True)# need to caculate the gradient\n",
    "x"
   ]
  },
  {
   "cell_type": "code",
   "execution_count": 40,
   "id": "a0dacf10",
   "metadata": {},
   "outputs": [],
   "source": [
    "y = x+2"
   ]
  },
  {
   "cell_type": "markdown",
   "id": "76332f6c",
   "metadata": {},
   "source": [
    "![VS](figures/BB.PNG)"
   ]
  },
  {
   "cell_type": "code",
   "execution_count": 41,
   "id": "16eb2ed5",
   "metadata": {},
   "outputs": [
    {
     "data": {
      "text/plain": [
       "tensor([0.8105, 2.2810, 1.2444], grad_fn=<AddBackward0>)"
      ]
     },
     "execution_count": 41,
     "metadata": {},
     "output_type": "execute_result"
    }
   ],
   "source": [
    "y # we can see backward for add"
   ]
  },
  {
   "cell_type": "code",
   "execution_count": 42,
   "id": "b326b2d8",
   "metadata": {},
   "outputs": [
    {
     "data": {
      "text/plain": [
       "tensor([ 1.3137, 10.4057,  3.0972], grad_fn=<MulBackward0>)"
      ]
     },
     "execution_count": 42,
     "metadata": {},
     "output_type": "execute_result"
    }
   ],
   "source": [
    "z=y*y*2 # we can see backward for multiply\n",
    "z"
   ]
  },
  {
   "cell_type": "code",
   "execution_count": 43,
   "id": "099fee6c",
   "metadata": {},
   "outputs": [
    {
     "data": {
      "text/plain": [
       "tensor(4.9389, grad_fn=<MeanBackward0>)"
      ]
     },
     "execution_count": 43,
     "metadata": {},
     "output_type": "execute_result"
    }
   ],
   "source": [
    "h = z.mean()\n",
    "h"
   ]
  },
  {
   "cell_type": "code",
   "execution_count": 44,
   "id": "ea70da0d",
   "metadata": {},
   "outputs": [],
   "source": [
    "h.backward() #dz/dx but it can not go second time and the requires_grad should be True"
   ]
  },
  {
   "cell_type": "code",
   "execution_count": 45,
   "id": "ba928e0c",
   "metadata": {},
   "outputs": [
    {
     "data": {
      "text/plain": [
       "tensor([1.0806, 3.0413, 1.6592])"
      ]
     },
     "execution_count": 45,
     "metadata": {},
     "output_type": "execute_result"
    }
   ],
   "source": [
    "x.grad"
   ]
  },
  {
   "cell_type": "markdown",
   "id": "e8a2a95b",
   "metadata": {},
   "source": [
    "![VS](figures/chain.PNG)"
   ]
  },
  {
   "cell_type": "code",
   "execution_count": 46,
   "id": "6498313e",
   "metadata": {},
   "outputs": [
    {
     "data": {
      "text/plain": [
       "tensor([0.1000, 1.0000, 0.1000])"
      ]
     },
     "execution_count": 46,
     "metadata": {},
     "output_type": "execute_result"
    }
   ],
   "source": [
    "v =torch.tensor([0.1,1.0,0.1],dtype=torch.float32)\n",
    "v"
   ]
  },
  {
   "cell_type": "code",
   "execution_count": 47,
   "id": "60c11570",
   "metadata": {},
   "outputs": [
    {
     "data": {
      "text/plain": [
       "tensor([1.2427, 7.6032, 1.9081])"
      ]
     },
     "execution_count": 47,
     "metadata": {},
     "output_type": "execute_result"
    }
   ],
   "source": [
    "b=y*y\n",
    "\n",
    "b.backward(v)\n",
    "x.grad"
   ]
  },
  {
   "cell_type": "markdown",
   "id": "7daf7663",
   "metadata": {},
   "source": [
    "## caculate with no gradient"
   ]
  },
  {
   "cell_type": "code",
   "execution_count": 48,
   "id": "85a7dea7",
   "metadata": {},
   "outputs": [
    {
     "data": {
      "text/plain": [
       "tensor([ 1.3277, -0.1138, -0.2922], requires_grad=True)"
      ]
     },
     "execution_count": 48,
     "metadata": {},
     "output_type": "execute_result"
    }
   ],
   "source": [
    "x = torch.randn(3, requires_grad=True)\n",
    "x\n",
    "#x.requires_grad_(False)\n",
    "#x.detach()\n",
    "#with torch.no_grad()"
   ]
  },
  {
   "cell_type": "code",
   "execution_count": 49,
   "id": "909e4a45",
   "metadata": {},
   "outputs": [
    {
     "data": {
      "text/plain": [
       "tensor([ 1.3277, -0.1138, -0.2922])"
      ]
     },
     "execution_count": 49,
     "metadata": {},
     "output_type": "execute_result"
    }
   ],
   "source": [
    "x.requires_grad_(False)"
   ]
  },
  {
   "cell_type": "code",
   "execution_count": 50,
   "id": "7c393e3c",
   "metadata": {},
   "outputs": [
    {
     "data": {
      "text/plain": [
       "tensor([-2.4680,  0.0350, -0.3408])"
      ]
     },
     "execution_count": 50,
     "metadata": {},
     "output_type": "execute_result"
    }
   ],
   "source": [
    "x = torch.randn(3, requires_grad=True)\n",
    "y=x.detach()\n",
    "y"
   ]
  },
  {
   "cell_type": "code",
   "execution_count": 51,
   "id": "f9dd0bf4",
   "metadata": {},
   "outputs": [
    {
     "data": {
      "text/plain": [
       "tensor([1.8092, 3.2562, 2.0017])"
      ]
     },
     "execution_count": 51,
     "metadata": {},
     "output_type": "execute_result"
    }
   ],
   "source": [
    "x = torch.randn(3, requires_grad=True)\n",
    "with torch.no_grad():\n",
    "    y=x+2\n",
    "y"
   ]
  },
  {
   "cell_type": "code",
   "execution_count": 52,
   "id": "93c4d27b",
   "metadata": {},
   "outputs": [
    {
     "data": {
      "text/plain": [
       "tensor([-0.1908,  1.2562,  0.0017], requires_grad=True)"
      ]
     },
     "execution_count": 52,
     "metadata": {},
     "output_type": "execute_result"
    }
   ],
   "source": [
    "x"
   ]
  },
  {
   "cell_type": "markdown",
   "id": "3039a53a",
   "metadata": {},
   "source": [
    "## accumulate the gradient"
   ]
  },
  {
   "cell_type": "code",
   "execution_count": 53,
   "id": "52b7c185",
   "metadata": {},
   "outputs": [
    {
     "data": {
      "text/plain": [
       "tensor([3., 3., 3., 3.])"
      ]
     },
     "execution_count": 53,
     "metadata": {},
     "output_type": "execute_result"
    }
   ],
   "source": [
    "w = torch.ones(4, requires_grad=True)\n",
    "for epoch in range(1):\n",
    "    model_output =  (w*3).sum()\n",
    "    model_output.backward()\n",
    "    \n",
    "w.grad    \n",
    "    "
   ]
  },
  {
   "cell_type": "code",
   "execution_count": 54,
   "id": "f1c71c41",
   "metadata": {},
   "outputs": [
    {
     "data": {
      "text/plain": [
       "tensor([6., 6., 6., 6.])"
      ]
     },
     "execution_count": 54,
     "metadata": {},
     "output_type": "execute_result"
    }
   ],
   "source": [
    "w = torch.ones(4, requires_grad=True)\n",
    "for epoch in range(2):\n",
    "    model_output =  (w*3).sum()\n",
    "    model_output.backward()\n",
    "    \n",
    "w.grad  "
   ]
  },
  {
   "cell_type": "code",
   "execution_count": 55,
   "id": "57f8e859",
   "metadata": {},
   "outputs": [
    {
     "data": {
      "text/plain": [
       "tensor([9., 9., 9., 9.])"
      ]
     },
     "execution_count": 55,
     "metadata": {},
     "output_type": "execute_result"
    }
   ],
   "source": [
    "w = torch.ones(4, requires_grad=True)\n",
    "for epoch in range(3):\n",
    "    model_output =  (w*3).sum()\n",
    "    model_output.backward()\n",
    "    \n",
    "w.grad  "
   ]
  },
  {
   "cell_type": "code",
   "execution_count": 56,
   "id": "73a46dc1",
   "metadata": {},
   "outputs": [
    {
     "name": "stdout",
     "output_type": "stream",
     "text": [
      "tensor([3., 3., 3., 3.])\n",
      "tensor([3., 3., 3., 3.])\n",
      "tensor([3., 3., 3., 3.])\n"
     ]
    }
   ],
   "source": [
    "w = torch.ones(4, requires_grad=True)\n",
    "for epoch in range(3):\n",
    "    model_output =  (w*3).sum()\n",
    "    model_output.backward()\n",
    "    print(w.grad )\n",
    "    w.grad.zero_()\n",
    " "
   ]
  },
  {
   "cell_type": "code",
   "execution_count": 57,
   "id": "1fde2af3",
   "metadata": {},
   "outputs": [],
   "source": [
    "#opt = torch.optim.SGD(w,lr=0.01)\n",
    "#opt.step()\n",
    "#opt.zero_grad()\n",
    "#we should also prevent the optimizer sumup the gradient too"
   ]
  },
  {
   "cell_type": "markdown",
   "id": "efdfb8a5",
   "metadata": {},
   "source": [
    "![VS](figures/cr.PNG)"
   ]
  },
  {
   "cell_type": "markdown",
   "id": "0d4f9289",
   "metadata": {},
   "source": [
    "![VS](figures/crbp.PNG)"
   ]
  },
  {
   "cell_type": "markdown",
   "id": "644e61b1",
   "metadata": {},
   "source": [
    "![VS](figures/crbp1.PNG)"
   ]
  },
  {
   "cell_type": "code",
   "execution_count": 58,
   "id": "57750c2a",
   "metadata": {},
   "outputs": [
    {
     "data": {
      "text/plain": [
       "tensor(1., grad_fn=<PowBackward0>)"
      ]
     },
     "execution_count": 58,
     "metadata": {},
     "output_type": "execute_result"
    }
   ],
   "source": [
    "import torch\n",
    "x= torch.tensor(1.0)\n",
    "y= torch.tensor(2.0)\n",
    "\n",
    "w= torch.tensor(1.0, requires_grad = True)\n",
    "\n",
    "#foward pass and compute loss\n",
    "y_hat = w*x\n",
    "loss = (y_hat-y)**2\n",
    "loss"
   ]
  },
  {
   "cell_type": "code",
   "execution_count": 59,
   "id": "0ce67fa5",
   "metadata": {},
   "outputs": [
    {
     "data": {
      "text/plain": [
       "tensor(-2.)"
      ]
     },
     "execution_count": 59,
     "metadata": {},
     "output_type": "execute_result"
    }
   ],
   "source": [
    "#backward pass\n",
    "loss.backward()\n",
    "w.grad"
   ]
  },
  {
   "cell_type": "code",
   "execution_count": 60,
   "id": "91fb8a1c",
   "metadata": {},
   "outputs": [],
   "source": [
    "#update weight"
   ]
  },
  {
   "cell_type": "markdown",
   "id": "cc4e5848",
   "metadata": {},
   "source": [
    "![VS](figures/man.PNG)"
   ]
  },
  {
   "cell_type": "code",
   "execution_count": 61,
   "id": "7e21eb69",
   "metadata": {},
   "outputs": [
    {
     "name": "stdout",
     "output_type": "stream",
     "text": [
      "Prediection before training:f(5) = 0.00000000\n"
     ]
    }
   ],
   "source": [
    "import numpy as np\n",
    "\n",
    "#f=w*x\n",
    "# =2*x\n",
    "#X= np.array([1,2,3,4],dtype=np.float32)\n",
    "#Y= np.array([2,4,6,8],dtype=np.float32)\n",
    "X= torch.tensor([1,2,3,4],dtype=torch.float32)\n",
    "Y= torch.tensor([2,4,6,8],dtype=torch.float32)\n",
    "w =0.0\n",
    "\n",
    "#model prediction\n",
    "\n",
    "def forward(x):\n",
    "     return w*x\n",
    "\n",
    "\n",
    "#loss =MSE\n",
    "\n",
    "def loss(y, y_predicted):\n",
    "    return ((y_predicted-y)**2).mean()\n",
    "\n",
    "     \n",
    "\n",
    "\n",
    "\n",
    "#gradient\n",
    "#MSE = 1/N*(w*x-y)**2\n",
    "#dJ/dw = 1/N 2x(w*x-y)\n",
    "\n",
    "def gradient(x,y,y_prediected):\n",
    "    return np.dot(2*x, y_pred-y).mean()\n",
    "a = forward(5)\n",
    "print(f'Prediection before training:f(5) = {a:.8f}')"
   ]
  },
  {
   "cell_type": "code",
   "execution_count": 62,
   "id": "74a61d0a",
   "metadata": {},
   "outputs": [
    {
     "name": "stdout",
     "output_type": "stream",
     "text": [
      "epoch 1:w = 12.000, loss =30.00000000\n",
      "epoch 2:w = -48.000, loss =750.00000000\n",
      "epoch 3:w = 252.000, loss =18750.00000000\n",
      "epoch 4:w = -1248.000, loss =468750.00000000\n",
      "epoch 5:w = 6252.000, loss =11718750.00000000\n",
      "epoch 6:w = -31248.000, loss =292968768.00000000\n",
      "epoch 7:w = 156252.000, loss =7324218368.00000000\n",
      "epoch 8:w = -781248.000, loss =183105470464.00000000\n",
      "epoch 9:w = 3906252.000, loss =4577636646912.00000000\n",
      "epoch 10:w = -19531247.200, loss =114440913551360.00000000\n",
      "Prediection before training:f(5) = -97656236.000\n"
     ]
    }
   ],
   "source": [
    "\n",
    "\n",
    "#Training\n",
    "learning_rate=0.1\n",
    "n_iters =10\n",
    "\n",
    "for epoch in range(n_iters):\n",
    "    #prediction = forward pass\n",
    "    y_pred = forward(X)\n",
    "    \n",
    "    #loss\n",
    "    l= loss(Y,y_pred)\n",
    "    \n",
    "    #gradients\n",
    "    dw = gradient(X,Y,y_pred)\n",
    "    \n",
    "    # update weights\n",
    "    w-=learning_rate*dw\n",
    "    \n",
    "    if epoch%1 == 0:\n",
    "        print(f'epoch {epoch+1}:w = {w:.3f}, loss ={l:.8f}')\n",
    "        \n",
    "print(f'Prediection before training:f(5) = {forward(5):.3f}')"
   ]
  }
 ],
 "metadata": {
  "kernelspec": {
   "display_name": "Python 3 (ipykernel)",
   "language": "python",
   "name": "python3"
  },
  "language_info": {
   "codemirror_mode": {
    "name": "ipython",
    "version": 3
   },
   "file_extension": ".py",
   "mimetype": "text/x-python",
   "name": "python",
   "nbconvert_exporter": "python",
   "pygments_lexer": "ipython3",
   "version": "3.7.11"
  }
 },
 "nbformat": 4,
 "nbformat_minor": 5
}