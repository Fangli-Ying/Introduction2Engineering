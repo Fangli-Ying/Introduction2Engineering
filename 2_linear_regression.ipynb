{
 "cells": [
  {
   "cell_type": "markdown",
   "metadata": {
    "slideshow": {
     "slide_type": "slide"
    }
   },
   "source": [
    "# 2. Linear Regression"
   ]
  },
  {
   "cell_type": "markdown",
   "metadata": {
    "slideshow": {
     "slide_type": "slide"
    }
   },
   "source": [
    "## Introduction"
   ]
  },
  {
   "cell_type": "markdown",
   "metadata": {},
   "source": [
    "You’re living in an era of large amounts of **data, powerful computers, and artificial intelligence**. This is just the beginning. Data science and machine learning are driving image recognition, development of autonomous vehicles, decisions in the financial and energy sectors, advances in medicine, the rise of social networks, and more. Linear regression is an important part of this.\n",
    "\n",
    "Linear regression is one of the fundamental statistical and machine learning techniques. Whether you want to do statistics, machine learning, or scientific computing, there’s a good chance that you’ll need it. It’s best to build a solid foundation first and then proceed toward more complex methods.\n",
    "\n",
    "By the end of this article, you’ll have learned:\n",
    "\n",
    "- What linear regression is\n",
    "- What linear regression is used for\n",
    "- How linear regression works\n",
    "- How to implement linear regression in Python, step by step"
   ]
  },
  {
   "cell_type": "markdown",
   "metadata": {},
   "source": [
    "### Regression\n",
    "Regression analysis is one of the most important fields in statistics and machine learning. There are many regression methods available. Linear regression is one of them."
   ]
  },
  {
   "cell_type": "markdown",
   "metadata": {},
   "source": [
    "Regression searches for relationships among **variables**. For example, you can observe several employees of some company and try to understand how their salaries depend on their **features**, such as experience, education level, role, city of employment, and so on.\n",
    "\n",
    "This is a regression problem where data related to each employee represents one **observation**. The presumption is that the experience, education, role, and city are the independent features, while the salary depends on them.\n",
    "\n",
    "Similarly, you can try to establish the mathematical dependence of housing prices on area, number of bedrooms, distance to the city center, and so on.\n",
    "\n",
    "Generally, in regression analysis, you consider some phenomenon of interest and have a number of observations. Each observation has two or more features. Following the assumption that at least one of the features depends on the others, you try to establish a relation among them.\n",
    "\n",
    "In other words, you need to find a function that maps some features or variables to others sufficiently well.\n",
    "\n",
    "The dependent features are called the **dependent variables, outputs, or responses**. The independent features are called the **independent variables, inputs, regressors, or predictors**.\n",
    "\n",
    "Regression problems usually have one continuous and unbounded dependent variable. The inputs, however, can be continuous, discrete, or even categorical data such as gender, nationality, or brand.\n",
    "\n",
    "It’s a common practice to denote the outputs with $𝑦$ and the inputs with 𝑥. If there are two or more independent variables, then they can be represented as the vector $𝐱$ = (𝑥₁, …, 𝑥ᵣ), where 𝑟 is the number of inputs."
   ]
  },
  {
   "cell_type": "code",
   "execution_count": null,
   "metadata": {},
   "outputs": [],
   "source": []
  },
  {
   "cell_type": "markdown",
   "metadata": {
    "slideshow": {
     "slide_type": "slide"
    }
   },
   "source": [
    "### Linear regression in a nutshell\n",
    "\n",
    "A linear regression model searches for a linear relationship between inputs (features) and output (target).\n",
    "![LR](figures/linear_regression.png)\n",
    "\n",
    "\n",
    "- Video: [Introduction to Linear Regression](https://www.youtube.com/watch?v=m88h75F3Rl8)\n",
    "- Tutorial [Introduction to Linear Regression](https://realpython.com/linear-regression-in-python/)"
   ]
  },
  {
   "cell_type": "code",
   "execution_count": null,
   "metadata": {},
   "outputs": [],
   "source": []
  },
  {
   "cell_type": "markdown",
   "metadata": {
    "slideshow": {
     "slide_type": "slide"
    }
   },
   "source": [
    "### Problem formulation\n",
    "\n",
    "**Math Explained**\n",
    "\n",
    "When implementing linear regression of some dependent variable 𝑦 on the set of independent variables 𝐱 = (𝑥₁, …, 𝑥ᵣ), where 𝑟 is the number of predictors, you assume a linear relationship between 𝑦 and 𝐱: 𝑦 = 𝛽₀ + 𝛽₁𝑥₁ + ⋯ + 𝛽ᵣ𝑥ᵣ + 𝜀. This equation is the **regression equation**. 𝛽₀, 𝛽₁, …, 𝛽ᵣ are the **regression coefficients**, and 𝜀 is the **random error**.\n",
    "\n",
    "Linear regression calculates the **estimators** of the regression coefficients or simply the **predicted weights**, denoted with 𝑏₀, 𝑏₁, …, 𝑏ᵣ. These estimators define the **estimated regression function** 𝑓(𝐱) = 𝑏₀ + 𝑏₁𝑥₁ + ⋯ + 𝑏ᵣ𝑥ᵣ. This function should capture the dependencies between the inputs and output sufficiently well.\n",
    "\n",
    "**The estimated or predicted response**, 𝑓(𝐱ᵢ), for each observation 𝑖 = 1, …, 𝑛, should be as close as possible to the corresponding **actual response** 𝑦ᵢ. The differences 𝑦ᵢ - 𝑓(𝐱ᵢ) for all observations 𝑖 = 1, …, 𝑛, are called the **residuals**. Regression is about determining **the best predicted weights**—that is, the weights corresponding to the smallest residuals.\n",
    "\n",
    "To get the best weights, you usually **minimize the sum of squared residuals (SSR)** for all observations 𝑖 = 1, …, 𝑛: SSR = Σᵢ(𝑦ᵢ - 𝑓(𝐱ᵢ))². This approach is called the method of **ordinary least squares**.\n",
    "\n",
    "\n",
    "**Machine Learning Perspective**\n",
    "\n",
    "\n",
    "A linear model makes a prediction by computing a weighted sum of the input features, plus a constant term called *bias* (or sometimes *intercept*).\n",
    "\n",
    "$$y' = \\theta_0 + \\theta_1x_1 + \\dotsc + \\theta_nx_n$$\n",
    "\n",
    "- $y'$ is the model's output (prediction).\n",
    "- $n$ is the number of features for a data sample.\n",
    "- $x_i, i \\in [1..n]$ is the value of the $i$th feature.\n",
    "- $\\theta_i, i \\in [0..n]$ is $i$th model parameter. $\\theta_0$ is the bias term.\n",
    "\n",
    "The goal is to find the best set of parameters."
   ]
  },
  {
   "cell_type": "markdown",
   "metadata": {},
   "source": [
    "- Video: [Linear Regression Model](https://www.youtube.com/watch?v=erfeZg27B7A)"
   ]
  },
  {
   "cell_type": "markdown",
   "metadata": {},
   "source": [
    "### Simple Linear Regression\n",
    "\n",
    "Simple or single-variate linear regression is the simplest case of linear regression, as it has a single independent variable, 𝐱 = 𝑥.\n",
    "\n",
    "The following figure illustrates simple linear regression:"
   ]
  },
  {
   "cell_type": "markdown",
   "metadata": {},
   "source": [
    "![LR](figures/LR.PNG)"
   ]
  },
  {
   "cell_type": "markdown",
   "metadata": {},
   "source": [
    "When implementing simple linear regression, you typically start with a given set of input-output (𝑥-𝑦) pairs. These pairs are your observations, shown as green circles in the figure. For example, the leftmost observation has the input 𝑥 = 5 and the actual output, or response, 𝑦 = 5. The next one has 𝑥 = 15 and 𝑦 = 20, and so on.\n",
    "\n",
    "The estimated regression function, represented by the black line, has the equation 𝑓(𝑥) = 𝑏₀ + 𝑏₁𝑥. Your goal is to calculate the optimal values of the predicted weights 𝑏₀ and 𝑏₁ that minimize SSR and determine the estimated regression function.\n",
    "\n",
    "The value of 𝑏₀, also called the **intercept**, shows the point where the estimated regression line crosses the 𝑦 axis. It’s the value of the estimated response 𝑓(𝑥) for 𝑥 = 0. The value of 𝑏₁ determines the **slope** of the estimated regression line.\n",
    "\n",
    "The predicted responses, shown as red squares, are the points on the regression line that correspond to the input values. For example, for the input 𝑥 = 5, the predicted response is 𝑓(5) = 8.33, which the leftmost red square represents.\n",
    "\n",
    "The vertical dashed grey lines represent the residuals, which can be calculated as 𝑦ᵢ - 𝑓(𝐱ᵢ) = 𝑦ᵢ - 𝑏₀ - 𝑏₁𝑥ᵢ for 𝑖 = 1, …, 𝑛. They’re the distances between the green circles and red squares. When you implement linear regression, you’re actually trying to minimize these distances and make the red squares as close to the predefined green circles as possible."
   ]
  },
  {
   "cell_type": "markdown",
   "metadata": {},
   "source": [
    "### Regression Performance\n",
    "\n",
    "The variation of actual responses 𝑦ᵢ, 𝑖 = 1, …, 𝑛, occurs partly due to the dependence on the predictors 𝐱ᵢ. However, there’s also an additional inherent variance of the output.\n",
    "\n",
    "**The coefficient of determination**, denoted as 𝑅², tells you which amount of variation in 𝑦 can be explained by the dependence on 𝐱, using the particular regression model. A larger 𝑅² indicates a better fit and means that the model can better explain the variation of the output with different inputs.\n",
    "\n",
    "The value 𝑅² = 1 corresponds to SSR = 0. That’s the **perfect fit**, since the values of predicted and actual responses fit completely to each other."
   ]
  },
  {
   "cell_type": "markdown",
   "metadata": {
    "slideshow": {
     "slide_type": "slide"
    }
   },
   "source": [
    "### Example: using a linear model to predict country happiness\n",
    "\n",
    "(Inspired by [Homemade Machine Learning](https://github.com/trekhleb/homemade-machine-learning) by Oleksii Trekhleb)\n",
    "\n",
    "The [World Happiness Report](https://www.kaggle.com/unsdsn/world-happiness#2017.csv) ranks 155 countries by their happiness levels. Several economic and social indicators (GDP, degree of freedom, level of corruption...) are recorded for each country.\n",
    "\n",
    "Can a linear model accurately predict country happiness based on these indicators ?"
   ]
  },
  {
   "cell_type": "markdown",
   "metadata": {
    "slideshow": {
     "slide_type": "slide"
    }
   },
   "source": [
    "### Data loading and analysis"
   ]
  },
  {
   "cell_type": "code",
   "execution_count": 7,
   "metadata": {
    "slideshow": {
     "slide_type": "-"
    }
   },
   "outputs": [
    {
     "name": "stdout",
     "output_type": "stream",
     "text": [
      "Dataset shape: (155, 12)\n"
     ]
    }
   ],
   "source": [
    "# Load World Happiness Report for 2017\n",
    "dataset_url = \"./data/2017.csv\"\n",
    "df_happiness = pd.read_csv(dataset_url)\n",
    "\n",
    "# Print dataset shape (rows and columns)\n",
    "print(f\"Dataset shape: {df_happiness.shape}\")"
   ]
  },
  {
   "cell_type": "code",
   "execution_count": 8,
   "metadata": {
    "slideshow": {
     "slide_type": "slide"
    }
   },
   "outputs": [
    {
     "name": "stdout",
     "output_type": "stream",
     "text": [
      "<class 'pandas.core.frame.DataFrame'>\n",
      "RangeIndex: 155 entries, 0 to 154\n",
      "Data columns (total 12 columns):\n",
      " #   Column                         Non-Null Count  Dtype  \n",
      "---  ------                         --------------  -----  \n",
      " 0   Country                        155 non-null    object \n",
      " 1   Happiness.Rank                 155 non-null    int64  \n",
      " 2   Happiness.Score                155 non-null    float64\n",
      " 3   Whisker.high                   155 non-null    float64\n",
      " 4   Whisker.low                    155 non-null    float64\n",
      " 5   Economy..GDP.per.Capita.       155 non-null    float64\n",
      " 6   Family                         155 non-null    float64\n",
      " 7   Health..Life.Expectancy.       155 non-null    float64\n",
      " 8   Freedom                        155 non-null    float64\n",
      " 9   Generosity                     155 non-null    float64\n",
      " 10  Trust..Government.Corruption.  155 non-null    float64\n",
      " 11  Dystopia.Residual              155 non-null    float64\n",
      "dtypes: float64(10), int64(1), object(1)\n",
      "memory usage: 14.7+ KB\n"
     ]
    }
   ],
   "source": [
    "# Print a concise summary of the dataset\n",
    "df_happiness.info()"
   ]
  },
  {
   "cell_type": "code",
   "execution_count": 9,
   "metadata": {
    "slideshow": {
     "slide_type": "slide"
    }
   },
   "outputs": [
    {
     "data": {
      "text/html": [
       "<div>\n",
       "<style scoped>\n",
       "    .dataframe tbody tr th:only-of-type {\n",
       "        vertical-align: middle;\n",
       "    }\n",
       "\n",
       "    .dataframe tbody tr th {\n",
       "        vertical-align: top;\n",
       "    }\n",
       "\n",
       "    .dataframe thead th {\n",
       "        text-align: right;\n",
       "    }\n",
       "</style>\n",
       "<table border=\"1\" class=\"dataframe\">\n",
       "  <thead>\n",
       "    <tr style=\"text-align: right;\">\n",
       "      <th></th>\n",
       "      <th>Country</th>\n",
       "      <th>Happiness.Rank</th>\n",
       "      <th>Happiness.Score</th>\n",
       "      <th>Whisker.high</th>\n",
       "      <th>Whisker.low</th>\n",
       "      <th>Economy..GDP.per.Capita.</th>\n",
       "      <th>Family</th>\n",
       "      <th>Health..Life.Expectancy.</th>\n",
       "      <th>Freedom</th>\n",
       "      <th>Generosity</th>\n",
       "      <th>Trust..Government.Corruption.</th>\n",
       "      <th>Dystopia.Residual</th>\n",
       "    </tr>\n",
       "  </thead>\n",
       "  <tbody>\n",
       "    <tr>\n",
       "      <th>0</th>\n",
       "      <td>Norway</td>\n",
       "      <td>1</td>\n",
       "      <td>7.537</td>\n",
       "      <td>7.594445</td>\n",
       "      <td>7.479556</td>\n",
       "      <td>1.616463</td>\n",
       "      <td>1.533524</td>\n",
       "      <td>0.796667</td>\n",
       "      <td>0.635423</td>\n",
       "      <td>0.362012</td>\n",
       "      <td>0.315964</td>\n",
       "      <td>2.277027</td>\n",
       "    </tr>\n",
       "    <tr>\n",
       "      <th>1</th>\n",
       "      <td>Denmark</td>\n",
       "      <td>2</td>\n",
       "      <td>7.522</td>\n",
       "      <td>7.581728</td>\n",
       "      <td>7.462272</td>\n",
       "      <td>1.482383</td>\n",
       "      <td>1.551122</td>\n",
       "      <td>0.792566</td>\n",
       "      <td>0.626007</td>\n",
       "      <td>0.355280</td>\n",
       "      <td>0.400770</td>\n",
       "      <td>2.313707</td>\n",
       "    </tr>\n",
       "    <tr>\n",
       "      <th>2</th>\n",
       "      <td>Iceland</td>\n",
       "      <td>3</td>\n",
       "      <td>7.504</td>\n",
       "      <td>7.622030</td>\n",
       "      <td>7.385970</td>\n",
       "      <td>1.480633</td>\n",
       "      <td>1.610574</td>\n",
       "      <td>0.833552</td>\n",
       "      <td>0.627163</td>\n",
       "      <td>0.475540</td>\n",
       "      <td>0.153527</td>\n",
       "      <td>2.322715</td>\n",
       "    </tr>\n",
       "    <tr>\n",
       "      <th>3</th>\n",
       "      <td>Switzerland</td>\n",
       "      <td>4</td>\n",
       "      <td>7.494</td>\n",
       "      <td>7.561772</td>\n",
       "      <td>7.426227</td>\n",
       "      <td>1.564980</td>\n",
       "      <td>1.516912</td>\n",
       "      <td>0.858131</td>\n",
       "      <td>0.620071</td>\n",
       "      <td>0.290549</td>\n",
       "      <td>0.367007</td>\n",
       "      <td>2.276716</td>\n",
       "    </tr>\n",
       "    <tr>\n",
       "      <th>4</th>\n",
       "      <td>Finland</td>\n",
       "      <td>5</td>\n",
       "      <td>7.469</td>\n",
       "      <td>7.527542</td>\n",
       "      <td>7.410458</td>\n",
       "      <td>1.443572</td>\n",
       "      <td>1.540247</td>\n",
       "      <td>0.809158</td>\n",
       "      <td>0.617951</td>\n",
       "      <td>0.245483</td>\n",
       "      <td>0.382612</td>\n",
       "      <td>2.430182</td>\n",
       "    </tr>\n",
       "    <tr>\n",
       "      <th>5</th>\n",
       "      <td>Netherlands</td>\n",
       "      <td>6</td>\n",
       "      <td>7.377</td>\n",
       "      <td>7.427426</td>\n",
       "      <td>7.326574</td>\n",
       "      <td>1.503945</td>\n",
       "      <td>1.428939</td>\n",
       "      <td>0.810696</td>\n",
       "      <td>0.585384</td>\n",
       "      <td>0.470490</td>\n",
       "      <td>0.282662</td>\n",
       "      <td>2.294804</td>\n",
       "    </tr>\n",
       "    <tr>\n",
       "      <th>6</th>\n",
       "      <td>Canada</td>\n",
       "      <td>7</td>\n",
       "      <td>7.316</td>\n",
       "      <td>7.384403</td>\n",
       "      <td>7.247597</td>\n",
       "      <td>1.479204</td>\n",
       "      <td>1.481349</td>\n",
       "      <td>0.834558</td>\n",
       "      <td>0.611101</td>\n",
       "      <td>0.435540</td>\n",
       "      <td>0.287372</td>\n",
       "      <td>2.187264</td>\n",
       "    </tr>\n",
       "    <tr>\n",
       "      <th>7</th>\n",
       "      <td>New Zealand</td>\n",
       "      <td>8</td>\n",
       "      <td>7.314</td>\n",
       "      <td>7.379510</td>\n",
       "      <td>7.248490</td>\n",
       "      <td>1.405706</td>\n",
       "      <td>1.548195</td>\n",
       "      <td>0.816760</td>\n",
       "      <td>0.614062</td>\n",
       "      <td>0.500005</td>\n",
       "      <td>0.382817</td>\n",
       "      <td>2.046456</td>\n",
       "    </tr>\n",
       "    <tr>\n",
       "      <th>8</th>\n",
       "      <td>Sweden</td>\n",
       "      <td>9</td>\n",
       "      <td>7.284</td>\n",
       "      <td>7.344095</td>\n",
       "      <td>7.223905</td>\n",
       "      <td>1.494387</td>\n",
       "      <td>1.478162</td>\n",
       "      <td>0.830875</td>\n",
       "      <td>0.612924</td>\n",
       "      <td>0.385399</td>\n",
       "      <td>0.384399</td>\n",
       "      <td>2.097538</td>\n",
       "    </tr>\n",
       "    <tr>\n",
       "      <th>9</th>\n",
       "      <td>Australia</td>\n",
       "      <td>10</td>\n",
       "      <td>7.284</td>\n",
       "      <td>7.356651</td>\n",
       "      <td>7.211349</td>\n",
       "      <td>1.484415</td>\n",
       "      <td>1.510042</td>\n",
       "      <td>0.843887</td>\n",
       "      <td>0.601607</td>\n",
       "      <td>0.477699</td>\n",
       "      <td>0.301184</td>\n",
       "      <td>2.065211</td>\n",
       "    </tr>\n",
       "  </tbody>\n",
       "</table>\n",
       "</div>"
      ],
      "text/plain": [
       "       Country  Happiness.Rank  Happiness.Score  Whisker.high  Whisker.low  \\\n",
       "0       Norway               1            7.537      7.594445     7.479556   \n",
       "1      Denmark               2            7.522      7.581728     7.462272   \n",
       "2      Iceland               3            7.504      7.622030     7.385970   \n",
       "3  Switzerland               4            7.494      7.561772     7.426227   \n",
       "4      Finland               5            7.469      7.527542     7.410458   \n",
       "5  Netherlands               6            7.377      7.427426     7.326574   \n",
       "6       Canada               7            7.316      7.384403     7.247597   \n",
       "7  New Zealand               8            7.314      7.379510     7.248490   \n",
       "8       Sweden               9            7.284      7.344095     7.223905   \n",
       "9    Australia              10            7.284      7.356651     7.211349   \n",
       "\n",
       "   Economy..GDP.per.Capita.    Family  Health..Life.Expectancy.   Freedom  \\\n",
       "0                  1.616463  1.533524                  0.796667  0.635423   \n",
       "1                  1.482383  1.551122                  0.792566  0.626007   \n",
       "2                  1.480633  1.610574                  0.833552  0.627163   \n",
       "3                  1.564980  1.516912                  0.858131  0.620071   \n",
       "4                  1.443572  1.540247                  0.809158  0.617951   \n",
       "5                  1.503945  1.428939                  0.810696  0.585384   \n",
       "6                  1.479204  1.481349                  0.834558  0.611101   \n",
       "7                  1.405706  1.548195                  0.816760  0.614062   \n",
       "8                  1.494387  1.478162                  0.830875  0.612924   \n",
       "9                  1.484415  1.510042                  0.843887  0.601607   \n",
       "\n",
       "   Generosity  Trust..Government.Corruption.  Dystopia.Residual  \n",
       "0    0.362012                       0.315964           2.277027  \n",
       "1    0.355280                       0.400770           2.313707  \n",
       "2    0.475540                       0.153527           2.322715  \n",
       "3    0.290549                       0.367007           2.276716  \n",
       "4    0.245483                       0.382612           2.430182  \n",
       "5    0.470490                       0.282662           2.294804  \n",
       "6    0.435540                       0.287372           2.187264  \n",
       "7    0.500005                       0.382817           2.046456  \n",
       "8    0.385399                       0.384399           2.097538  \n",
       "9    0.477699                       0.301184           2.065211  "
      ]
     },
     "execution_count": 9,
     "metadata": {},
     "output_type": "execute_result"
    }
   ],
   "source": [
    "# Show the 10 first samples\n",
    "df_happiness.head(n=10)"
   ]
  },
  {
   "cell_type": "code",
   "execution_count": 10,
   "metadata": {
    "slideshow": {
     "slide_type": "slide"
    }
   },
   "outputs": [
    {
     "data": {
      "image/png": "[encoded data removed]",
      "text/plain": [
       "<Figure size 1152x864 with 12 Axes>"
      ]
     },
     "metadata": {
      "image/png": {
       "height": 701,
       "width": 931
      }
     },
     "output_type": "display_data"
    }
   ],
   "source": [
    "# Plot histograms for all numerical attributes\n",
    "df_happiness.hist(bins=20, figsize=(16, 12))\n",
    "plt.show()"
   ]
  },
  {
   "cell_type": "markdown",
   "metadata": {
    "slideshow": {
     "slide_type": "slide"
    }
   },
   "source": [
    "### Univariate regression\n",
    "\n",
    "Only one feature is used by the model, which has two parameters.\n",
    "\n",
    "$$y' = \\theta_0 + \\theta_1x$$"
   ]
  },
  {
   "cell_type": "markdown",
   "metadata": {},
   "source": [
    "## Environment setup"
   ]
  },
  {
   "cell_type": "code",
   "execution_count": null,
   "metadata": {},
   "outputs": [],
   "source": [
    "import platform\n",
    "\n",
    "print(f\"Python version: {platform.python_version()}\")\n",
    "assert platform.python_version_tuple() >= (\"3\", \"6\")\n",
    "\n",
    "import numpy as np\n",
    "import matplotlib.pyplot as plt\n",
    "import seaborn as sns\n",
    "import plotly\n",
    "import plotly.graph_objs as go\n",
    "import pandas as pd\n",
    "\n",
    "print(f\"seaborn version: {sns.__version__}\")"
   ]
  },
  {
   "cell_type": "code",
   "execution_count": null,
   "metadata": {},
   "outputs": [],
   "source": [
    "# Setup plots\n",
    "%matplotlib inline\n",
    "plt.rcParams[\"figure.figsize\"] = 10, 8\n",
    "%config InlineBackend.figure_format = \"retina\"\n",
    "sns.set()\n",
    "\n",
    "# Configure Plotly to be rendered inline in the notebook.\n",
    "plotly.offline.init_notebook_mode()"
   ]
  },
  {
   "cell_type": "code",
   "execution_count": null,
   "metadata": {},
   "outputs": [],
   "source": [
    "from sklearn import metrics\n",
    "import warnings\n",
    "warnings.filterwarnings(\"ignore\") \n",
    "import sklearn\n",
    "\n",
    "print(f\"scikit-learn version: {sklearn.__version__}\")\n",
    "assert sklearn.__version__ >= \"0.20\"\n",
    "\n",
    "from sklearn.model_selection import train_test_split\n",
    "from sklearn.linear_model import LinearRegression, SGDRegressor, Ridge\n",
    "from sklearn.metrics import mean_squared_error\n",
    "from sklearn.preprocessing import PolynomialFeatures, StandardScaler\n",
    "from sklearn.pipeline import Pipeline"
   ]
  },
  {
   "cell_type": "markdown",
   "metadata": {
    "slideshow": {
     "slide_type": "slide"
    }
   },
   "source": [
    "### Example: predict country happiness using only GDP"
   ]
  },
  {
   "cell_type": "code",
   "execution_count": 11,
   "metadata": {
    "slideshow": {
     "slide_type": "-"
    }
   },
   "outputs": [],
   "source": [
    "def filter_dataset(df_data, input_features, target_feature):\n",
    "    \"\"\"Return a dataset containing only the selected input and output features\"\"\"\n",
    "    \n",
    "    feature_list = input_features + [target_feature]\n",
    "    return df_data[feature_list]"
   ]
  },
  {
   "cell_type": "code",
   "execution_count": 12,
   "metadata": {},
   "outputs": [],
   "source": [
    "# Define GDP as sole input feature\n",
    "input_features_uni = [\"Economy..GDP.per.Capita.\"]\n",
    "# Define country happiness as target\n",
    "target_feature = \"Happiness.Score\"\n",
    "\n",
    "df_happiness_uni = filter_dataset(df_happiness, input_features_uni, target_feature)"
   ]
  },
  {
   "cell_type": "code",
   "execution_count": 13,
   "metadata": {
    "slideshow": {
     "slide_type": "slide"
    }
   },
   "outputs": [
    {
     "data": {
      "text/html": [
       "<div>\n",
       "<style scoped>\n",
       "    .dataframe tbody tr th:only-of-type {\n",
       "        vertical-align: middle;\n",
       "    }\n",
       "\n",
       "    .dataframe tbody tr th {\n",
       "        vertical-align: top;\n",
       "    }\n",
       "\n",
       "    .dataframe thead th {\n",
       "        text-align: right;\n",
       "    }\n",
       "</style>\n",
       "<table border=\"1\" class=\"dataframe\">\n",
       "  <thead>\n",
       "    <tr style=\"text-align: right;\">\n",
       "      <th></th>\n",
       "      <th>Economy..GDP.per.Capita.</th>\n",
       "      <th>Happiness.Score</th>\n",
       "    </tr>\n",
       "  </thead>\n",
       "  <tbody>\n",
       "    <tr>\n",
       "      <th>145</th>\n",
       "      <td>0.591683</td>\n",
       "      <td>3.593</td>\n",
       "    </tr>\n",
       "    <tr>\n",
       "      <th>57</th>\n",
       "      <td>0.833757</td>\n",
       "      <td>5.823</td>\n",
       "    </tr>\n",
       "    <tr>\n",
       "      <th>151</th>\n",
       "      <td>0.777153</td>\n",
       "      <td>3.462</td>\n",
       "    </tr>\n",
       "    <tr>\n",
       "      <th>131</th>\n",
       "      <td>0.894652</td>\n",
       "      <td>4.096</td>\n",
       "    </tr>\n",
       "    <tr>\n",
       "      <th>56</th>\n",
       "      <td>1.217684</td>\n",
       "      <td>5.825</td>\n",
       "    </tr>\n",
       "    <tr>\n",
       "      <th>112</th>\n",
       "      <td>0.234306</td>\n",
       "      <td>4.550</td>\n",
       "    </tr>\n",
       "    <tr>\n",
       "      <th>29</th>\n",
       "      <td>1.233748</td>\n",
       "      <td>6.452</td>\n",
       "    </tr>\n",
       "    <tr>\n",
       "      <th>94</th>\n",
       "      <td>0.783756</td>\n",
       "      <td>5.074</td>\n",
       "    </tr>\n",
       "    <tr>\n",
       "      <th>72</th>\n",
       "      <td>1.069318</td>\n",
       "      <td>5.395</td>\n",
       "    </tr>\n",
       "    <tr>\n",
       "      <th>31</th>\n",
       "      <td>1.127869</td>\n",
       "      <td>6.424</td>\n",
       "    </tr>\n",
       "  </tbody>\n",
       "</table>\n",
       "</div>"
      ],
      "text/plain": [
       "     Economy..GDP.per.Capita.  Happiness.Score\n",
       "145                  0.591683            3.593\n",
       "57                   0.833757            5.823\n",
       "151                  0.777153            3.462\n",
       "131                  0.894652            4.096\n",
       "56                   1.217684            5.825\n",
       "112                  0.234306            4.550\n",
       "29                   1.233748            6.452\n",
       "94                   0.783756            5.074\n",
       "72                   1.069318            5.395\n",
       "31                   1.127869            6.424"
      ]
     },
     "execution_count": 13,
     "metadata": {},
     "output_type": "execute_result"
    }
   ],
   "source": [
    "# Show 10 random samples\n",
    "df_happiness_uni.sample(n=10)"
   ]
  },
  {
   "cell_type": "markdown",
   "metadata": {
    "slideshow": {
     "slide_type": "slide"
    }
   },
   "source": [
    "### Data splitting"
   ]
  },
  {
   "cell_type": "code",
   "execution_count": 14,
   "metadata": {
    "slideshow": {
     "slide_type": "-"
    }
   },
   "outputs": [],
   "source": [
    "def split_dataset(df_data, input_features, target_feature):\n",
    "    \"\"\"Split dataset between training and test sets, keeping only selected features\"\"\"\n",
    "    \n",
    "    df_train, df_test = train_test_split(df_data, test_size=0.2)\n",
    "\n",
    "    print(f\"Training dataset: {df_train.shape}\")\n",
    "    print(f\"Test dataset: {df_test.shape}\")\n",
    "\n",
    "    x_train = df_train[input_features].to_numpy()\n",
    "    y_train = df_train[target_feature].to_numpy()\n",
    "\n",
    "    x_test = df_test[input_features].to_numpy()\n",
    "    y_test = df_test[target_feature].to_numpy()\n",
    "\n",
    "    print(f\"Training data: {x_train.shape}, labels: {y_train.shape}\")\n",
    "    print(f\"Test data: {x_test.shape}, labels: {y_test.shape}\")\n",
    "\n",
    "    return x_train, y_train, x_test, y_test"
   ]
  },
  {
   "cell_type": "code",
   "execution_count": 15,
   "metadata": {
    "slideshow": {
     "slide_type": "slide"
    }
   },
   "outputs": [
    {
     "name": "stdout",
     "output_type": "stream",
     "text": [
      "Training dataset: (124, 2)\n",
      "Test dataset: (31, 2)\n",
      "Training data: (124, 1), labels: (124,)\n",
      "Test data: (31, 1), labels: (31,)\n"
     ]
    }
   ],
   "source": [
    "x_train_uni, y_train_uni, x_test_uni, y_test_uni = split_dataset(\n",
    "    df_happiness_uni, input_features_uni, target_feature\n",
    ")"
   ]
  },
  {
   "cell_type": "markdown",
   "metadata": {
    "slideshow": {
     "slide_type": "slide"
    }
   },
   "source": [
    "### Data plotting"
   ]
  },
  {
   "cell_type": "code",
   "execution_count": 16,
   "metadata": {
    "slideshow": {
     "slide_type": "skip"
    },
    "tags": [
     "hide-input"
    ]
   },
   "outputs": [],
   "source": [
    "def plot_univariate(x, y, input_features, target_features, model_list=None):\n",
    "    \"\"\"2D plot of features and target, including model prediction if defined\"\"\"\n",
    "\n",
    "    plt.scatter(x, y, label=\"Actual\")\n",
    "\n",
    "    if model_list is not None:\n",
    "        predictions_count = 100\n",
    "        x_pred = np.linspace(x.min(), x.max(), predictions_count).reshape(\n",
    "            predictions_count, 1\n",
    "        )\n",
    "        for model_name, model in model_list.items():\n",
    "            y_pred = model.predict(x_pred)\n",
    "            plt.plot(x_pred, y_pred, \"r\", label=model_name)\n",
    "\n",
    "    plt.xlabel(input_features)\n",
    "    plt.ylabel(target_feature)\n",
    "    plt.title(\"Countries Happiness\")\n",
    "    plt.legend()"
   ]
  },
  {
   "cell_type": "code",
   "execution_count": 17,
   "metadata": {
    "slideshow": {
     "slide_type": "slide"
    }
   },
   "outputs": [
    {
     "data": {
      "image/png": "[encoded data removed]",
      "text/plain": [
       "<Figure size 720x576 with 1 Axes>"
      ]
     },
     "metadata": {
      "image/png": {
       "height": 499,
       "width": 606
      }
     },
     "output_type": "display_data"
    }
   ],
   "source": [
    "# Plot training data\n",
    "plot_univariate(x_train_uni, y_train_uni, input_features_uni, target_feature)"
   ]
  },
  {
   "cell_type": "markdown",
   "metadata": {
    "slideshow": {
     "slide_type": "slide"
    }
   },
   "source": [
    "## Analytical approach: normal equation"
   ]
  },
  {
   "cell_type": "markdown",
   "metadata": {},
   "source": [
    "- Video: [Linear Regression in Matrix](https://www.youtube.com/watch?v=Qa_FI92_qo8)"
   ]
  },
  {
   "cell_type": "markdown",
   "metadata": {
    "slideshow": {
     "slide_type": "slide"
    }
   },
   "source": [
    "### Problem formulation\n",
    "\n",
    "- $\\pmb{x}^{(i)}$: $i$th data sample, vector of $n+1$ features $x^{(i)}_j$ with $x^{(i)}_0 = 1$.\n",
    "- $\\pmb{\\theta}$: parameters of the linear model, vector of $n+1$ values $\\theta_j$.\n",
    "- $\\mathcal{h}_\\theta$: hypothesis function (relationship between inputs and targets).\n",
    "- $y'^{(i)}$: model output for the $i$th sample.\n",
    "\n",
    "$$\\pmb{x}^{(i)} = \\begin{pmatrix}\n",
    "       \\ x^{(i)}_0 \\\\\n",
    "       \\ x^{(i)}_1 \\\\\n",
    "       \\ \\vdots \\\\\n",
    "       \\ x^{(i)}_n\n",
    "     \\end{pmatrix} \\in \\pmb{R}^{n+1}\n",
    "\\;\\;\\;\n",
    "\\pmb{\\theta} = \\begin{pmatrix}\n",
    "       \\ \\theta_0 \\\\\n",
    "       \\ \\theta_1 \\\\\n",
    "       \\ \\vdots \\\\\n",
    "       \\ \\theta_n\n",
    "     \\end{pmatrix} \\in \\pmb{R}^{n+1}$$\n",
    "\n",
    "$$y'^{(i)} = \\mathcal{h}_\\theta(x^{(i)}) = \\theta_0 + \\theta_1x^{(i)}_1 + \\dotsc + \\theta_nx^{(i)}_n = \\pmb{\\theta}^T\\pmb{x}^{(i)}$$"
   ]
  },
  {
   "cell_type": "markdown",
   "metadata": {
    "slideshow": {
     "slide_type": "slide"
    }
   },
   "source": [
    "### Loss function\n",
    "\n",
    "We use the *Mean Squared Error* (MSE). RMSE is also a possible choice.\n",
    "\n",
    "$$\\mathcal{L}(\\pmb{\\theta}) = \\frac{1}{m}\\sum_{i=1}^m (y'^{(i)} - y^{(i)})^2 = \\frac{1}{m}\\sum_{i=1}^m (\\mathcal{h}_\\theta(x^{(i)}) - y^{(i)})^2$$"
   ]
  },
  {
   "cell_type": "markdown",
   "metadata": {
    "slideshow": {
     "slide_type": "slide"
    }
   },
   "source": [
    "### Analytical solution\n",
    "\n",
    "- Technique for computing the regression coefficients $\\theta_i$ analytically (by calculus).\n",
    "- One-step learning algorithm (no iterations).\n",
    "- Also called *Ordinary Least Squares*.\n",
    "\n",
    "$$\\pmb{\\theta^{*}} = (\\pmb{X}^T\\pmb{X})^{-1}\\pmb{X}^T\\pmb{y}$$\n",
    "\n",
    "- $\\pmb{\\theta^*}$ is the parameter vector that minimizes the loss function $\\mathcal{L}(\\theta)$.\n",
    "- This result is called the **Normal Equation**."
   ]
  },
  {
   "cell_type": "markdown",
   "metadata": {
    "slideshow": {
     "slide_type": "subslide"
    }
   },
   "source": [
    "### Math proof (optional)\n",
    "\n",
    "(Inspired by [Derivation of the Normal Equation for linear regression](https://eli.thegreenplace.net/2014/derivation-of-the-normal-equation-for-linear-regression/) and [ML From Scratch, Part 1: Linear Regression](http://www.oranlooney.com/post/ml-from-scratch-part-1-linear-regression/))"
   ]
  },
  {
   "cell_type": "markdown",
   "metadata": {
    "slideshow": {
     "slide_type": "subslide"
    }
   },
   "source": [
    "#### Vectorized notation\n",
    "\n",
    "- $\\pmb{X}$: matrix of input data (*design matrix*). Each line corresponds to a sample.\n",
    "- $\\pmb{y}$: vector of target values.\n",
    "\n",
    "$$\\pmb{X} = \\begin{bmatrix}\n",
    "       \\ x^{(0)T} \\\\\n",
    "       \\ x^{(1)T} \\\\\n",
    "       \\ \\vdots \\\\\n",
    "       \\ x^{(m)T} \\\\\n",
    "     \\end{bmatrix} =\n",
    "\\begin{bmatrix}\n",
    "       \\ x^{(1)}_0 & x^{(1)}_1 & \\cdots & x^{(1)}_n \\\\\n",
    "       \\ x^{(2)}_0 & x^{(2)}_1 & \\cdots & x^{(2)}_n \\\\\n",
    "       \\ \\vdots & \\vdots & \\ddots & \\vdots \\\\\n",
    "       \\ x^{(m)}_0 & x^{(m)}_1 & \\cdots & x^{(m)}_n\n",
    "     \\end{bmatrix}\\;\\;\\;\n",
    "\\pmb{y} = \\begin{pmatrix}\n",
    "       \\ y^{(1)} \\\\\n",
    "       \\ y^{(2)} \\\\\n",
    "       \\ \\vdots \\\\\n",
    "       \\ y^{(m)}\n",
    "     \\end{pmatrix}$$\n",
    "     \n",
    "$$\\pmb{X}\\pmb{\\theta} =\n",
    "\\begin{pmatrix}\n",
    "       \\ \\theta_0 + \\theta_1x^{(1)}_1 + \\dotsc + \\theta_nx^{(1)}_n \\\\\n",
    "       \\ \\theta_0 + \\theta_1x^{(2)}_1 + \\dotsc + \\theta_nx^{(2)}_n \\\\\n",
    "       \\ \\vdots \\\\\n",
    "       \\ \\theta_0 + \\theta_1x^{(m)}_1 + \\dotsc + \\theta_nx^{(m)}_n\n",
    "     \\end{pmatrix} = \n",
    "\\begin{pmatrix}\n",
    "       \\ \\mathcal{h}_\\theta(x^{(1)}) \\\\\n",
    "       \\ \\mathcal{h}_\\theta(x^{(2)}) \\\\\n",
    "       \\ \\vdots \\\\\n",
    "       \\ \\mathcal{h}_\\theta(x^{(m)})\n",
    "     \\end{pmatrix}$$"
   ]
  },
  {
   "cell_type": "markdown",
   "metadata": {
    "slideshow": {
     "slide_type": "subslide"
    }
   },
   "source": [
    "#### Vectorized loss\n",
    "\n",
    "The loss can also be expressed using a vectorized notation.\n",
    "\n",
    "$$\\mathcal{L}(\\theta) = \\frac{1}{m}\\sum_{i=1}^m (\\mathcal{h}_\\theta(x^{(i)}) - y^{(i)})^2 = \\frac{1}{m}{{\\lVert{\\pmb{X}\\pmb{\\theta} - \\pmb{y}}\\rVert}_2}^2$$\n",
    "\n",
    "The squared norm of a vector $\\pmb{v}$ is the inner product of that vector with its transpose: $\\sum_{i=1}^n v_i^2 = \\pmb{v}^T \\pmb{v}$.\n",
    "\n",
    "$$\\mathcal{L}(\\theta) = \\frac{1}{m}(\\pmb{X}\\pmb{\\theta} - \\pmb{y})^T(\\pmb{X}\\pmb{\\theta} - \\pmb{y})$$"
   ]
  },
  {
   "cell_type": "markdown",
   "metadata": {
    "slideshow": {
     "slide_type": "subslide"
    }
   },
   "source": [
    "The previous expression can be developped.\n",
    "\n",
    "$$\\mathcal{L}(\\theta) = \\frac{1}{m}\\left((\\pmb{X}\\pmb{\\theta})^T - \\pmb{y}^T)(\\pmb{X}\\pmb{\\theta} - \\pmb{y}\\right) = \\frac{1}{m}\\left((\\pmb{X}\\pmb{\\theta})^T\\pmb{X}\\pmb{\\theta} - (\\pmb{X}\\pmb{\\theta})^T\\pmb{y} - \\pmb{y}^T(\\pmb{X}\\pmb{\\theta}) + \\pmb{y}^T\\pmb{y}\\right)$$\n",
    "\n",
    "Since $\\pmb{X}\\pmb{\\theta}$ and $\\pmb{y}$ are vectors, $(\\pmb{X}\\pmb{\\theta})^T\\pmb{y} = \\pmb{y}^T(\\pmb{X}\\pmb{\\theta})$.\n",
    "\n",
    "$$\\mathcal{L}(\\theta) = \\frac{1}{m}\\left(\\pmb{\\theta}^T\\pmb{X}^T\\pmb{X}\\pmb{\\theta} - 2(\\pmb{X}\\pmb{\\theta})^T\\pmb{y} + \\pmb{y}^T\\pmb{y}\\right)$$"
   ]
  },
  {
   "cell_type": "markdown",
   "metadata": {
    "slideshow": {
     "slide_type": "subslide"
    }
   },
   "source": [
    "#### Loss gradient\n",
    "\n",
    "We must find the $\\pmb{\\theta^*}$ vector that minimizes the loss function $\\mathcal{L}(\\theta)$.\n",
    "\n",
    "$$\\pmb{\\theta^*} = \\underset{\\theta}{\\mathrm{argmin}}\\;\\mathcal{L}(\\theta)$$\n",
    "\n",
    "Since the loss function is continuous, convex and differentiable everywhere (in simplest termes: bowl-shaped), it admits one unique global minimum, for which the gradient vector $\\nabla_{\\theta}\\mathcal{L}(\\pmb{\\theta})$ is equal to $\\vec{0}$.\n",
    "\n",
    "$$\\nabla_{\\theta}\\mathcal{L}(\\pmb{\\theta}) = \\begin{pmatrix}\n",
    "       \\ \\frac{\\partial}{\\partial \\theta_0} \\mathcal{L}(\\boldsymbol{\\theta}) \\\\\n",
    "       \\ \\frac{\\partial}{\\partial \\theta_1} \\mathcal{L}(\\boldsymbol{\\theta}) \\\\\n",
    "       \\ \\vdots \\\\\n",
    "       \\ \\frac{\\partial}{\\partial \\theta_n} \\mathcal{L}(\\boldsymbol{\\theta})\n",
    "     \\end{pmatrix} = \\nabla_{\\theta}\\left(\\frac{1}{m}(\\pmb{\\theta}^T\\pmb{X}^T\\pmb{X}\\pmb{\\theta} - 2(\\pmb{X}\\pmb{\\theta})^T\\pmb{y} + \\pmb{y}^T\\pmb{y})\\right)$$"
   ]
  },
  {
   "cell_type": "markdown",
   "metadata": {
    "slideshow": {
     "slide_type": "subslide"
    }
   },
   "source": [
    "#### Computation of loss gradient terms\n",
    "\n",
    "Since $\\pmb{y}^T\\pmb{y}$ is constant w.r.t. $\\pmb{\\theta}$, $\\nabla_{\\theta}(\\pmb{y}^T\\pmb{y}) = \\vec{0}$.\n",
    "\n",
    "$$2(\\pmb{X}\\pmb{\\theta})^T\\pmb{y} = 2\\;\\begin{pmatrix}\n",
    "       \\ \\theta_0 + \\theta_1x^{(1)}_1 + \\dotsc + \\theta_nx^{(1)}_n \\\\\n",
    "       \\ \\theta_0 + \\theta_1x^{(2)}_1 + \\dotsc + \\theta_nx^{(2)}_n \\\\\n",
    "       \\ \\vdots \\\\\n",
    "       \\ \\theta_0 + \\theta_1x^{(m)}_1 + \\dotsc + \\theta_nx^{(m)}_n\n",
    "     \\end{pmatrix}^T\\begin{pmatrix}\n",
    "       \\ y^{(1)} \\\\\n",
    "       \\ y^{(2)} \\\\\n",
    "       \\ \\vdots \\\\\n",
    "       \\ y^{(m)}\n",
    "     \\end{pmatrix} = 2\\sum_{i=1}^m y^{(i)}(\\theta_0 + \\theta_1x^{(i)}_1 + \\dotsc + \\theta_nx^{(i)}_n)$$\n",
    "     \n",
    "Reminder: $\\forall i \\in [1..m], x_0^{(i)} = 1$.\n",
    "\n",
    "$$2(\\pmb{X}\\pmb{\\theta})^T\\pmb{y} =2\\sum_{i=1}^m y^{(i)}\\sum_{j=0}^n x_j^{(i)}\\theta_j$$"
   ]
  },
  {
   "cell_type": "markdown",
   "metadata": {
    "slideshow": {
     "slide_type": "subslide"
    }
   },
   "source": [
    "$$\\nabla_{\\theta}\\left(2(\\pmb{X}\\pmb{\\theta})^T\\pmb{y}\\right) = \n",
    "\\begin{pmatrix}\n",
    "       \\ \\frac{\\partial}{\\partial \\theta_0} \\left(2(\\pmb{X}\\pmb{\\theta})^T\\pmb{y}\\right)  \\\\\n",
    "       \\ \\frac{\\partial}{\\partial \\theta_1} \\left(2(\\pmb{X}\\pmb{\\theta})^T\\pmb{y}\\right) \\\\\n",
    "       \\ \\vdots \\\\\n",
    "       \\ \\frac{\\partial}{\\partial \\theta_n} \\left(2(\\pmb{X}\\pmb{\\theta})^T\\pmb{y}\\right)\n",
    "     \\end{pmatrix} =\n",
    "2\\begin{pmatrix}\n",
    "       \\ \\sum_{i=1}^m y^{(i)}x_0^{(i)} \\\\\n",
    "       \\ \\sum_{i=1}^m y^{(i)}x_1^{(i)} \\\\\n",
    "       \\ \\vdots \\\\\n",
    "       \\ \\sum_{i=1}^m y^{(i)}x_n^{(i)}\n",
    "     \\end{pmatrix} = 2 \\pmb{X}^T\\pmb{y}$$"
   ]
  },
  {
   "cell_type": "markdown",
   "metadata": {
    "slideshow": {
     "slide_type": "subslide"
    }
   },
   "source": [
    "$\\pmb{X}^T\\pmb{X}$ is a square and symmetric matrix called $\\pmb{A}$ here for simplicity of notation.\n",
    "\n",
    "$$\\pmb{X}^T\\pmb{X} = \\begin{bmatrix}\n",
    "       \\ x^{(1)}_0 & x^{(2)}_0 & \\cdots & x^{(m)}_0 \\\\\n",
    "       \\ x^{(1)}_1 & x^{(2)}_1 & \\cdots & x^{(m)}_1 \\\\\n",
    "       \\ \\vdots & \\vdots & \\ddots & \\vdots \\\\\n",
    "       \\ x^{(1)}_n & x^{(2)}_n & \\cdots & x^{(m)}_n\n",
    "     \\end{bmatrix}\n",
    "\\begin{bmatrix}\n",
    "       \\ x^{(1)}_0 & x^{(1)}_1 & \\cdots & x^{(1)}_n \\\\\n",
    "       \\ x^{(2)}_0 & x^{(2)}_1 & \\cdots & x^{(2)}_n \\\\\n",
    "       \\ \\vdots & \\vdots & \\ddots & \\vdots \\\\\n",
    "       \\ x^{(m)}_0 & x^{(m)}_1 & \\cdots & x^{(m)}_n\n",
    "     \\end{bmatrix} = \\pmb{A} \\in \\pmb{R}^{n+1 \\times n+1}$$"
   ]
  },
  {
   "cell_type": "markdown",
   "metadata": {
    "slideshow": {
     "slide_type": "subslide"
    }
   },
   "source": [
    "$$\\pmb{\\theta}^T\\pmb{X}^T\\pmb{X}\\pmb{\\theta} = \\begin{pmatrix}\n",
    "       \\ \\theta_0 \\\\\n",
    "       \\ \\theta_1 \\\\\n",
    "       \\ \\vdots \\\\\n",
    "       \\ \\theta_n\n",
    "     \\end{pmatrix}^T\n",
    "     \\begin{bmatrix}\n",
    "       \\ a_{00} & a_{01} & \\cdots & a_{0n} \\\\\n",
    "       \\ a_{10} & a_{11} & \\cdots & a_{1n} \\\\\n",
    "       \\ \\vdots & \\vdots & \\ddots & \\vdots \\\\\n",
    "       \\ a_{n0} & a_{n1} & \\cdots & a_{nn}\n",
    "     \\end{bmatrix}\n",
    "     \\begin{pmatrix}\n",
    "       \\ \\theta_0 \\\\\n",
    "       \\ \\theta_1 \\\\\n",
    "       \\ \\vdots \\\\\n",
    "       \\ \\theta_n\n",
    "     \\end{pmatrix} = \n",
    "     \\begin{pmatrix}\n",
    "       \\ \\theta_0 \\\\\n",
    "       \\ \\theta_1 \\\\\n",
    "       \\ \\vdots \\\\\n",
    "       \\ \\theta_n\n",
    "     \\end{pmatrix}^T\n",
    "     \\begin{pmatrix}\n",
    "       \\ a_{00}\\theta_0 + a_{01}\\theta_1 + \\dotsc + a_{0n}\\theta_n \\\\\n",
    "       \\ a_{10}\\theta_0 + a_{11}\\theta_1 + \\dotsc + a_{1n}\\theta_n \\\\\n",
    "       \\ \\vdots \\\\\n",
    "       \\ a_{n0}\\theta_0 + a_{n1}\\theta_1 + \\dotsc + a_{nn}\\theta_n\n",
    "     \\end{pmatrix}$$\n",
    "     \n",
    "$$\\pmb{\\theta}^T\\pmb{X}^T\\pmb{X}\\pmb{\\theta} = \\theta_0(a_{00}\\theta_0 + a_{01}\\theta_1 + \\dotsc + a_{0n}\\theta_n) + \\theta_1(a_{10}\\theta_0 + a_{11}\\theta_1 + \\dotsc + a_{1n}\\theta_n) + \\dotsc + \\theta_n(a_{n0}\\theta_0 + a_{n1}\\theta_1 + \\dotsc + a_{nn}\\theta_n)$$"
   ]
  },
  {
   "cell_type": "markdown",
   "metadata": {
    "slideshow": {
     "slide_type": "subslide"
    }
   },
   "source": [
    "$$\\frac{\\partial}{\\partial \\theta_0} \\left(\\pmb{\\theta}^T\\pmb{X}^T\\pmb{X}\\pmb{\\theta}\\right) =\n",
    "2a_{00}\\theta_0 + a_{01}\\theta_1 + \\dotsc + a_{0n}\\theta_n + a_{10}\\theta_1 + a_{20}\\theta_2 + \\dotsc + a_{n0}\\theta_n$$\n",
    "\n",
    "Since $\\pmb{A}$ is symmetric, $\\forall i,j \\in [1..n,1..n], a_{ij} = a_{ji}$.\n",
    "\n",
    "$$\\frac{\\partial}{\\partial \\theta_0} \\left(\\pmb{\\theta}^T\\pmb{X}^T\\pmb{X}\\pmb{\\theta}\\right) =\n",
    "2(a_{00}\\theta_0 + a_{01}\\theta_1 + \\dotsc + a_{0n}\\theta_n) =\n",
    "2\\sum_{j=0}^n a_{0j}\\theta_j$$\n",
    "\n",
    "$$\\nabla_{\\theta}\\left(\\pmb{\\theta}^T\\pmb{X}^T\\pmb{X}\\pmb{\\theta}\\right)=\n",
    "\\begin{pmatrix}\n",
    "       \\ \\frac{\\partial}{\\partial \\theta_0} \\left(\\pmb{\\theta}^T\\pmb{X}^T\\pmb{X}\\pmb{\\theta}\\right)  \\\\\n",
    "       \\ \\frac{\\partial}{\\partial \\theta_1} \\left(\\pmb{\\theta}^T\\pmb{X}^T\\pmb{X}\\pmb{\\theta}\\right) \\\\\n",
    "       \\ \\vdots \\\\\n",
    "       \\ \\frac{\\partial}{\\partial \\theta_n} \\left(\\pmb{\\theta}^T\\pmb{X}^T\\pmb{X}\\pmb{\\theta}\\right)\n",
    "     \\end{pmatrix} =\n",
    "     2\\begin{pmatrix}\n",
    "       \\ \\sum_{j=0}^n a_{0j}\\theta_j  \\\\\n",
    "       \\ \\sum_{j=0}^n a_{1j}\\theta_j \\\\\n",
    "       \\ \\vdots \\\\\n",
    "       \\ \\sum_{j=0}^n a_{nj}\\theta_j\n",
    "     \\end{pmatrix}=\n",
    "     2\\pmb{A}\\pmb{\\theta} = 2\\pmb{X}^T\\pmb{X}\\pmb{\\theta}$$"
   ]
  },
  {
   "cell_type": "markdown",
   "metadata": {
    "slideshow": {
     "slide_type": "subslide"
    }
   },
   "source": [
    "#### Final gradient expression\n",
    "\n",
    "We can finally express the gradient of the loss function w.r.t. the model parameters:\n",
    "\n",
    "$$\\nabla_{\\theta}\\mathcal{L}(\\pmb{\\theta}) = \\nabla_{\\theta}\\left(\\frac{1}{m}(\\pmb{\\theta}^T\\pmb{X}^T\\pmb{X}\\pmb{\\theta} - 2(\\pmb{X}\\pmb{\\theta})^T\\pmb{y} + \\pmb{y}^T\\pmb{y})\\right) = \\frac{1}{m}\\left(2\\pmb{X}^T\\pmb{X}\\pmb{\\theta} - 2\\pmb{X}^T\\pmb{y}\\right)$$\n",
    "\n",
    "$$\\nabla_{\\theta}\\mathcal{L}(\\pmb{\\theta}) = \\frac{2}{m}\\pmb{X}^T\\left(\\pmb{X}\\pmb{\\theta} - \\pmb{y}\\right)$$"
   ]
  },
  {
   "cell_type": "markdown",
   "metadata": {
    "slideshow": {
     "slide_type": "subslide"
    }
   },
   "source": [
    "#### Loss minimization\n",
    "\n",
    "The $\\pmb{\\theta^*}$ vector that minimizes the loss is such as the gradient is equal to $\\vec{0}$. In other terms:\n",
    "\n",
    "$$\\pmb{X}^T\\pmb{X}\\pmb{\\theta^{*}} - \\pmb{X}^T\\pmb{y} = \\vec{0}$$\n",
    "\n",
    "$$\\pmb{X}^T\\pmb{X}\\pmb{\\theta^{*}} = \\pmb{X}^T\\pmb{y}$$\n",
    "\n",
    "If $\\pmb{X}^T\\pmb{X}$ is an inversible matrix, the result is given by:\n",
    "\n",
    "$$\\pmb{\\theta^{*}} = (\\pmb{X}^T\\pmb{X})^{-1}\\pmb{X}^T\\pmb{y}$$\n",
    "\n",
    "Which is exactly the Normal Equation we were expecting to see!"
   ]
  },
  {
   "cell_type": "markdown",
   "metadata": {},
   "source": [
    "- tutorial [ linear regression with example](https://muthu.co/math-behind-linear-regression-and-python-code/)"
   ]
  },
  {
   "cell_type": "markdown",
   "metadata": {
    "slideshow": {
     "slide_type": "slide"
    }
   },
   "source": [
    "### Example: applying Normal Equation to predict country happiness"
   ]
  },
  {
   "cell_type": "code",
   "execution_count": 18,
   "metadata": {},
   "outputs": [],
   "source": [
    "def train_model(model, x, y):\n",
    "    model.fit(x, y)#training model with all x y\n",
    "    print(f\"Model weights: {model.coef_}, bias: {model.intercept_}\")\n",
    "\n",
    "    error = mean_squared_error(y, model.predict(x))\n",
    "    print(f\"Training error: {error:.05f}\")\n",
    "\n",
    "\n",
    "def test_model(model, x, y):\n",
    "    error = mean_squared_error(y, model.predict(x))\n",
    "    print(f\"Test error: {error:.05f}\")"
   ]
  },
  {
   "cell_type": "code",
   "execution_count": 19,
   "metadata": {
    "slideshow": {
     "slide_type": "slide"
    }
   },
   "outputs": [
    {
     "name": "stdout",
     "output_type": "stream",
     "text": [
      "Model weights: [2.11218002], bias: 3.2399565304753697\n",
      "Training error: 0.41461\n",
      "Test error: 0.51273\n"
     ]
    }
   ],
   "source": [
    "# Create a Linear Regression model (based on Normal Equation)\n",
    "lr_model = LinearRegression()\n",
    "\n",
    "# Train and test the model on univariate data\n",
    "train_model(lr_model, x_train_uni, y_train_uni)\n",
    "test_model(lr_model, x_test_uni, y_test_uni)"
   ]
  },
  {
   "cell_type": "code",
   "execution_count": 20,
   "metadata": {
    "slideshow": {
     "slide_type": "slide"
    }
   },
   "outputs": [
    {
     "data": {
      "image/png": "[encoded data removed]",
      "text/plain": [
       "<Figure size 720x576 with 1 Axes>"
      ]
     },
     "metadata": {
      "image/png": {
       "height": 499,
       "width": 606
      }
     },
     "output_type": "display_data"
    }
   ],
   "source": [
    "# Plot data and model prediction\n",
    "plot_univariate(\n",
    "    x_train_uni,\n",
    "    y_train_uni,\n",
    "    input_features_uni,\n",
    "    target_feature,\n",
    "    model_list={\"LR\": lr_model},\n",
    ")"
   ]
  },
  {
   "cell_type": "markdown",
   "metadata": {
    "slideshow": {
     "slide_type": "slide"
    }
   },
   "source": [
    "### Multivariate regression\n",
    "\n",
    "General case: several features are used by the model.\n",
    "\n",
    "$$y' = \\theta_0 + \\theta_1x_1 + \\dotsc + \\theta_nx_n$$"
   ]
  },
  {
   "cell_type": "code",
   "execution_count": 21,
   "metadata": {
    "slideshow": {
     "slide_type": "slide"
    }
   },
   "outputs": [
    {
     "name": "stdout",
     "output_type": "stream",
     "text": [
      "Training dataset: (124, 12)\n",
      "Test dataset: (31, 12)\n",
      "Training data: (124, 2), labels: (124,)\n",
      "Test data: (31, 2), labels: (31,)\n"
     ]
    }
   ],
   "source": [
    "# Using two input features: GDP and degree of freedom\n",
    "input_features_multi = [\"Economy..GDP.per.Capita.\", \"Freedom\"]\n",
    "\n",
    "x_train_multi, y_train_multi, x_test_multi, y_test_multi = split_dataset(\n",
    "    df_happiness, input_features_multi, target_feature\n",
    ")"
   ]
  },
  {
   "cell_type": "code",
   "execution_count": 22,
   "metadata": {
    "slideshow": {
     "slide_type": "skip"
    },
    "tags": [
     "hide-input"
    ]
   },
   "outputs": [],
   "source": [
    "def plot_multivariate(x, y, input_features, target_features, model=None):\n",
    "    \"\"\"3D plot of features and target, including model prediction if defined\"\"\"\n",
    "    \n",
    "    # Configure the plot with training dataset\n",
    "    plot_training_trace = go.Scatter3d(\n",
    "        x=x[:, 0].flatten(),\n",
    "        y=x[:, 1].flatten(),\n",
    "        z=y.flatten(),\n",
    "        name=\"Actual\",\n",
    "        mode=\"markers\",\n",
    "        marker={\n",
    "            \"size\": 10,\n",
    "            \"opacity\": 1,\n",
    "            \"line\": {\"color\": \"rgb(255, 255, 255)\", \"width\": 1},\n",
    "        },\n",
    "    )\n",
    "\n",
    "    plot_data = plot_training_trace\n",
    "\n",
    "    if model is not None:\n",
    "        # Generate different combinations of X and Y sets to build a predictions plane.\n",
    "        predictions_count = 10\n",
    "\n",
    "        # Find min and max values along X and Y axes.\n",
    "        x_min = x[:, 0].min()\n",
    "        x_max = x[:, 0].max()\n",
    "\n",
    "        y_min = x[:, 1].min()\n",
    "        y_max = x[:, 1].max()\n",
    "\n",
    "        # Generate predefined numbe of values for eaxh axis betwing correspondent min and max values.\n",
    "        x_axis = np.linspace(x_min, x_max, predictions_count)\n",
    "        y_axis = np.linspace(y_min, y_max, predictions_count)\n",
    "\n",
    "        # Create empty vectors for X and Y axes predictions\n",
    "        # We're going to find cartesian product of all possible X and Y values.\n",
    "        x_pred = np.zeros((predictions_count * predictions_count, 1))\n",
    "        y_pred = np.zeros((predictions_count * predictions_count, 1))\n",
    "\n",
    "        # Find cartesian product of all X and Y values.\n",
    "        x_y_index = 0\n",
    "        for x_index, x_value in enumerate(x_axis):\n",
    "            for y_index, y_value in enumerate(y_axis):\n",
    "                x_pred[x_y_index] = x_value\n",
    "                y_pred[x_y_index] = y_value\n",
    "                x_y_index += 1\n",
    "\n",
    "        # Predict Z value for all X and Y pairs.\n",
    "        z_pred = model.predict(np.hstack((x_pred, y_pred)))\n",
    "\n",
    "        # Plot training data with predictions.\n",
    "\n",
    "        # Configure the plot with test dataset.\n",
    "        plot_predictions_trace = go.Scatter3d(\n",
    "            x=x_pred.flatten(),\n",
    "            y=y_pred.flatten(),\n",
    "            z=z_pred.flatten(),\n",
    "            name=\"Prediction Plane\",\n",
    "            mode=\"markers\",\n",
    "            marker={\"size\": 1,},\n",
    "            opacity=0.8,\n",
    "            surfaceaxis=2,\n",
    "        )\n",
    "\n",
    "        plot_data = [plot_training_trace, plot_predictions_trace]\n",
    "\n",
    "    # Configure the layout.\n",
    "    plot_layout = go.Layout(\n",
    "        title=\"Date Sets\",\n",
    "        scene={\n",
    "            \"xaxis\": {\"title\": input_features[0]},\n",
    "            \"yaxis\": {\"title\": input_features[1]},\n",
    "            \"zaxis\": {\"title\": target_feature},\n",
    "        },\n",
    "        margin={\"l\": 0, \"r\": 0, \"b\": 0, \"t\": 0},\n",
    "    )\n",
    "\n",
    "    plot_figure = go.Figure(data=plot_data, layout=plot_layout)\n",
    "\n",
    "    # Render 3D scatter plot.\n",
    "    plotly.offline.iplot(plot_figure)"
   ]
  },
  {
   "cell_type": "code",
   "execution_count": 23,
   "metadata": {
    "slideshow": {
     "slide_type": "slide"
    }
   },
   "outputs": [
    {
     "data": {
      "application/vnd.plotly.v1+json": {
       "config": {
        "linkText": "Export to plot.ly",
        "plotlyServerURL": "https://plot.ly",
        "showLink": false
       },
       "data": [
        {
         "marker": {
          "line": {
           "color": "rgb(255, 255, 255)",
           "width": 1
          },
          "opacity": 1,
          "size": 10
         },
         "mode": "markers",
         "name": "Actual",
         "type": "scatter3d",
         "x": [
          0.305444717407227,
          1.43362653255463,
          1.12843120098114,
          1.15655755996704,
          1.54625928401947,
          0,
          0.989701807498932,
          1.36135590076447,
          0.596220076084137,
          1.15318381786346,
          0.244549930095673,
          1.55167484283447,
          0.728870630264282,
          1.484414935112,
          1.12209415435791,
          0.89465194940567,
          1.06931757926941,
          0.648457288742065,
          0.305808693170547,
          1.1982102394104,
          0.716249227523804,
          0.521021246910095,
          1.15360176563263,
          0.591683447360992,
          0.233442038297653,
          1.46378076076508,
          0.996192753314972,
          1.21755969524384,
          1.28948748111725,
          0.511135876178741,
          0.375846534967422,
          1.37538242340088,
          1.44357192516327,
          1.07498753070831,
          0.0226431842893362,
          1.40167844295502,
          1.48238301277161,
          0.479309022426605,
          1.74194359779358,
          1.41691517829895,
          0.381430715322495,
          0.368745893239975,
          1.02723586559296,
          0.72688353061676,
          0.786441087722778,
          0.368610262870789,
          0.560479462146759,
          0.991012394428253,
          0.964434325695038,
          0.524713635444641,
          1.28177809715271,
          1.23374843597412,
          0.878114581108093,
          1.48841226100922,
          1.3151752948761,
          0.091622568666935,
          0.636406779289246,
          1.39506661891937,
          0.601765096187592,
          1.00082039833069,
          0.730573117733002,
          0.0921023488044739,
          1.10180306434631,
          1.09186446666718,
          1.31458234786987,
          1.13077676296234,
          0.564305365085602,
          1.29121541976929,
          1.38439786434174,
          0.792221248149872,
          1.15687310695648,
          1.03522527217865,
          1.18529546260834,
          0.833756566047668,
          1.25278460979462,
          1.35268235206604,
          0.808964252471924,
          1.44163393974304,
          0.950612664222717,
          1.29178786277771,
          1.10271048545837,
          1.07937383651733,
          0.603048920631409,
          1.47920441627502,
          1.3412059545517,
          1.48792338371277,
          0.586682975292206,
          1.07062232494354,
          0.907975316047668,
          0.36842092871666,
          1.10970628261566,
          1.05469870567322,
          1.53570663928986,
          0.872001945972443,
          0.900596737861633,
          1.21768391132355,
          1.3469113111496,
          1.62634336948395,
          0.161925330758095,
          0.401477217674255,
          0.885416388511658,
          1.87076568603516,
          1.19827437400818,
          0.65951669216156,
          0.788547575473785,
          1.49438726902008,
          1.12112903594971,
          0.932537317276001,
          0.119041793048382,
          1.50394463539124,
          1.56497955322266,
          0.431085407733917,
          1.06457793712616,
          1.480633020401,
          1.69227766990662,
          1.63295245170593,
          1.12786877155304,
          1.53062355518341,
          1.32539355754852,
          1.10735321044922,
          0.909784495830536,
          1.1614590883255,
          0.925579309463501,
          0.339233845472336
         ],
         "y": [
          0.38042613863945,
          0.361466586589813,
          0.153997123241425,
          0.295400261878967,
          0.505740523338318,
          0.270842045545578,
          0.282110154628754,
          0.518630743026733,
          0.454943388700485,
          0.412730008363724,
          0.348587512969971,
          0.490968644618988,
          0.240729048848152,
          0.601607382297516,
          0.505196332931519,
          0.122974775731564,
          0.208715528249741,
          0.0960980430245399,
          0.189196765422821,
          0.312328577041626,
          0.25471106171608,
          0.390661299228668,
          0.398155838251114,
          0.249463722109795,
          0.466914653778076,
          0.539770722389221,
          0.381498634815216,
          0.57939225435257,
          0.0957312509417534,
          0.390017777681351,
          0.336384207010269,
          0.405988603830338,
          0.617950856685638,
          0.288515985012054,
          0.602126955986023,
          0.257921665906906,
          0.626006722450256,
          0.377922266721725,
          0.59662789106369,
          0.505625545978546,
          0.443185955286026,
          0.581843852996826,
          0.394143968820572,
          0.23521526157856,
          0.658248662948608,
          0.0303698573261499,
          0.452763766050339,
          0.418421149253845,
          0.520303547382355,
          0.471566706895828,
          0.373783111572266,
          0.550026834011078,
          0.408158332109451,
          0.536746919155121,
          0.498465299606323,
          0.0599007532000542,
          0.461603492498398,
          0.256450712680817,
          0.633375823497772,
          0.4551981985569,
          0.348079860210419,
          0.235961347818375,
          0.465733230113983,
          0.233335807919502,
          0.234231784939766,
          0.41827192902565,
          0.430388748645782,
          0.402264982461929,
          0.408781230449677,
          0.469987004995346,
          0.249322608113289,
          0.450002878904343,
          0.494519203901291,
          0.558732926845551,
          0.376895278692245,
          0.490946173667908,
          0.435025870800018,
          0.508190035820007,
          0.309410035610199,
          0.520342111587524,
          0.288555532693863,
          0.55258983373642,
          0.447706192731857,
          0.611100912094116,
          0.572575807571411,
          0.562511384487152,
          0.478356659412384,
          0.477487415075302,
          0.547509372234344,
          0.318697690963745,
          0.580131649971008,
          0.479246735572815,
          0.573110342025757,
          0.531310617923737,
          0.198303267359734,
          0.457003742456436,
          0.471203625202179,
          0.60834527015686,
          0.36365869641304,
          0.106179520487785,
          0.501537680625916,
          0.604130983352661,
          0.300740599632263,
          0.0149958552792668,
          0.571055591106415,
          0.612924098968506,
          0.194989055395126,
          0.473507791757584,
          0.332881182432175,
          0.585384488105774,
          0.620070576667786,
          0.425962775945663,
          0.325905978679657,
          0.627162635326385,
          0.549840569496155,
          0.496337592601776,
          0.580200731754303,
          0.449750572443008,
          0.295817464590073,
          0.437453746795654,
          0.432452529668808,
          0.289231717586517,
          0.474307239055634,
          0.408842742443085
         ],
         "z": [
          3.49499988555908,
          6.42199993133545,
          5.25,
          5.56899976730347,
          6.99300003051758,
          2.69300007820129,
          4.7350001335144,
          6.16800022125244,
          5.00400018692017,
          6.57800006866455,
          3.50699996948242,
          5.47200012207031,
          5.83799982070923,
          7.28399991989136,
          3.76600003242493,
          4.09600019454956,
          5.39499998092651,
          4.29199981689453,
          3.64400005340576,
          4.46500015258789,
          4.77500009536743,
          3.80800008773804,
          5.23400020599365,
          3.59299993515015,
          3.97000002861023,
          6.89099979400635,
          4.64400005340576,
          6.4539999961853,
          5.22700023651123,
          3.34899997711182,
          3.875,
          7.21299982070923,
          7.4689998626709,
          5.22499990463257,
          5.15100002288818,
          5.83799982070923,
          7.52199983596802,
          4.53499984741211,
          6.86299991607666,
          5.92000007629395,
          4.08099985122681,
          3.47099995613098,
          4.95499992370605,
          5.26900005340576,
          5.97100019454956,
          3.6029999256134,
          4.55299997329712,
          5.33599996566772,
          4.57399988174438,
          5.04099988937378,
          5.96299982070923,
          6.4520001411438,
          5.2350001335144,
          6.08699989318848,
          5.19500017166138,
          2.90499997138977,
          4.51399993896484,
          5.96400022506714,
          4.16800022125244,
          6.00799989700317,
          5.18100023269653,
          4.28000020980835,
          5.52500009536743,
          5.87200021743774,
          5.90199995040894,
          5.82200002670288,
          4.69500017166138,
          6.08400011062622,
          6.40299987792969,
          4.31500005722046,
          4.69199991226196,
          5.71500015258789,
          6.59899997711182,
          5.82299995422363,
          6.65199995040894,
          6.60900020599365,
          4.29099988937378,
          6.71400022506714,
          4.28599977493286,
          5.97300004959106,
          4.49700021743774,
          5.23000001907349,
          4.17999982833862,
          7.31599998474121,
          5.75799989700317,
          6.95100021362305,
          4.60799980163574,
          6.35699987411499,
          5.95599985122681,
          4.70900011062622,
          7.0789999961853,
          4.8289999961853,
          6.97700023651123,
          6.4539999961853,
          4.37599992752075,
          5.82499980926514,
          5.80999994277954,
          6.64799976348877,
          4.02799987792969,
          3.79399991035461,
          5.01100015640259,
          6.375,
          5.5,
          4.13899993896484,
          5.07399988174438,
          7.28399991989136,
          5.23699998855591,
          5.49300003051758,
          3.53299999237061,
          7.3769998550415,
          7.49399995803833,
          3.65700006484985,
          5.17500019073486,
          7.50400018692017,
          6.57200002670288,
          6.10500001907349,
          6.42399978637695,
          6.3439998626709,
          6.09800004959106,
          6.63500022888184,
          6.00299978256226,
          4.71400022506714,
          5.31099987030029,
          4.46000003814697
         ]
        }
       ],
       "layout": {
        "margin": {
         "b": 0,
         "l": 0,
         "r": 0,
         "t": 0
        },
        "scene": {
         "xaxis": {
          "title": {
           "text": "Economy..GDP.per.Capita."
          }
         },
         "yaxis": {
          "title": {
           "text": "Freedom"
          }
         },
         "zaxis": {
          "title": {
           "text": "Happiness.Score"
          }
         }
        },
        "template": {
         "data": {
          "bar": [
           {
            "error_x": {
             "color": "#2a3f5f"
            },
            "error_y": {
             "color": "#2a3f5f"
            },
            "marker": {
             "line": {
              "color": "#E5ECF6",
              "width": 0.5
             },
             "pattern": {
              "fillmode": "overlay",
              "size": 10,
              "solidity": 0.2
             }
            },
            "type": "bar"
           }
          ],
          "barpolar": [
           {
            "marker": {
             "line": {
              "color": "#E5ECF6",
              "width": 0.5
             },
             "pattern": {
              "fillmode": "overlay",
              "size": 10,
              "solidity": 0.2
             }
            },
            "type": "barpolar"
           }
          ],
          "carpet": [
           {
            "aaxis": {
             "endlinecolor": "#2a3f5f",
             "gridcolor": "white",
             "linecolor": "white",
             "minorgridcolor": "white",
             "startlinecolor": "#2a3f5f"
            },
            "baxis": {
             "endlinecolor": "#2a3f5f",
             "gridcolor": "white",
             "linecolor": "white",
             "minorgridcolor": "white",
             "startlinecolor": "#2a3f5f"
            },
            "type": "carpet"
           }
          ],
          "choropleth": [
           {
            "colorbar": {
             "outlinewidth": 0,
             "ticks": ""
            },
            "type": "choropleth"
           }
          ],
          "contour": [
           {
            "colorbar": {
             "outlinewidth": 0,
             "ticks": ""
            },
            "colorscale": [
             [
              0,
              "#0d0887"
             ],
             [
              0.1111111111111111,
              "#46039f"
             ],
             [
              0.2222222222222222,
              "#7201a8"
             ],
             [
              0.3333333333333333,
              "#9c179e"
             ],
             [
              0.4444444444444444,
              "#bd3786"
             ],
             [
              0.5555555555555556,
              "#d8576b"
             ],
             [
              0.6666666666666666,
              "#ed7953"
             ],
             [
              0.7777777777777778,
              "#fb9f3a"
             ],
             [
              0.8888888888888888,
              "#fdca26"
             ],
             [
              1,
              "#f0f921"
             ]
            ],
            "type": "contour"
           }
          ],
          "contourcarpet": [
           {
            "colorbar": {
             "outlinewidth": 0,
             "ticks": ""
            },
            "type": "contourcarpet"
           }
          ],
          "heatmap": [
           {
            "colorbar": {
             "outlinewidth": 0,
             "ticks": ""
            },
            "colorscale": [
             [
              0,
              "#0d0887"
             ],
             [
              0.1111111111111111,
              "#46039f"
             ],
             [
              0.2222222222222222,
              "#7201a8"
             ],
             [
              0.3333333333333333,
              "#9c179e"
             ],
             [
              0.4444444444444444,
              "#bd3786"
             ],
             [
              0.5555555555555556,
              "#d8576b"
             ],
             [
              0.6666666666666666,
              "#ed7953"
             ],
             [
              0.7777777777777778,
              "#fb9f3a"
             ],
             [
              0.8888888888888888,
              "#fdca26"
             ],
             [
              1,
              "#f0f921"
             ]
            ],
            "type": "heatmap"
           }
          ],
          "heatmapgl": [
           {
            "colorbar": {
             "outlinewidth": 0,
             "ticks": ""
            },
            "colorscale": [
             [
              0,
              "#0d0887"
             ],
             [
              0.1111111111111111,
              "#46039f"
             ],
             [
              0.2222222222222222,
              "#7201a8"
             ],
             [
              0.3333333333333333,
              "#9c179e"
             ],
             [
              0.4444444444444444,
              "#bd3786"
             ],
             [
              0.5555555555555556,
              "#d8576b"
             ],
             [
              0.6666666666666666,
              "#ed7953"
             ],
             [
              0.7777777777777778,
              "#fb9f3a"
             ],
             [
              0.8888888888888888,
              "#fdca26"
             ],
             [
              1,
              "#f0f921"
             ]
            ],
            "type": "heatmapgl"
           }
          ],
          "histogram": [
           {
            "marker": {
             "pattern": {
              "fillmode": "overlay",
              "size": 10,
              "solidity": 0.2
             }
            },
            "type": "histogram"
           }
          ],
          "histogram2d": [
           {
            "colorbar": {
             "outlinewidth": 0,
             "ticks": ""
            },
            "colorscale": [
             [
              0,
              "#0d0887"
             ],
             [
              0.1111111111111111,
              "#46039f"
             ],
             [
              0.2222222222222222,
              "#7201a8"
             ],
             [
              0.3333333333333333,
              "#9c179e"
             ],
             [
              0.4444444444444444,
              "#bd3786"
             ],
             [
              0.5555555555555556,
              "#d8576b"
             ],
             [
              0.6666666666666666,
              "#ed7953"
             ],
             [
              0.7777777777777778,
              "#fb9f3a"
             ],
             [
              0.8888888888888888,
              "#fdca26"
             ],
             [
              1,
              "#f0f921"
             ]
            ],
            "type": "histogram2d"
           }
          ],
          "histogram2dcontour": [
           {
            "colorbar": {
             "outlinewidth": 0,
             "ticks": ""
            },
            "colorscale": [
             [
              0,
              "#0d0887"
             ],
             [
              0.1111111111111111,
              "#46039f"
             ],
             [
              0.2222222222222222,
              "#7201a8"
             ],
             [
              0.3333333333333333,
              "#9c179e"
             ],
             [
              0.4444444444444444,
              "#bd3786"
             ],
             [
              0.5555555555555556,
              "#d8576b"
             ],
             [
              0.6666666666666666,
              "#ed7953"
             ],
             [
              0.7777777777777778,
              "#fb9f3a"
             ],
             [
              0.8888888888888888,
              "#fdca26"
             ],
             [
              1,
              "#f0f921"
             ]
            ],
            "type": "histogram2dcontour"
           }
          ],
          "mesh3d": [
           {
            "colorbar": {
             "outlinewidth": 0,
             "ticks": ""
            },
            "type": "mesh3d"
           }
          ],
          "parcoords": [
           {
            "line": {
             "colorbar": {
              "outlinewidth": 0,
              "ticks": ""
             }
            },
            "type": "parcoords"
           }
          ],
          "pie": [
           {
            "automargin": true,
            "type": "pie"
           }
          ],
          "scatter": [
           {
            "marker": {
             "colorbar": {
              "outlinewidth": 0,
              "ticks": ""
             }
            },
            "type": "scatter"
           }
          ],
          "scatter3d": [
           {
            "line": {
             "colorbar": {
              "outlinewidth": 0,
              "ticks": ""
             }
            },
            "marker": {
             "colorbar": {
              "outlinewidth": 0,
              "ticks": ""
             }
            },
            "type": "scatter3d"
           }
          ],
          "scattercarpet": [
           {
            "marker": {
             "colorbar": {
              "outlinewidth": 0,
              "ticks": ""
             }
            },
            "type": "scattercarpet"
           }
          ],
          "scattergeo": [
           {
            "marker": {
             "colorbar": {
              "outlinewidth": 0,
              "ticks": ""
             }
            },
            "type": "scattergeo"
           }
          ],
          "scattergl": [
           {
            "marker": {
             "colorbar": {
              "outlinewidth": 0,
              "ticks": ""
             }
            },
            "type": "scattergl"
           }
          ],
          "scattermapbox": [
           {
            "marker": {
             "colorbar": {
              "outlinewidth": 0,
              "ticks": ""
             }
            },
            "type": "scattermapbox"
           }
          ],
          "scatterpolar": [
           {
            "marker": {
             "colorbar": {
              "outlinewidth": 0,
              "ticks": ""
             }
            },
            "type": "scatterpolar"
           }
          ],
          "scatterpolargl": [
           {
            "marker": {
             "colorbar": {
              "outlinewidth": 0,
              "ticks": ""
             }
            },
            "type": "scatterpolargl"
           }
          ],
          "scatterternary": [
           {
            "marker": {
             "colorbar": {
              "outlinewidth": 0,
              "ticks": ""
             }
            },
            "type": "scatterternary"
           }
          ],
          "surface": [
           {
            "colorbar": {
             "outlinewidth": 0,
             "ticks": ""
            },
            "colorscale": [
             [
              0,
              "#0d0887"
             ],
             [
              0.1111111111111111,
              "#46039f"
             ],
             [
              0.2222222222222222,
              "#7201a8"
             ],
             [
              0.3333333333333333,
              "#9c179e"
             ],
             [
              0.4444444444444444,
              "#bd3786"
             ],
             [
              0.5555555555555556,
              "#d8576b"
             ],
             [
              0.6666666666666666,
              "#ed7953"
             ],
             [
              0.7777777777777778,
              "#fb9f3a"
             ],
             [
              0.8888888888888888,
              "#fdca26"
             ],
             [
              1,
              "#f0f921"
             ]
            ],
            "type": "surface"
           }
          ],
          "table": [
           {
            "cells": {
             "fill": {
              "color": "#EBF0F8"
             },
             "line": {
              "color": "white"
             }
            },
            "header": {
             "fill": {
              "color": "#C8D4E3"
             },
             "line": {
              "color": "white"
             }
            },
            "type": "table"
           }
          ]
         },
         "layout": {
          "annotationdefaults": {
           "arrowcolor": "#2a3f5f",
           "arrowhead": 0,
           "arrowwidth": 1
          },
          "autotypenumbers": "strict",
          "coloraxis": {
           "colorbar": {
            "outlinewidth": 0,
            "ticks": ""
           }
          },
          "colorscale": {
           "diverging": [
            [
             0,
             "#8e0152"
            ],
            [
             0.1,
             "#c51b7d"
            ],
            [
             0.2,
             "#de77ae"
            ],
            [
             0.3,
             "#f1b6da"
            ],
            [
             0.4,
             "#fde0ef"
            ],
            [
             0.5,
             "#f7f7f7"
            ],
            [
             0.6,
             "#e6f5d0"
            ],
            [
             0.7,
             "#b8e186"
            ],
            [
             0.8,
             "#7fbc41"
            ],
            [
             0.9,
             "#4d9221"
            ],
            [
             1,
             "#276419"
            ]
           ],
           "sequential": [
            [
             0,
             "#0d0887"
            ],
            [
             0.1111111111111111,
             "#46039f"
            ],
            [
             0.2222222222222222,
             "#7201a8"
            ],
            [
             0.3333333333333333,
             "#9c179e"
            ],
            [
             0.4444444444444444,
             "#bd3786"
            ],
            [
             0.5555555555555556,
             "#d8576b"
            ],
            [
             0.6666666666666666,
             "#ed7953"
            ],
            [
             0.7777777777777778,
             "#fb9f3a"
            ],
            [
             0.8888888888888888,
             "#fdca26"
            ],
            [
             1,
             "#f0f921"
            ]
           ],
           "sequentialminus": [
            [
             0,
             "#0d0887"
            ],
            [
             0.1111111111111111,
             "#46039f"
            ],
            [
             0.2222222222222222,
             "#7201a8"
            ],
            [
             0.3333333333333333,
             "#9c179e"
            ],
            [
             0.4444444444444444,
             "#bd3786"
            ],
            [
             0.5555555555555556,
             "#d8576b"
            ],
            [
             0.6666666666666666,
             "#ed7953"
            ],
            [
             0.7777777777777778,
             "#fb9f3a"
            ],
            [
             0.8888888888888888,
             "#fdca26"
            ],
            [
             1,
             "#f0f921"
            ]
           ]
          },
          "colorway": [
           "#636efa",
           "#EF553B",
           "#00cc96",
           "#ab63fa",
           "#FFA15A",
           "#19d3f3",
           "#FF6692",
           "#B6E880",
           "#FF97FF",
           "#FECB52"
          ],
          "font": {
           "color": "#2a3f5f"
          },
          "geo": {
           "bgcolor": "white",
           "lakecolor": "white",
           "landcolor": "#E5ECF6",
           "showlakes": true,
           "showland": true,
           "subunitcolor": "white"
          },
          "hoverlabel": {
           "align": "left"
          },
          "hovermode": "closest",
          "mapbox": {
           "style": "light"
          },
          "paper_bgcolor": "white",
          "plot_bgcolor": "#E5ECF6",
          "polar": {
           "angularaxis": {
            "gridcolor": "white",
            "linecolor": "white",
            "ticks": ""
           },
           "bgcolor": "#E5ECF6",
           "radialaxis": {
            "gridcolor": "white",
            "linecolor": "white",
            "ticks": ""
           }
          },
          "scene": {
           "xaxis": {
            "backgroundcolor": "#E5ECF6",
            "gridcolor": "white",
            "gridwidth": 2,
            "linecolor": "white",
            "showbackground": true,
            "ticks": "",
            "zerolinecolor": "white"
           },
           "yaxis": {
            "backgroundcolor": "#E5ECF6",
            "gridcolor": "white",
            "gridwidth": 2,
            "linecolor": "white",
            "showbackground": true,
            "ticks": "",
            "zerolinecolor": "white"
           },
           "zaxis": {
            "backgroundcolor": "#E5ECF6",
            "gridcolor": "white",
            "gridwidth": 2,
            "linecolor": "white",
            "showbackground": true,
            "ticks": "",
            "zerolinecolor": "white"
           }
          },
          "shapedefaults": {
           "line": {
            "color": "#2a3f5f"
           }
          },
          "ternary": {
           "aaxis": {
            "gridcolor": "white",
            "linecolor": "white",
            "ticks": ""
           },
           "baxis": {
            "gridcolor": "white",
            "linecolor": "white",
            "ticks": ""
           },
           "bgcolor": "#E5ECF6",
           "caxis": {
            "gridcolor": "white",
            "linecolor": "white",
            "ticks": ""
           }
          },
          "title": {
           "x": 0.05
          },
          "xaxis": {
           "automargin": true,
           "gridcolor": "white",
           "linecolor": "white",
           "ticks": "",
           "title": {
            "standoff": 15
           },
           "zerolinecolor": "white",
           "zerolinewidth": 2
          },
          "yaxis": {
           "automargin": true,
           "gridcolor": "white",
           "linecolor": "white",
           "ticks": "",
           "title": {
            "standoff": 15
           },
           "zerolinecolor": "white",
           "zerolinewidth": 2
          }
         }
        },
        "title": {
         "text": "Date Sets"
        }
       }
      },
      "text/html": [
       "<div>                            <div id=\"ca2140c4-2fe8-4d54-8342-9780f887e2a5\" class=\"plotly-graph-div\" style=\"height:525px; width:100%;\"></div>            <script type=\"text/javascript\">                require([\"plotly\"], function(Plotly) {                    window.PLOTLYENV=window.PLOTLYENV || {};                                    if (document.getElementById(\"ca2140c4-2fe8-4d54-8342-9780f887e2a5\")) {                    Plotly.newPlot(                        \"ca2140c4-2fe8-4d54-8342-9780f887e2a5\",                        [{\"marker\":{\"line\":{\"color\":\"rgb(255, 255, 255)\",\"width\":1},\"opacity\":1,\"size\":10},\"mode\":\"markers\",\"name\":\"Actual\",\"x\":[0.305444717407227,1.43362653255463,1.12843120098114,1.15655755996704,1.54625928401947,0.0,0.989701807498932,1.36135590076447,0.596220076084137,1.15318381786346,0.244549930095673,1.55167484283447,0.728870630264282,1.484414935112,1.12209415435791,0.89465194940567,1.06931757926941,0.648457288742065,0.305808693170547,1.1982102394104,0.716249227523804,0.521021246910095,1.15360176563263,0.591683447360992,0.233442038297653,1.46378076076508,0.996192753314972,1.21755969524384,1.28948748111725,0.511135876178741,0.375846534967422,1.37538242340088,1.44357192516327,1.07498753070831,0.0226431842893362,1.40167844295502,1.48238301277161,0.479309022426605,1.74194359779358,1.41691517829895,0.381430715322495,0.368745893239975,1.02723586559296,0.72688353061676,0.786441087722778,0.368610262870789,0.560479462146759,0.991012394428253,0.964434325695038,0.524713635444641,1.28177809715271,1.23374843597412,0.878114581108093,1.48841226100922,1.3151752948761,0.091622568666935,0.636406779289246,1.39506661891937,0.601765096187592,1.00082039833069,0.730573117733002,0.0921023488044739,1.10180306434631,1.09186446666718,1.31458234786987,1.13077676296234,0.564305365085602,1.29121541976929,1.38439786434174,0.792221248149872,1.15687310695648,1.03522527217865,1.18529546260834,0.833756566047668,1.25278460979462,1.35268235206604,0.808964252471924,1.44163393974304,0.950612664222717,1.29178786277771,1.10271048545837,1.07937383651733,0.603048920631409,1.47920441627502,1.3412059545517,1.48792338371277,0.586682975292206,1.07062232494354,0.907975316047668,0.36842092871666,1.10970628261566,1.05469870567322,1.53570663928986,0.872001945972443,0.900596737861633,1.21768391132355,1.3469113111496,1.62634336948395,0.161925330758095,0.401477217674255,0.885416388511658,1.87076568603516,1.19827437400818,0.65951669216156,0.788547575473785,1.49438726902008,1.12112903594971,0.932537317276001,0.119041793048382,1.50394463539124,1.56497955322266,0.431085407733917,1.06457793712616,1.480633020401,1.69227766990662,1.63295245170593,1.12786877155304,1.53062355518341,1.32539355754852,1.10735321044922,0.909784495830536,1.1614590883255,0.925579309463501,0.339233845472336],\"y\":[0.38042613863945,0.361466586589813,0.153997123241425,0.295400261878967,0.505740523338318,0.270842045545578,0.282110154628754,0.518630743026733,0.454943388700485,0.412730008363724,0.348587512969971,0.490968644618988,0.240729048848152,0.601607382297516,0.505196332931519,0.122974775731564,0.208715528249741,0.0960980430245399,0.189196765422821,0.312328577041626,0.25471106171608,0.390661299228668,0.398155838251114,0.249463722109795,0.466914653778076,0.539770722389221,0.381498634815216,0.57939225435257,0.0957312509417534,0.390017777681351,0.336384207010269,0.405988603830338,0.617950856685638,0.288515985012054,0.602126955986023,0.257921665906906,0.626006722450256,0.377922266721725,0.59662789106369,0.505625545978546,0.443185955286026,0.581843852996826,0.394143968820572,0.23521526157856,0.658248662948608,0.0303698573261499,0.452763766050339,0.418421149253845,0.520303547382355,0.471566706895828,0.373783111572266,0.550026834011078,0.408158332109451,0.536746919155121,0.498465299606323,0.0599007532000542,0.461603492498398,0.256450712680817,0.633375823497772,0.4551981985569,0.348079860210419,0.235961347818375,0.465733230113983,0.233335807919502,0.234231784939766,0.41827192902565,0.430388748645782,0.402264982461929,0.408781230449677,0.469987004995346,0.249322608113289,0.450002878904343,0.494519203901291,0.558732926845551,0.376895278692245,0.490946173667908,0.435025870800018,0.508190035820007,0.309410035610199,0.520342111587524,0.288555532693863,0.55258983373642,0.447706192731857,0.611100912094116,0.572575807571411,0.562511384487152,0.478356659412384,0.477487415075302,0.547509372234344,0.318697690963745,0.580131649971008,0.479246735572815,0.573110342025757,0.531310617923737,0.198303267359734,0.457003742456436,0.471203625202179,0.60834527015686,0.36365869641304,0.106179520487785,0.501537680625916,0.604130983352661,0.300740599632263,0.0149958552792668,0.571055591106415,0.612924098968506,0.194989055395126,0.473507791757584,0.332881182432175,0.585384488105774,0.620070576667786,0.425962775945663,0.325905978679657,0.627162635326385,0.549840569496155,0.496337592601776,0.580200731754303,0.449750572443008,0.295817464590073,0.437453746795654,0.432452529668808,0.289231717586517,0.474307239055634,0.408842742443085],\"z\":[3.49499988555908,6.42199993133545,5.25,5.56899976730347,6.99300003051758,2.69300007820129,4.7350001335144,6.16800022125244,5.00400018692017,6.57800006866455,3.50699996948242,5.47200012207031,5.83799982070923,7.28399991989136,3.76600003242493,4.09600019454956,5.39499998092651,4.29199981689453,3.64400005340576,4.46500015258789,4.77500009536743,3.80800008773804,5.23400020599365,3.59299993515015,3.97000002861023,6.89099979400635,4.64400005340576,6.4539999961853,5.22700023651123,3.34899997711182,3.875,7.21299982070923,7.4689998626709,5.22499990463257,5.15100002288818,5.83799982070923,7.52199983596802,4.53499984741211,6.86299991607666,5.92000007629395,4.08099985122681,3.47099995613098,4.95499992370605,5.26900005340576,5.97100019454956,3.6029999256134,4.55299997329712,5.33599996566772,4.57399988174438,5.04099988937378,5.96299982070923,6.4520001411438,5.2350001335144,6.08699989318848,5.19500017166138,2.90499997138977,4.51399993896484,5.96400022506714,4.16800022125244,6.00799989700317,5.18100023269653,4.28000020980835,5.52500009536743,5.87200021743774,5.90199995040894,5.82200002670288,4.69500017166138,6.08400011062622,6.40299987792969,4.31500005722046,4.69199991226196,5.71500015258789,6.59899997711182,5.82299995422363,6.65199995040894,6.60900020599365,4.29099988937378,6.71400022506714,4.28599977493286,5.97300004959106,4.49700021743774,5.23000001907349,4.17999982833862,7.31599998474121,5.75799989700317,6.95100021362305,4.60799980163574,6.35699987411499,5.95599985122681,4.70900011062622,7.0789999961853,4.8289999961853,6.97700023651123,6.4539999961853,4.37599992752075,5.82499980926514,5.80999994277954,6.64799976348877,4.02799987792969,3.79399991035461,5.01100015640259,6.375,5.5,4.13899993896484,5.07399988174438,7.28399991989136,5.23699998855591,5.49300003051758,3.53299999237061,7.3769998550415,7.49399995803833,3.65700006484985,5.17500019073486,7.50400018692017,6.57200002670288,6.10500001907349,6.42399978637695,6.3439998626709,6.09800004959106,6.63500022888184,6.00299978256226,4.71400022506714,5.31099987030029,4.46000003814697],\"type\":\"scatter3d\"}],                        {\"margin\":{\"b\":0,\"l\":0,\"r\":0,\"t\":0},\"scene\":{\"xaxis\":{\"title\":{\"text\":\"Economy..GDP.per.Capita.\"}},\"yaxis\":{\"title\":{\"text\":\"Freedom\"}},\"zaxis\":{\"title\":{\"text\":\"Happiness.Score\"}}},\"template\":{\"data\":{\"barpolar\":[{\"marker\":{\"line\":{\"color\":\"#E5ECF6\",\"width\":0.5},\"pattern\":{\"fillmode\":\"overlay\",\"size\":10,\"solidity\":0.2}},\"type\":\"barpolar\"}],\"bar\":[{\"error_x\":{\"color\":\"#2a3f5f\"},\"error_y\":{\"color\":\"#2a3f5f\"},\"marker\":{\"line\":{\"color\":\"#E5ECF6\",\"width\":0.5},\"pattern\":{\"fillmode\":\"overlay\",\"size\":10,\"solidity\":0.2}},\"type\":\"bar\"}],\"carpet\":[{\"aaxis\":{\"endlinecolor\":\"#2a3f5f\",\"gridcolor\":\"white\",\"linecolor\":\"white\",\"minorgridcolor\":\"white\",\"startlinecolor\":\"#2a3f5f\"},\"baxis\":{\"endlinecolor\":\"#2a3f5f\",\"gridcolor\":\"white\",\"linecolor\":\"white\",\"minorgridcolor\":\"white\",\"startlinecolor\":\"#2a3f5f\"},\"type\":\"carpet\"}],\"choropleth\":[{\"colorbar\":{\"outlinewidth\":0,\"ticks\":\"\"},\"type\":\"choropleth\"}],\"contourcarpet\":[{\"colorbar\":{\"outlinewidth\":0,\"ticks\":\"\"},\"type\":\"contourcarpet\"}],\"contour\":[{\"colorbar\":{\"outlinewidth\":0,\"ticks\":\"\"},\"colorscale\":[[0.0,\"#0d0887\"],[0.1111111111111111,\"#46039f\"],[0.2222222222222222,\"#7201a8\"],[0.3333333333333333,\"#9c179e\"],[0.4444444444444444,\"#bd3786\"],[0.5555555555555556,\"#d8576b\"],[0.6666666666666666,\"#ed7953\"],[0.7777777777777778,\"#fb9f3a\"],[0.8888888888888888,\"#fdca26\"],[1.0,\"#f0f921\"]],\"type\":\"contour\"}],\"heatmapgl\":[{\"colorbar\":{\"outlinewidth\":0,\"ticks\":\"\"},\"colorscale\":[[0.0,\"#0d0887\"],[0.1111111111111111,\"#46039f\"],[0.2222222222222222,\"#7201a8\"],[0.3333333333333333,\"#9c179e\"],[0.4444444444444444,\"#bd3786\"],[0.5555555555555556,\"#d8576b\"],[0.6666666666666666,\"#ed7953\"],[0.7777777777777778,\"#fb9f3a\"],[0.8888888888888888,\"#fdca26\"],[1.0,\"#f0f921\"]],\"type\":\"heatmapgl\"}],\"heatmap\":[{\"colorbar\":{\"outlinewidth\":0,\"ticks\":\"\"},\"colorscale\":[[0.0,\"#0d0887\"],[0.1111111111111111,\"#46039f\"],[0.2222222222222222,\"#7201a8\"],[0.3333333333333333,\"#9c179e\"],[0.4444444444444444,\"#bd3786\"],[0.5555555555555556,\"#d8576b\"],[0.6666666666666666,\"#ed7953\"],[0.7777777777777778,\"#fb9f3a\"],[0.8888888888888888,\"#fdca26\"],[1.0,\"#f0f921\"]],\"type\":\"heatmap\"}],\"histogram2dcontour\":[{\"colorbar\":{\"outlinewidth\":0,\"ticks\":\"\"},\"colorscale\":[[0.0,\"#0d0887\"],[0.1111111111111111,\"#46039f\"],[0.2222222222222222,\"#7201a8\"],[0.3333333333333333,\"#9c179e\"],[0.4444444444444444,\"#bd3786\"],[0.5555555555555556,\"#d8576b\"],[0.6666666666666666,\"#ed7953\"],[0.7777777777777778,\"#fb9f3a\"],[0.8888888888888888,\"#fdca26\"],[1.0,\"#f0f921\"]],\"type\":\"histogram2dcontour\"}],\"histogram2d\":[{\"colorbar\":{\"outlinewidth\":0,\"ticks\":\"\"},\"colorscale\":[[0.0,\"#0d0887\"],[0.1111111111111111,\"#46039f\"],[0.2222222222222222,\"#7201a8\"],[0.3333333333333333,\"#9c179e\"],[0.4444444444444444,\"#bd3786\"],[0.5555555555555556,\"#d8576b\"],[0.6666666666666666,\"#ed7953\"],[0.7777777777777778,\"#fb9f3a\"],[0.8888888888888888,\"#fdca26\"],[1.0,\"#f0f921\"]],\"type\":\"histogram2d\"}],\"histogram\":[{\"marker\":{\"pattern\":{\"fillmode\":\"overlay\",\"size\":10,\"solidity\":0.2}},\"type\":\"histogram\"}],\"mesh3d\":[{\"colorbar\":{\"outlinewidth\":0,\"ticks\":\"\"},\"type\":\"mesh3d\"}],\"parcoords\":[{\"line\":{\"colorbar\":{\"outlinewidth\":0,\"ticks\":\"\"}},\"type\":\"parcoords\"}],\"pie\":[{\"automargin\":true,\"type\":\"pie\"}],\"scatter3d\":[{\"line\":{\"colorbar\":{\"outlinewidth\":0,\"ticks\":\"\"}},\"marker\":{\"colorbar\":{\"outlinewidth\":0,\"ticks\":\"\"}},\"type\":\"scatter3d\"}],\"scattercarpet\":[{\"marker\":{\"colorbar\":{\"outlinewidth\":0,\"ticks\":\"\"}},\"type\":\"scattercarpet\"}],\"scattergeo\":[{\"marker\":{\"colorbar\":{\"outlinewidth\":0,\"ticks\":\"\"}},\"type\":\"scattergeo\"}],\"scattergl\":[{\"marker\":{\"colorbar\":{\"outlinewidth\":0,\"ticks\":\"\"}},\"type\":\"scattergl\"}],\"scattermapbox\":[{\"marker\":{\"colorbar\":{\"outlinewidth\":0,\"ticks\":\"\"}},\"type\":\"scattermapbox\"}],\"scatterpolargl\":[{\"marker\":{\"colorbar\":{\"outlinewidth\":0,\"ticks\":\"\"}},\"type\":\"scatterpolargl\"}],\"scatterpolar\":[{\"marker\":{\"colorbar\":{\"outlinewidth\":0,\"ticks\":\"\"}},\"type\":\"scatterpolar\"}],\"scatter\":[{\"marker\":{\"colorbar\":{\"outlinewidth\":0,\"ticks\":\"\"}},\"type\":\"scatter\"}],\"scatterternary\":[{\"marker\":{\"colorbar\":{\"outlinewidth\":0,\"ticks\":\"\"}},\"type\":\"scatterternary\"}],\"surface\":[{\"colorbar\":{\"outlinewidth\":0,\"ticks\":\"\"},\"colorscale\":[[0.0,\"#0d0887\"],[0.1111111111111111,\"#46039f\"],[0.2222222222222222,\"#7201a8\"],[0.3333333333333333,\"#9c179e\"],[0.4444444444444444,\"#bd3786\"],[0.5555555555555556,\"#d8576b\"],[0.6666666666666666,\"#ed7953\"],[0.7777777777777778,\"#fb9f3a\"],[0.8888888888888888,\"#fdca26\"],[1.0,\"#f0f921\"]],\"type\":\"surface\"}],\"table\":[{\"cells\":{\"fill\":{\"color\":\"#EBF0F8\"},\"line\":{\"color\":\"white\"}},\"header\":{\"fill\":{\"color\":\"#C8D4E3\"},\"line\":{\"color\":\"white\"}},\"type\":\"table\"}]},\"layout\":{\"annotationdefaults\":{\"arrowcolor\":\"#2a3f5f\",\"arrowhead\":0,\"arrowwidth\":1},\"autotypenumbers\":\"strict\",\"coloraxis\":{\"colorbar\":{\"outlinewidth\":0,\"ticks\":\"\"}},\"colorscale\":{\"diverging\":[[0,\"#8e0152\"],[0.1,\"#c51b7d\"],[0.2,\"#de77ae\"],[0.3,\"#f1b6da\"],[0.4,\"#fde0ef\"],[0.5,\"#f7f7f7\"],[0.6,\"#e6f5d0\"],[0.7,\"#b8e186\"],[0.8,\"#7fbc41\"],[0.9,\"#4d9221\"],[1,\"#276419\"]],\"sequential\":[[0.0,\"#0d0887\"],[0.1111111111111111,\"#46039f\"],[0.2222222222222222,\"#7201a8\"],[0.3333333333333333,\"#9c179e\"],[0.4444444444444444,\"#bd3786\"],[0.5555555555555556,\"#d8576b\"],[0.6666666666666666,\"#ed7953\"],[0.7777777777777778,\"#fb9f3a\"],[0.8888888888888888,\"#fdca26\"],[1.0,\"#f0f921\"]],\"sequentialminus\":[[0.0,\"#0d0887\"],[0.1111111111111111,\"#46039f\"],[0.2222222222222222,\"#7201a8\"],[0.3333333333333333,\"#9c179e\"],[0.4444444444444444,\"#bd3786\"],[0.5555555555555556,\"#d8576b\"],[0.6666666666666666,\"#ed7953\"],[0.7777777777777778,\"#fb9f3a\"],[0.8888888888888888,\"#fdca26\"],[1.0,\"#f0f921\"]]},\"colorway\":[\"#636efa\",\"#EF553B\",\"#00cc96\",\"#ab63fa\",\"#FFA15A\",\"#19d3f3\",\"#FF6692\",\"#B6E880\",\"#FF97FF\",\"#FECB52\"],\"font\":{\"color\":\"#2a3f5f\"},\"geo\":{\"bgcolor\":\"white\",\"lakecolor\":\"white\",\"landcolor\":\"#E5ECF6\",\"showlakes\":true,\"showland\":true,\"subunitcolor\":\"white\"},\"hoverlabel\":{\"align\":\"left\"},\"hovermode\":\"closest\",\"mapbox\":{\"style\":\"light\"},\"paper_bgcolor\":\"white\",\"plot_bgcolor\":\"#E5ECF6\",\"polar\":{\"angularaxis\":{\"gridcolor\":\"white\",\"linecolor\":\"white\",\"ticks\":\"\"},\"bgcolor\":\"#E5ECF6\",\"radialaxis\":{\"gridcolor\":\"white\",\"linecolor\":\"white\",\"ticks\":\"\"}},\"scene\":{\"xaxis\":{\"backgroundcolor\":\"#E5ECF6\",\"gridcolor\":\"white\",\"gridwidth\":2,\"linecolor\":\"white\",\"showbackground\":true,\"ticks\":\"\",\"zerolinecolor\":\"white\"},\"yaxis\":{\"backgroundcolor\":\"#E5ECF6\",\"gridcolor\":\"white\",\"gridwidth\":2,\"linecolor\":\"white\",\"showbackground\":true,\"ticks\":\"\",\"zerolinecolor\":\"white\"},\"zaxis\":{\"backgroundcolor\":\"#E5ECF6\",\"gridcolor\":\"white\",\"gridwidth\":2,\"linecolor\":\"white\",\"showbackground\":true,\"ticks\":\"\",\"zerolinecolor\":\"white\"}},\"shapedefaults\":{\"line\":{\"color\":\"#2a3f5f\"}},\"ternary\":{\"aaxis\":{\"gridcolor\":\"white\",\"linecolor\":\"white\",\"ticks\":\"\"},\"baxis\":{\"gridcolor\":\"white\",\"linecolor\":\"white\",\"ticks\":\"\"},\"bgcolor\":\"#E5ECF6\",\"caxis\":{\"gridcolor\":\"white\",\"linecolor\":\"white\",\"ticks\":\"\"}},\"title\":{\"x\":0.05},\"xaxis\":{\"automargin\":true,\"gridcolor\":\"white\",\"linecolor\":\"white\",\"ticks\":\"\",\"title\":{\"standoff\":15},\"zerolinecolor\":\"white\",\"zerolinewidth\":2},\"yaxis\":{\"automargin\":true,\"gridcolor\":\"white\",\"linecolor\":\"white\",\"ticks\":\"\",\"title\":{\"standoff\":15},\"zerolinecolor\":\"white\",\"zerolinewidth\":2}}},\"title\":{\"text\":\"Date Sets\"}},                        {\"responsive\": true}                    ).then(function(){\n",
       "                            \n",
       "var gd = document.getElementById('ca2140c4-2fe8-4d54-8342-9780f887e2a5');\n",
       "var x = new MutationObserver(function (mutations, observer) {{\n",
       "        var display = window.getComputedStyle(gd).display;\n",
       "        if (!display || display === 'none') {{\n",
       "            console.log([gd, 'removed!']);\n",
       "            Plotly.purge(gd);\n",
       "            observer.disconnect();\n",
       "        }}\n",
       "}});\n",
       "\n",
       "// Listen for the removal of the full notebook cells\n",
       "var notebookContainer = gd.closest('#notebook-container');\n",
       "if (notebookContainer) {{\n",
       "    x.observe(notebookContainer, {childList: true});\n",
       "}}\n",
       "\n",
       "// Listen for the clearing of the current output cell\n",
       "var outputEl = gd.closest('.output');\n",
       "if (outputEl) {{\n",
       "    x.observe(outputEl, {childList: true});\n",
       "}}\n",
       "\n",
       "                        })                };                });            </script>        </div>"
      ]
     },
     "metadata": {},
     "output_type": "display_data"
    }
   ],
   "source": [
    "# Plot training data\n",
    "plot_multivariate(x_train_multi, y_train_multi, input_features_multi, target_feature)"
   ]
  },
  {
   "cell_type": "code",
   "execution_count": 24,
   "metadata": {
    "slideshow": {
     "slide_type": "slide"
    }
   },
   "outputs": [
    {
     "name": "stdout",
     "output_type": "stream",
     "text": [
      "Model weights: [1.91149998 2.16361139], bias: 2.5932961237511147\n",
      "Training error: 0.35373\n",
      "Test error: 0.21432\n"
     ]
    }
   ],
   "source": [
    "# Create a Linear Regression model (based on Normal Equation)\n",
    "lr_model_multi = LinearRegression()\n",
    "\n",
    "# Train and test the model on multivariate data\n",
    "train_model(lr_model_multi, x_train_multi, y_train_multi)\n",
    "test_model(lr_model_multi, x_test_multi, y_test_multi)"
   ]
  },
  {
   "cell_type": "code",
   "execution_count": 25,
   "metadata": {
    "slideshow": {
     "slide_type": "slide"
    }
   },
   "outputs": [
    {
     "data": {
      "application/vnd.plotly.v1+json": {
       "config": {
        "linkText": "Export to plot.ly",
        "plotlyServerURL": "https://plot.ly",
        "showLink": false
       },
       "data": [
        {
         "marker": {
          "line": {
           "color": "rgb(255, 255, 255)",
           "width": 1
          },
          "opacity": 1,
          "size": 10
         },
         "mode": "markers",
         "name": "Actual",
         "type": "scatter3d",
         "x": [
          0.305444717407227,
          1.43362653255463,
          1.12843120098114,
          1.15655755996704,
          1.54625928401947,
          0,
          0.989701807498932,
          1.36135590076447,
          0.596220076084137,
          1.15318381786346,
          0.244549930095673,
          1.55167484283447,
          0.728870630264282,
          1.484414935112,
          1.12209415435791,
          0.89465194940567,
          1.06931757926941,
          0.648457288742065,
          0.305808693170547,
          1.1982102394104,
          0.716249227523804,
          0.521021246910095,
          1.15360176563263,
          0.591683447360992,
          0.233442038297653,
          1.46378076076508,
          0.996192753314972,
          1.21755969524384,
          1.28948748111725,
          0.511135876178741,
          0.375846534967422,
          1.37538242340088,
          1.44357192516327,
          1.07498753070831,
          0.0226431842893362,
          1.40167844295502,
          1.48238301277161,
          0.479309022426605,
          1.74194359779358,
          1.41691517829895,
          0.381430715322495,
          0.368745893239975,
          1.02723586559296,
          0.72688353061676,
          0.786441087722778,
          0.368610262870789,
          0.560479462146759,
          0.991012394428253,
          0.964434325695038,
          0.524713635444641,
          1.28177809715271,
          1.23374843597412,
          0.878114581108093,
          1.48841226100922,
          1.3151752948761,
          0.091622568666935,
          0.636406779289246,
          1.39506661891937,
          0.601765096187592,
          1.00082039833069,
          0.730573117733002,
          0.0921023488044739,
          1.10180306434631,
          1.09186446666718,
          1.31458234786987,
          1.13077676296234,
          0.564305365085602,
          1.29121541976929,
          1.38439786434174,
          0.792221248149872,
          1.15687310695648,
          1.03522527217865,
          1.18529546260834,
          0.833756566047668,
          1.25278460979462,
          1.35268235206604,
          0.808964252471924,
          1.44163393974304,
          0.950612664222717,
          1.29178786277771,
          1.10271048545837,
          1.07937383651733,
          0.603048920631409,
          1.47920441627502,
          1.3412059545517,
          1.48792338371277,
          0.586682975292206,
          1.07062232494354,
          0.907975316047668,
          0.36842092871666,
          1.10970628261566,
          1.05469870567322,
          1.53570663928986,
          0.872001945972443,
          0.900596737861633,
          1.21768391132355,
          1.3469113111496,
          1.62634336948395,
          0.161925330758095,
          0.401477217674255,
          0.885416388511658,
          1.87076568603516,
          1.19827437400818,
          0.65951669216156,
          0.788547575473785,
          1.49438726902008,
          1.12112903594971,
          0.932537317276001,
          0.119041793048382,
          1.50394463539124,
          1.56497955322266,
          0.431085407733917,
          1.06457793712616,
          1.480633020401,
          1.69227766990662,
          1.63295245170593,
          1.12786877155304,
          1.53062355518341,
          1.32539355754852,
          1.10735321044922,
          0.909784495830536,
          1.1614590883255,
          0.925579309463501,
          0.339233845472336
         ],
         "y": [
          0.38042613863945,
          0.361466586589813,
          0.153997123241425,
          0.295400261878967,
          0.505740523338318,
          0.270842045545578,
          0.282110154628754,
          0.518630743026733,
          0.454943388700485,
          0.412730008363724,
          0.348587512969971,
          0.490968644618988,
          0.240729048848152,
          0.601607382297516,
          0.505196332931519,
          0.122974775731564,
          0.208715528249741,
          0.0960980430245399,
          0.189196765422821,
          0.312328577041626,
          0.25471106171608,
          0.390661299228668,
          0.398155838251114,
          0.249463722109795,
          0.466914653778076,
          0.539770722389221,
          0.381498634815216,
          0.57939225435257,
          0.0957312509417534,
          0.390017777681351,
          0.336384207010269,
          0.405988603830338,
          0.617950856685638,
          0.288515985012054,
          0.602126955986023,
          0.257921665906906,
          0.626006722450256,
          0.377922266721725,
          0.59662789106369,
          0.505625545978546,
          0.443185955286026,
          0.581843852996826,
          0.394143968820572,
          0.23521526157856,
          0.658248662948608,
          0.0303698573261499,
          0.452763766050339,
          0.418421149253845,
          0.520303547382355,
          0.471566706895828,
          0.373783111572266,
          0.550026834011078,
          0.408158332109451,
          0.536746919155121,
          0.498465299606323,
          0.0599007532000542,
          0.461603492498398,
          0.256450712680817,
          0.633375823497772,
          0.4551981985569,
          0.348079860210419,
          0.235961347818375,
          0.465733230113983,
          0.233335807919502,
          0.234231784939766,
          0.41827192902565,
          0.430388748645782,
          0.402264982461929,
          0.408781230449677,
          0.469987004995346,
          0.249322608113289,
          0.450002878904343,
          0.494519203901291,
          0.558732926845551,
          0.376895278692245,
          0.490946173667908,
          0.435025870800018,
          0.508190035820007,
          0.309410035610199,
          0.520342111587524,
          0.288555532693863,
          0.55258983373642,
          0.447706192731857,
          0.611100912094116,
          0.572575807571411,
          0.562511384487152,
          0.478356659412384,
          0.477487415075302,
          0.547509372234344,
          0.318697690963745,
          0.580131649971008,
          0.479246735572815,
          0.573110342025757,
          0.531310617923737,
          0.198303267359734,
          0.457003742456436,
          0.471203625202179,
          0.60834527015686,
          0.36365869641304,
          0.106179520487785,
          0.501537680625916,
          0.604130983352661,
          0.300740599632263,
          0.0149958552792668,
          0.571055591106415,
          0.612924098968506,
          0.194989055395126,
          0.473507791757584,
          0.332881182432175,
          0.585384488105774,
          0.620070576667786,
          0.425962775945663,
          0.325905978679657,
          0.627162635326385,
          0.549840569496155,
          0.496337592601776,
          0.580200731754303,
          0.449750572443008,
          0.295817464590073,
          0.437453746795654,
          0.432452529668808,
          0.289231717586517,
          0.474307239055634,
          0.408842742443085
         ],
         "z": [
          3.49499988555908,
          6.42199993133545,
          5.25,
          5.56899976730347,
          6.99300003051758,
          2.69300007820129,
          4.7350001335144,
          6.16800022125244,
          5.00400018692017,
          6.57800006866455,
          3.50699996948242,
          5.47200012207031,
          5.83799982070923,
          7.28399991989136,
          3.76600003242493,
          4.09600019454956,
          5.39499998092651,
          4.29199981689453,
          3.64400005340576,
          4.46500015258789,
          4.77500009536743,
          3.80800008773804,
          5.23400020599365,
          3.59299993515015,
          3.97000002861023,
          6.89099979400635,
          4.64400005340576,
          6.4539999961853,
          5.22700023651123,
          3.34899997711182,
          3.875,
          7.21299982070923,
          7.4689998626709,
          5.22499990463257,
          5.15100002288818,
          5.83799982070923,
          7.52199983596802,
          4.53499984741211,
          6.86299991607666,
          5.92000007629395,
          4.08099985122681,
          3.47099995613098,
          4.95499992370605,
          5.26900005340576,
          5.97100019454956,
          3.6029999256134,
          4.55299997329712,
          5.33599996566772,
          4.57399988174438,
          5.04099988937378,
          5.96299982070923,
          6.4520001411438,
          5.2350001335144,
          6.08699989318848,
          5.19500017166138,
          2.90499997138977,
          4.51399993896484,
          5.96400022506714,
          4.16800022125244,
          6.00799989700317,
          5.18100023269653,
          4.28000020980835,
          5.52500009536743,
          5.87200021743774,
          5.90199995040894,
          5.82200002670288,
          4.69500017166138,
          6.08400011062622,
          6.40299987792969,
          4.31500005722046,
          4.69199991226196,
          5.71500015258789,
          6.59899997711182,
          5.82299995422363,
          6.65199995040894,
          6.60900020599365,
          4.29099988937378,
          6.71400022506714,
          4.28599977493286,
          5.97300004959106,
          4.49700021743774,
          5.23000001907349,
          4.17999982833862,
          7.31599998474121,
          5.75799989700317,
          6.95100021362305,
          4.60799980163574,
          6.35699987411499,
          5.95599985122681,
          4.70900011062622,
          7.0789999961853,
          4.8289999961853,
          6.97700023651123,
          6.4539999961853,
          4.37599992752075,
          5.82499980926514,
          5.80999994277954,
          6.64799976348877,
          4.02799987792969,
          3.79399991035461,
          5.01100015640259,
          6.375,
          5.5,
          4.13899993896484,
          5.07399988174438,
          7.28399991989136,
          5.23699998855591,
          5.49300003051758,
          3.53299999237061,
          7.3769998550415,
          7.49399995803833,
          3.65700006484985,
          5.17500019073486,
          7.50400018692017,
          6.57200002670288,
          6.10500001907349,
          6.42399978637695,
          6.3439998626709,
          6.09800004959106,
          6.63500022888184,
          6.00299978256226,
          4.71400022506714,
          5.31099987030029,
          4.46000003814697
         ]
        },
        {
         "marker": {
          "size": 1
         },
         "mode": "markers",
         "name": "Prediction Plane",
         "opacity": 0.8,
         "surfaceaxis": 2,
         "type": "scatter3d",
         "x": [
          0,
          0,
          0,
          0,
          0,
          0,
          0,
          0,
          0,
          0,
          0.20786285400390667,
          0.20786285400390667,
          0.20786285400390667,
          0.20786285400390667,
          0.20786285400390667,
          0.20786285400390667,
          0.20786285400390667,
          0.20786285400390667,
          0.20786285400390667,
          0.20786285400390667,
          0.41572570800781333,
          0.41572570800781333,
          0.41572570800781333,
          0.41572570800781333,
          0.41572570800781333,
          0.41572570800781333,
          0.41572570800781333,
          0.41572570800781333,
          0.41572570800781333,
          0.41572570800781333,
          0.62358856201172,
          0.62358856201172,
          0.62358856201172,
          0.62358856201172,
          0.62358856201172,
          0.62358856201172,
          0.62358856201172,
          0.62358856201172,
          0.62358856201172,
          0.62358856201172,
          0.8314514160156267,
          0.8314514160156267,
          0.8314514160156267,
          0.8314514160156267,
          0.8314514160156267,
          0.8314514160156267,
          0.8314514160156267,
          0.8314514160156267,
          0.8314514160156267,
          0.8314514160156267,
          1.0393142700195332,
          1.0393142700195332,
          1.0393142700195332,
          1.0393142700195332,
          1.0393142700195332,
          1.0393142700195332,
          1.0393142700195332,
          1.0393142700195332,
          1.0393142700195332,
          1.0393142700195332,
          1.24717712402344,
          1.24717712402344,
          1.24717712402344,
          1.24717712402344,
          1.24717712402344,
          1.24717712402344,
          1.24717712402344,
          1.24717712402344,
          1.24717712402344,
          1.24717712402344,
          1.4550399780273466,
          1.4550399780273466,
          1.4550399780273466,
          1.4550399780273466,
          1.4550399780273466,
          1.4550399780273466,
          1.4550399780273466,
          1.4550399780273466,
          1.4550399780273466,
          1.4550399780273466,
          1.6629028320312533,
          1.6629028320312533,
          1.6629028320312533,
          1.6629028320312533,
          1.6629028320312533,
          1.6629028320312533,
          1.6629028320312533,
          1.6629028320312533,
          1.6629028320312533,
          1.6629028320312533,
          1.87076568603516,
          1.87076568603516,
          1.87076568603516,
          1.87076568603516,
          1.87076568603516,
          1.87076568603516,
          1.87076568603516,
          1.87076568603516,
          1.87076568603516,
          1.87076568603516
         ],
         "y": [
          0.0149958552792668,
          0.08646838946474913,
          0.1579409236502315,
          0.22941345783571385,
          0.30088599202119615,
          0.3723585262066785,
          0.44383106039216086,
          0.5153035945776432,
          0.5867761287631256,
          0.658248662948608,
          0.0149958552792668,
          0.08646838946474913,
          0.1579409236502315,
          0.22941345783571385,
          0.30088599202119615,
          0.3723585262066785,
          0.44383106039216086,
          0.5153035945776432,
          0.5867761287631256,
          0.658248662948608,
          0.0149958552792668,
          0.08646838946474913,
          0.1579409236502315,
          0.22941345783571385,
          0.30088599202119615,
          0.3723585262066785,
          0.44383106039216086,
          0.5153035945776432,
          0.5867761287631256,
          0.658248662948608,
          0.0149958552792668,
          0.08646838946474913,
          0.1579409236502315,
          0.22941345783571385,
          0.30088599202119615,
          0.3723585262066785,
          0.44383106039216086,
          0.5153035945776432,
          0.5867761287631256,
          0.658248662948608,
          0.0149958552792668,
          0.08646838946474913,
          0.1579409236502315,
          0.22941345783571385,
          0.30088599202119615,
          0.3723585262066785,
          0.44383106039216086,
          0.5153035945776432,
          0.5867761287631256,
          0.658248662948608,
          0.0149958552792668,
          0.08646838946474913,
          0.1579409236502315,
          0.22941345783571385,
          0.30088599202119615,
          0.3723585262066785,
          0.44383106039216086,
          0.5153035945776432,
          0.5867761287631256,
          0.658248662948608,
          0.0149958552792668,
          0.08646838946474913,
          0.1579409236502315,
          0.22941345783571385,
          0.30088599202119615,
          0.3723585262066785,
          0.44383106039216086,
          0.5153035945776432,
          0.5867761287631256,
          0.658248662948608,
          0.0149958552792668,
          0.08646838946474913,
          0.1579409236502315,
          0.22941345783571385,
          0.30088599202119615,
          0.3723585262066785,
          0.44383106039216086,
          0.5153035945776432,
          0.5867761287631256,
          0.658248662948608,
          0.0149958552792668,
          0.08646838946474913,
          0.1579409236502315,
          0.22941345783571385,
          0.30088599202119615,
          0.3723585262066785,
          0.44383106039216086,
          0.5153035945776432,
          0.5867761287631256,
          0.658248662948608,
          0.0149958552792668,
          0.08646838946474913,
          0.1579409236502315,
          0.22941345783571385,
          0.30088599202119615,
          0.3723585262066785,
          0.44383106039216086,
          0.5153035945776432,
          0.5867761287631256,
          0.658248662948608
         ],
         "z": [
          2.6257413270521166,
          2.7803801161641943,
          2.9350189052762725,
          3.0896576943883503,
          3.2442964835004284,
          3.398935272612506,
          3.553574061724584,
          3.708212850836662,
          3.86285163994874,
          4.0174904290608175,
          3.023071168130305,
          3.177709957242383,
          3.332348746354461,
          3.4869875354665387,
          3.641626324578617,
          3.796265113690694,
          3.9509039028027724,
          4.1055426919148506,
          4.260181481026928,
          4.414820270139007,
          3.4204010092084935,
          3.5750397983205713,
          3.729678587432649,
          3.884317376544727,
          4.038956165656805,
          4.193594954768883,
          4.348233743880961,
          4.502872532993039,
          4.657511322105117,
          4.8121501112171945,
          3.817730850286682,
          3.9723696393987598,
          4.1270084285108375,
          4.281647217622916,
          4.436286006734994,
          4.590924795847071,
          4.745563584959149,
          4.9002023740712275,
          5.054841163183305,
          5.209479952295384,
          4.2150606913648705,
          4.369699480476948,
          4.524338269589026,
          4.678977058701104,
          4.833615847813181,
          4.98825463692526,
          5.142893426037338,
          5.297532215149415,
          5.452171004261494,
          5.606809793373571,
          4.612390532443058,
          4.767029321555136,
          4.921668110667214,
          5.076306899779292,
          5.230945688891371,
          5.385584478003448,
          5.540223267115525,
          5.694862056227604,
          5.849500845339682,
          6.00413963445176,
          5.009720373521247,
          5.164359162633325,
          5.318997951745403,
          5.473636740857481,
          5.628275529969558,
          5.782914319081637,
          5.937553108193715,
          6.092191897305792,
          6.24683068641787,
          6.401469475529948,
          5.407050214599435,
          5.561689003711513,
          5.716327792823591,
          5.870966581935669,
          6.025605371047748,
          6.180244160159825,
          6.334882949271902,
          6.489521738383981,
          6.644160527496059,
          6.798799316608137,
          5.804380055677624,
          5.959018844789702,
          6.11365763390178,
          6.268296423013858,
          6.422935212125935,
          6.5775740012380135,
          6.732212790350092,
          6.886851579462169,
          7.041490368574247,
          7.196129157686325,
          6.201709896755812,
          6.35634868586789,
          6.510987474979968,
          6.6656262640920465,
          6.820265053204124,
          6.974903842316202,
          7.12954263142828,
          7.284181420540357,
          7.438820209652436,
          7.593458998764514
         ]
        }
       ],
       "layout": {
        "margin": {
         "b": 0,
         "l": 0,
         "r": 0,
         "t": 0
        },
        "scene": {
         "xaxis": {
          "title": {
           "text": "Economy..GDP.per.Capita."
          }
         },
         "yaxis": {
          "title": {
           "text": "Freedom"
          }
         },
         "zaxis": {
          "title": {
           "text": "Happiness.Score"
          }
         }
        },
        "template": {
         "data": {
          "bar": [
           {
            "error_x": {
             "color": "#2a3f5f"
            },
            "error_y": {
             "color": "#2a3f5f"
            },
            "marker": {
             "line": {
              "color": "#E5ECF6",
              "width": 0.5
             },
             "pattern": {
              "fillmode": "overlay",
              "size": 10,
              "solidity": 0.2
             }
            },
            "type": "bar"
           }
          ],
          "barpolar": [
           {
            "marker": {
             "line": {
              "color": "#E5ECF6",
              "width": 0.5
             },
             "pattern": {
              "fillmode": "overlay",
              "size": 10,
              "solidity": 0.2
             }
            },
            "type": "barpolar"
           }
          ],
          "carpet": [
           {
            "aaxis": {
             "endlinecolor": "#2a3f5f",
             "gridcolor": "white",
             "linecolor": "white",
             "minorgridcolor": "white",
             "startlinecolor": "#2a3f5f"
            },
            "baxis": {
             "endlinecolor": "#2a3f5f",
             "gridcolor": "white",
             "linecolor": "white",
             "minorgridcolor": "white",
             "startlinecolor": "#2a3f5f"
            },
            "type": "carpet"
           }
          ],
          "choropleth": [
           {
            "colorbar": {
             "outlinewidth": 0,
             "ticks": ""
            },
            "type": "choropleth"
           }
          ],
          "contour": [
           {
            "colorbar": {
             "outlinewidth": 0,
             "ticks": ""
            },
            "colorscale": [
             [
              0,
              "#0d0887"
             ],
             [
              0.1111111111111111,
              "#46039f"
             ],
             [
              0.2222222222222222,
              "#7201a8"
             ],
             [
              0.3333333333333333,
              "#9c179e"
             ],
             [
              0.4444444444444444,
              "#bd3786"
             ],
             [
              0.5555555555555556,
              "#d8576b"
             ],
             [
              0.6666666666666666,
              "#ed7953"
             ],
             [
              0.7777777777777778,
              "#fb9f3a"
             ],
             [
              0.8888888888888888,
              "#fdca26"
             ],
             [
              1,
              "#f0f921"
             ]
            ],
            "type": "contour"
           }
          ],
          "contourcarpet": [
           {
            "colorbar": {
             "outlinewidth": 0,
             "ticks": ""
            },
            "type": "contourcarpet"
           }
          ],
          "heatmap": [
           {
            "colorbar": {
             "outlinewidth": 0,
             "ticks": ""
            },
            "colorscale": [
             [
              0,
              "#0d0887"
             ],
             [
              0.1111111111111111,
              "#46039f"
             ],
             [
              0.2222222222222222,
              "#7201a8"
             ],
             [
              0.3333333333333333,
              "#9c179e"
             ],
             [
              0.4444444444444444,
              "#bd3786"
             ],
             [
              0.5555555555555556,
              "#d8576b"
             ],
             [
              0.6666666666666666,
              "#ed7953"
             ],
             [
              0.7777777777777778,
              "#fb9f3a"
             ],
             [
              0.8888888888888888,
              "#fdca26"
             ],
             [
              1,
              "#f0f921"
             ]
            ],
            "type": "heatmap"
           }
          ],
          "heatmapgl": [
           {
            "colorbar": {
             "outlinewidth": 0,
             "ticks": ""
            },
            "colorscale": [
             [
              0,
              "#0d0887"
             ],
             [
              0.1111111111111111,
              "#46039f"
             ],
             [
              0.2222222222222222,
              "#7201a8"
             ],
             [
              0.3333333333333333,
              "#9c179e"
             ],
             [
              0.4444444444444444,
              "#bd3786"
             ],
             [
              0.5555555555555556,
              "#d8576b"
             ],
             [
              0.6666666666666666,
              "#ed7953"
             ],
             [
              0.7777777777777778,
              "#fb9f3a"
             ],
             [
              0.8888888888888888,
              "#fdca26"
             ],
             [
              1,
              "#f0f921"
             ]
            ],
            "type": "heatmapgl"
           }
          ],
          "histogram": [
           {
            "marker": {
             "pattern": {
              "fillmode": "overlay",
              "size": 10,
              "solidity": 0.2
             }
            },
            "type": "histogram"
           }
          ],
          "histogram2d": [
           {
            "colorbar": {
             "outlinewidth": 0,
             "ticks": ""
            },
            "colorscale": [
             [
              0,
              "#0d0887"
             ],
             [
              0.1111111111111111,
              "#46039f"
             ],
             [
              0.2222222222222222,
              "#7201a8"
             ],
             [
              0.3333333333333333,
              "#9c179e"
             ],
             [
              0.4444444444444444,
              "#bd3786"
             ],
             [
              0.5555555555555556,
              "#d8576b"
             ],
             [
              0.6666666666666666,
              "#ed7953"
             ],
             [
              0.7777777777777778,
              "#fb9f3a"
             ],
             [
              0.8888888888888888,
              "#fdca26"
             ],
             [
              1,
              "#f0f921"
             ]
            ],
            "type": "histogram2d"
           }
          ],
          "histogram2dcontour": [
           {
            "colorbar": {
             "outlinewidth": 0,
             "ticks": ""
            },
            "colorscale": [
             [
              0,
              "#0d0887"
             ],
             [
              0.1111111111111111,
              "#46039f"
             ],
             [
              0.2222222222222222,
              "#7201a8"
             ],
             [
              0.3333333333333333,
              "#9c179e"
             ],
             [
              0.4444444444444444,
              "#bd3786"
             ],
             [
              0.5555555555555556,
              "#d8576b"
             ],
             [
              0.6666666666666666,
              "#ed7953"
             ],
             [
              0.7777777777777778,
              "#fb9f3a"
             ],
             [
              0.8888888888888888,
              "#fdca26"
             ],
             [
              1,
              "#f0f921"
             ]
            ],
            "type": "histogram2dcontour"
           }
          ],
          "mesh3d": [
           {
            "colorbar": {
             "outlinewidth": 0,
             "ticks": ""
            },
            "type": "mesh3d"
           }
          ],
          "parcoords": [
           {
            "line": {
             "colorbar": {
              "outlinewidth": 0,
              "ticks": ""
             }
            },
            "type": "parcoords"
           }
          ],
          "pie": [
           {
            "automargin": true,
            "type": "pie"
           }
          ],
          "scatter": [
           {
            "marker": {
             "colorbar": {
              "outlinewidth": 0,
              "ticks": ""
             }
            },
            "type": "scatter"
           }
          ],
          "scatter3d": [
           {
            "line": {
             "colorbar": {
              "outlinewidth": 0,
              "ticks": ""
             }
            },
            "marker": {
             "colorbar": {
              "outlinewidth": 0,
              "ticks": ""
             }
            },
            "type": "scatter3d"
           }
          ],
          "scattercarpet": [
           {
            "marker": {
             "colorbar": {
              "outlinewidth": 0,
              "ticks": ""
             }
            },
            "type": "scattercarpet"
           }
          ],
          "scattergeo": [
           {
            "marker": {
             "colorbar": {
              "outlinewidth": 0,
              "ticks": ""
             }
            },
            "type": "scattergeo"
           }
          ],
          "scattergl": [
           {
            "marker": {
             "colorbar": {
              "outlinewidth": 0,
              "ticks": ""
             }
            },
            "type": "scattergl"
           }
          ],
          "scattermapbox": [
           {
            "marker": {
             "colorbar": {
              "outlinewidth": 0,
              "ticks": ""
             }
            },
            "type": "scattermapbox"
           }
          ],
          "scatterpolar": [
           {
            "marker": {
             "colorbar": {
              "outlinewidth": 0,
              "ticks": ""
             }
            },
            "type": "scatterpolar"
           }
          ],
          "scatterpolargl": [
           {
            "marker": {
             "colorbar": {
              "outlinewidth": 0,
              "ticks": ""
             }
            },
            "type": "scatterpolargl"
           }
          ],
          "scatterternary": [
           {
            "marker": {
             "colorbar": {
              "outlinewidth": 0,
              "ticks": ""
             }
            },
            "type": "scatterternary"
           }
          ],
          "surface": [
           {
            "colorbar": {
             "outlinewidth": 0,
             "ticks": ""
            },
            "colorscale": [
             [
              0,
              "#0d0887"
             ],
             [
              0.1111111111111111,
              "#46039f"
             ],
             [
              0.2222222222222222,
              "#7201a8"
             ],
             [
              0.3333333333333333,
              "#9c179e"
             ],
             [
              0.4444444444444444,
              "#bd3786"
             ],
             [
              0.5555555555555556,
              "#d8576b"
             ],
             [
              0.6666666666666666,
              "#ed7953"
             ],
             [
              0.7777777777777778,
              "#fb9f3a"
             ],
             [
              0.8888888888888888,
              "#fdca26"
             ],
             [
              1,
              "#f0f921"
             ]
            ],
            "type": "surface"
           }
          ],
          "table": [
           {
            "cells": {
             "fill": {
              "color": "#EBF0F8"
             },
             "line": {
              "color": "white"
             }
            },
            "header": {
             "fill": {
              "color": "#C8D4E3"
             },
             "line": {
              "color": "white"
             }
            },
            "type": "table"
           }
          ]
         },
         "layout": {
          "annotationdefaults": {
           "arrowcolor": "#2a3f5f",
           "arrowhead": 0,
           "arrowwidth": 1
          },
          "autotypenumbers": "strict",
          "coloraxis": {
           "colorbar": {
            "outlinewidth": 0,
            "ticks": ""
           }
          },
          "colorscale": {
           "diverging": [
            [
             0,
             "#8e0152"
            ],
            [
             0.1,
             "#c51b7d"
            ],
            [
             0.2,
             "#de77ae"
            ],
            [
             0.3,
             "#f1b6da"
            ],
            [
             0.4,
             "#fde0ef"
            ],
            [
             0.5,
             "#f7f7f7"
            ],
            [
             0.6,
             "#e6f5d0"
            ],
            [
             0.7,
             "#b8e186"
            ],
            [
             0.8,
             "#7fbc41"
            ],
            [
             0.9,
             "#4d9221"
            ],
            [
             1,
             "#276419"
            ]
           ],
           "sequential": [
            [
             0,
             "#0d0887"
            ],
            [
             0.1111111111111111,
             "#46039f"
            ],
            [
             0.2222222222222222,
             "#7201a8"
            ],
            [
             0.3333333333333333,
             "#9c179e"
            ],
            [
             0.4444444444444444,
             "#bd3786"
            ],
            [
             0.5555555555555556,
             "#d8576b"
            ],
            [
             0.6666666666666666,
             "#ed7953"
            ],
            [
             0.7777777777777778,
             "#fb9f3a"
            ],
            [
             0.8888888888888888,
             "#fdca26"
            ],
            [
             1,
             "#f0f921"
            ]
           ],
           "sequentialminus": [
            [
             0,
             "#0d0887"
            ],
            [
             0.1111111111111111,
             "#46039f"
            ],
            [
             0.2222222222222222,
             "#7201a8"
            ],
            [
             0.3333333333333333,
             "#9c179e"
            ],
            [
             0.4444444444444444,
             "#bd3786"
            ],
            [
             0.5555555555555556,
             "#d8576b"
            ],
            [
             0.6666666666666666,
             "#ed7953"
            ],
            [
             0.7777777777777778,
             "#fb9f3a"
            ],
            [
             0.8888888888888888,
             "#fdca26"
            ],
            [
             1,
             "#f0f921"
            ]
           ]
          },
          "colorway": [
           "#636efa",
           "#EF553B",
           "#00cc96",
           "#ab63fa",
           "#FFA15A",
           "#19d3f3",
           "#FF6692",
           "#B6E880",
           "#FF97FF",
           "#FECB52"
          ],
          "font": {
           "color": "#2a3f5f"
          },
          "geo": {
           "bgcolor": "white",
           "lakecolor": "white",
           "landcolor": "#E5ECF6",
           "showlakes": true,
           "showland": true,
           "subunitcolor": "white"
          },
          "hoverlabel": {
           "align": "left"
          },
          "hovermode": "closest",
          "mapbox": {
           "style": "light"
          },
          "paper_bgcolor": "white",
          "plot_bgcolor": "#E5ECF6",
          "polar": {
           "angularaxis": {
            "gridcolor": "white",
            "linecolor": "white",
            "ticks": ""
           },
           "bgcolor": "#E5ECF6",
           "radialaxis": {
            "gridcolor": "white",
            "linecolor": "white",
            "ticks": ""
           }
          },
          "scene": {
           "xaxis": {
            "backgroundcolor": "#E5ECF6",
            "gridcolor": "white",
            "gridwidth": 2,
            "linecolor": "white",
            "showbackground": true,
            "ticks": "",
            "zerolinecolor": "white"
           },
           "yaxis": {
            "backgroundcolor": "#E5ECF6",
            "gridcolor": "white",
            "gridwidth": 2,
            "linecolor": "white",
            "showbackground": true,
            "ticks": "",
            "zerolinecolor": "white"
           },
           "zaxis": {
            "backgroundcolor": "#E5ECF6",
            "gridcolor": "white",
            "gridwidth": 2,
            "linecolor": "white",
            "showbackground": true,
            "ticks": "",
            "zerolinecolor": "white"
           }
          },
          "shapedefaults": {
           "line": {
            "color": "#2a3f5f"
           }
          },
          "ternary": {
           "aaxis": {
            "gridcolor": "white",
            "linecolor": "white",
            "ticks": ""
           },
           "baxis": {
            "gridcolor": "white",
            "linecolor": "white",
            "ticks": ""
           },
           "bgcolor": "#E5ECF6",
           "caxis": {
            "gridcolor": "white",
            "linecolor": "white",
            "ticks": ""
           }
          },
          "title": {
           "x": 0.05
          },
          "xaxis": {
           "automargin": true,
           "gridcolor": "white",
           "linecolor": "white",
           "ticks": "",
           "title": {
            "standoff": 15
           },
           "zerolinecolor": "white",
           "zerolinewidth": 2
          },
          "yaxis": {
           "automargin": true,
           "gridcolor": "white",
           "linecolor": "white",
           "ticks": "",
           "title": {
            "standoff": 15
           },
           "zerolinecolor": "white",
           "zerolinewidth": 2
          }
         }
        },
        "title": {
         "text": "Date Sets"
        }
       }
      },
      "text/html": [
       "<div>                            <div id=\"b8e51d29-4533-4e80-8594-bdc526ab1bae\" class=\"plotly-graph-div\" style=\"height:525px; width:100%;\"></div>            <script type=\"text/javascript\">                require([\"plotly\"], function(Plotly) {                    window.PLOTLYENV=window.PLOTLYENV || {};                                    if (document.getElementById(\"b8e51d29-4533-4e80-8594-bdc526ab1bae\")) {                    Plotly.newPlot(                        \"b8e51d29-4533-4e80-8594-bdc526ab1bae\",                        [{\"marker\":{\"line\":{\"color\":\"rgb(255, 255, 255)\",\"width\":1},\"opacity\":1,\"size\":10},\"mode\":\"markers\",\"name\":\"Actual\",\"x\":[0.305444717407227,1.43362653255463,1.12843120098114,1.15655755996704,1.54625928401947,0.0,0.989701807498932,1.36135590076447,0.596220076084137,1.15318381786346,0.244549930095673,1.55167484283447,0.728870630264282,1.484414935112,1.12209415435791,0.89465194940567,1.06931757926941,0.648457288742065,0.305808693170547,1.1982102394104,0.716249227523804,0.521021246910095,1.15360176563263,0.591683447360992,0.233442038297653,1.46378076076508,0.996192753314972,1.21755969524384,1.28948748111725,0.511135876178741,0.375846534967422,1.37538242340088,1.44357192516327,1.07498753070831,0.0226431842893362,1.40167844295502,1.48238301277161,0.479309022426605,1.74194359779358,1.41691517829895,0.381430715322495,0.368745893239975,1.02723586559296,0.72688353061676,0.786441087722778,0.368610262870789,0.560479462146759,0.991012394428253,0.964434325695038,0.524713635444641,1.28177809715271,1.23374843597412,0.878114581108093,1.48841226100922,1.3151752948761,0.091622568666935,0.636406779289246,1.39506661891937,0.601765096187592,1.00082039833069,0.730573117733002,0.0921023488044739,1.10180306434631,1.09186446666718,1.31458234786987,1.13077676296234,0.564305365085602,1.29121541976929,1.38439786434174,0.792221248149872,1.15687310695648,1.03522527217865,1.18529546260834,0.833756566047668,1.25278460979462,1.35268235206604,0.808964252471924,1.44163393974304,0.950612664222717,1.29178786277771,1.10271048545837,1.07937383651733,0.603048920631409,1.47920441627502,1.3412059545517,1.48792338371277,0.586682975292206,1.07062232494354,0.907975316047668,0.36842092871666,1.10970628261566,1.05469870567322,1.53570663928986,0.872001945972443,0.900596737861633,1.21768391132355,1.3469113111496,1.62634336948395,0.161925330758095,0.401477217674255,0.885416388511658,1.87076568603516,1.19827437400818,0.65951669216156,0.788547575473785,1.49438726902008,1.12112903594971,0.932537317276001,0.119041793048382,1.50394463539124,1.56497955322266,0.431085407733917,1.06457793712616,1.480633020401,1.69227766990662,1.63295245170593,1.12786877155304,1.53062355518341,1.32539355754852,1.10735321044922,0.909784495830536,1.1614590883255,0.925579309463501,0.339233845472336],\"y\":[0.38042613863945,0.361466586589813,0.153997123241425,0.295400261878967,0.505740523338318,0.270842045545578,0.282110154628754,0.518630743026733,0.454943388700485,0.412730008363724,0.348587512969971,0.490968644618988,0.240729048848152,0.601607382297516,0.505196332931519,0.122974775731564,0.208715528249741,0.0960980430245399,0.189196765422821,0.312328577041626,0.25471106171608,0.390661299228668,0.398155838251114,0.249463722109795,0.466914653778076,0.539770722389221,0.381498634815216,0.57939225435257,0.0957312509417534,0.390017777681351,0.336384207010269,0.405988603830338,0.617950856685638,0.288515985012054,0.602126955986023,0.257921665906906,0.626006722450256,0.377922266721725,0.59662789106369,0.505625545978546,0.443185955286026,0.581843852996826,0.394143968820572,0.23521526157856,0.658248662948608,0.0303698573261499,0.452763766050339,0.418421149253845,0.520303547382355,0.471566706895828,0.373783111572266,0.550026834011078,0.408158332109451,0.536746919155121,0.498465299606323,0.0599007532000542,0.461603492498398,0.256450712680817,0.633375823497772,0.4551981985569,0.348079860210419,0.235961347818375,0.465733230113983,0.233335807919502,0.234231784939766,0.41827192902565,0.430388748645782,0.402264982461929,0.408781230449677,0.469987004995346,0.249322608113289,0.450002878904343,0.494519203901291,0.558732926845551,0.376895278692245,0.490946173667908,0.435025870800018,0.508190035820007,0.309410035610199,0.520342111587524,0.288555532693863,0.55258983373642,0.447706192731857,0.611100912094116,0.572575807571411,0.562511384487152,0.478356659412384,0.477487415075302,0.547509372234344,0.318697690963745,0.580131649971008,0.479246735572815,0.573110342025757,0.531310617923737,0.198303267359734,0.457003742456436,0.471203625202179,0.60834527015686,0.36365869641304,0.106179520487785,0.501537680625916,0.604130983352661,0.300740599632263,0.0149958552792668,0.571055591106415,0.612924098968506,0.194989055395126,0.473507791757584,0.332881182432175,0.585384488105774,0.620070576667786,0.425962775945663,0.325905978679657,0.627162635326385,0.549840569496155,0.496337592601776,0.580200731754303,0.449750572443008,0.295817464590073,0.437453746795654,0.432452529668808,0.289231717586517,0.474307239055634,0.408842742443085],\"z\":[3.49499988555908,6.42199993133545,5.25,5.56899976730347,6.99300003051758,2.69300007820129,4.7350001335144,6.16800022125244,5.00400018692017,6.57800006866455,3.50699996948242,5.47200012207031,5.83799982070923,7.28399991989136,3.76600003242493,4.09600019454956,5.39499998092651,4.29199981689453,3.64400005340576,4.46500015258789,4.77500009536743,3.80800008773804,5.23400020599365,3.59299993515015,3.97000002861023,6.89099979400635,4.64400005340576,6.4539999961853,5.22700023651123,3.34899997711182,3.875,7.21299982070923,7.4689998626709,5.22499990463257,5.15100002288818,5.83799982070923,7.52199983596802,4.53499984741211,6.86299991607666,5.92000007629395,4.08099985122681,3.47099995613098,4.95499992370605,5.26900005340576,5.97100019454956,3.6029999256134,4.55299997329712,5.33599996566772,4.57399988174438,5.04099988937378,5.96299982070923,6.4520001411438,5.2350001335144,6.08699989318848,5.19500017166138,2.90499997138977,4.51399993896484,5.96400022506714,4.16800022125244,6.00799989700317,5.18100023269653,4.28000020980835,5.52500009536743,5.87200021743774,5.90199995040894,5.82200002670288,4.69500017166138,6.08400011062622,6.40299987792969,4.31500005722046,4.69199991226196,5.71500015258789,6.59899997711182,5.82299995422363,6.65199995040894,6.60900020599365,4.29099988937378,6.71400022506714,4.28599977493286,5.97300004959106,4.49700021743774,5.23000001907349,4.17999982833862,7.31599998474121,5.75799989700317,6.95100021362305,4.60799980163574,6.35699987411499,5.95599985122681,4.70900011062622,7.0789999961853,4.8289999961853,6.97700023651123,6.4539999961853,4.37599992752075,5.82499980926514,5.80999994277954,6.64799976348877,4.02799987792969,3.79399991035461,5.01100015640259,6.375,5.5,4.13899993896484,5.07399988174438,7.28399991989136,5.23699998855591,5.49300003051758,3.53299999237061,7.3769998550415,7.49399995803833,3.65700006484985,5.17500019073486,7.50400018692017,6.57200002670288,6.10500001907349,6.42399978637695,6.3439998626709,6.09800004959106,6.63500022888184,6.00299978256226,4.71400022506714,5.31099987030029,4.46000003814697],\"type\":\"scatter3d\"},{\"marker\":{\"size\":1},\"mode\":\"markers\",\"name\":\"Prediction Plane\",\"opacity\":0.8,\"surfaceaxis\":2,\"x\":[0.0,0.0,0.0,0.0,0.0,0.0,0.0,0.0,0.0,0.0,0.20786285400390667,0.20786285400390667,0.20786285400390667,0.20786285400390667,0.20786285400390667,0.20786285400390667,0.20786285400390667,0.20786285400390667,0.20786285400390667,0.20786285400390667,0.41572570800781333,0.41572570800781333,0.41572570800781333,0.41572570800781333,0.41572570800781333,0.41572570800781333,0.41572570800781333,0.41572570800781333,0.41572570800781333,0.41572570800781333,0.62358856201172,0.62358856201172,0.62358856201172,0.62358856201172,0.62358856201172,0.62358856201172,0.62358856201172,0.62358856201172,0.62358856201172,0.62358856201172,0.8314514160156267,0.8314514160156267,0.8314514160156267,0.8314514160156267,0.8314514160156267,0.8314514160156267,0.8314514160156267,0.8314514160156267,0.8314514160156267,0.8314514160156267,1.0393142700195332,1.0393142700195332,1.0393142700195332,1.0393142700195332,1.0393142700195332,1.0393142700195332,1.0393142700195332,1.0393142700195332,1.0393142700195332,1.0393142700195332,1.24717712402344,1.24717712402344,1.24717712402344,1.24717712402344,1.24717712402344,1.24717712402344,1.24717712402344,1.24717712402344,1.24717712402344,1.24717712402344,1.4550399780273466,1.4550399780273466,1.4550399780273466,1.4550399780273466,1.4550399780273466,1.4550399780273466,1.4550399780273466,1.4550399780273466,1.4550399780273466,1.4550399780273466,1.6629028320312533,1.6629028320312533,1.6629028320312533,1.6629028320312533,1.6629028320312533,1.6629028320312533,1.6629028320312533,1.6629028320312533,1.6629028320312533,1.6629028320312533,1.87076568603516,1.87076568603516,1.87076568603516,1.87076568603516,1.87076568603516,1.87076568603516,1.87076568603516,1.87076568603516,1.87076568603516,1.87076568603516],\"y\":[0.0149958552792668,0.08646838946474913,0.1579409236502315,0.22941345783571385,0.30088599202119615,0.3723585262066785,0.44383106039216086,0.5153035945776432,0.5867761287631256,0.658248662948608,0.0149958552792668,0.08646838946474913,0.1579409236502315,0.22941345783571385,0.30088599202119615,0.3723585262066785,0.44383106039216086,0.5153035945776432,0.5867761287631256,0.658248662948608,0.0149958552792668,0.08646838946474913,0.1579409236502315,0.22941345783571385,0.30088599202119615,0.3723585262066785,0.44383106039216086,0.5153035945776432,0.5867761287631256,0.658248662948608,0.0149958552792668,0.08646838946474913,0.1579409236502315,0.22941345783571385,0.30088599202119615,0.3723585262066785,0.44383106039216086,0.5153035945776432,0.5867761287631256,0.658248662948608,0.0149958552792668,0.08646838946474913,0.1579409236502315,0.22941345783571385,0.30088599202119615,0.3723585262066785,0.44383106039216086,0.5153035945776432,0.5867761287631256,0.658248662948608,0.0149958552792668,0.08646838946474913,0.1579409236502315,0.22941345783571385,0.30088599202119615,0.3723585262066785,0.44383106039216086,0.5153035945776432,0.5867761287631256,0.658248662948608,0.0149958552792668,0.08646838946474913,0.1579409236502315,0.22941345783571385,0.30088599202119615,0.3723585262066785,0.44383106039216086,0.5153035945776432,0.5867761287631256,0.658248662948608,0.0149958552792668,0.08646838946474913,0.1579409236502315,0.22941345783571385,0.30088599202119615,0.3723585262066785,0.44383106039216086,0.5153035945776432,0.5867761287631256,0.658248662948608,0.0149958552792668,0.08646838946474913,0.1579409236502315,0.22941345783571385,0.30088599202119615,0.3723585262066785,0.44383106039216086,0.5153035945776432,0.5867761287631256,0.658248662948608,0.0149958552792668,0.08646838946474913,0.1579409236502315,0.22941345783571385,0.30088599202119615,0.3723585262066785,0.44383106039216086,0.5153035945776432,0.5867761287631256,0.658248662948608],\"z\":[2.6257413270521166,2.7803801161641943,2.9350189052762725,3.0896576943883503,3.2442964835004284,3.398935272612506,3.553574061724584,3.708212850836662,3.86285163994874,4.0174904290608175,3.023071168130305,3.177709957242383,3.332348746354461,3.4869875354665387,3.641626324578617,3.796265113690694,3.9509039028027724,4.1055426919148506,4.260181481026928,4.414820270139007,3.4204010092084935,3.5750397983205713,3.729678587432649,3.884317376544727,4.038956165656805,4.193594954768883,4.348233743880961,4.502872532993039,4.657511322105117,4.8121501112171945,3.817730850286682,3.9723696393987598,4.1270084285108375,4.281647217622916,4.436286006734994,4.590924795847071,4.745563584959149,4.9002023740712275,5.054841163183305,5.209479952295384,4.2150606913648705,4.369699480476948,4.524338269589026,4.678977058701104,4.833615847813181,4.98825463692526,5.142893426037338,5.297532215149415,5.452171004261494,5.606809793373571,4.612390532443058,4.767029321555136,4.921668110667214,5.076306899779292,5.230945688891371,5.385584478003448,5.540223267115525,5.694862056227604,5.849500845339682,6.00413963445176,5.009720373521247,5.164359162633325,5.318997951745403,5.473636740857481,5.628275529969558,5.782914319081637,5.937553108193715,6.092191897305792,6.24683068641787,6.401469475529948,5.407050214599435,5.561689003711513,5.716327792823591,5.870966581935669,6.025605371047748,6.180244160159825,6.334882949271902,6.489521738383981,6.644160527496059,6.798799316608137,5.804380055677624,5.959018844789702,6.11365763390178,6.268296423013858,6.422935212125935,6.5775740012380135,6.732212790350092,6.886851579462169,7.041490368574247,7.196129157686325,6.201709896755812,6.35634868586789,6.510987474979968,6.6656262640920465,6.820265053204124,6.974903842316202,7.12954263142828,7.284181420540357,7.438820209652436,7.593458998764514],\"type\":\"scatter3d\"}],                        {\"margin\":{\"b\":0,\"l\":0,\"r\":0,\"t\":0},\"scene\":{\"xaxis\":{\"title\":{\"text\":\"Economy..GDP.per.Capita.\"}},\"yaxis\":{\"title\":{\"text\":\"Freedom\"}},\"zaxis\":{\"title\":{\"text\":\"Happiness.Score\"}}},\"template\":{\"data\":{\"barpolar\":[{\"marker\":{\"line\":{\"color\":\"#E5ECF6\",\"width\":0.5},\"pattern\":{\"fillmode\":\"overlay\",\"size\":10,\"solidity\":0.2}},\"type\":\"barpolar\"}],\"bar\":[{\"error_x\":{\"color\":\"#2a3f5f\"},\"error_y\":{\"color\":\"#2a3f5f\"},\"marker\":{\"line\":{\"color\":\"#E5ECF6\",\"width\":0.5},\"pattern\":{\"fillmode\":\"overlay\",\"size\":10,\"solidity\":0.2}},\"type\":\"bar\"}],\"carpet\":[{\"aaxis\":{\"endlinecolor\":\"#2a3f5f\",\"gridcolor\":\"white\",\"linecolor\":\"white\",\"minorgridcolor\":\"white\",\"startlinecolor\":\"#2a3f5f\"},\"baxis\":{\"endlinecolor\":\"#2a3f5f\",\"gridcolor\":\"white\",\"linecolor\":\"white\",\"minorgridcolor\":\"white\",\"startlinecolor\":\"#2a3f5f\"},\"type\":\"carpet\"}],\"choropleth\":[{\"colorbar\":{\"outlinewidth\":0,\"ticks\":\"\"},\"type\":\"choropleth\"}],\"contourcarpet\":[{\"colorbar\":{\"outlinewidth\":0,\"ticks\":\"\"},\"type\":\"contourcarpet\"}],\"contour\":[{\"colorbar\":{\"outlinewidth\":0,\"ticks\":\"\"},\"colorscale\":[[0.0,\"#0d0887\"],[0.1111111111111111,\"#46039f\"],[0.2222222222222222,\"#7201a8\"],[0.3333333333333333,\"#9c179e\"],[0.4444444444444444,\"#bd3786\"],[0.5555555555555556,\"#d8576b\"],[0.6666666666666666,\"#ed7953\"],[0.7777777777777778,\"#fb9f3a\"],[0.8888888888888888,\"#fdca26\"],[1.0,\"#f0f921\"]],\"type\":\"contour\"}],\"heatmapgl\":[{\"colorbar\":{\"outlinewidth\":0,\"ticks\":\"\"},\"colorscale\":[[0.0,\"#0d0887\"],[0.1111111111111111,\"#46039f\"],[0.2222222222222222,\"#7201a8\"],[0.3333333333333333,\"#9c179e\"],[0.4444444444444444,\"#bd3786\"],[0.5555555555555556,\"#d8576b\"],[0.6666666666666666,\"#ed7953\"],[0.7777777777777778,\"#fb9f3a\"],[0.8888888888888888,\"#fdca26\"],[1.0,\"#f0f921\"]],\"type\":\"heatmapgl\"}],\"heatmap\":[{\"colorbar\":{\"outlinewidth\":0,\"ticks\":\"\"},\"colorscale\":[[0.0,\"#0d0887\"],[0.1111111111111111,\"#46039f\"],[0.2222222222222222,\"#7201a8\"],[0.3333333333333333,\"#9c179e\"],[0.4444444444444444,\"#bd3786\"],[0.5555555555555556,\"#d8576b\"],[0.6666666666666666,\"#ed7953\"],[0.7777777777777778,\"#fb9f3a\"],[0.8888888888888888,\"#fdca26\"],[1.0,\"#f0f921\"]],\"type\":\"heatmap\"}],\"histogram2dcontour\":[{\"colorbar\":{\"outlinewidth\":0,\"ticks\":\"\"},\"colorscale\":[[0.0,\"#0d0887\"],[0.1111111111111111,\"#46039f\"],[0.2222222222222222,\"#7201a8\"],[0.3333333333333333,\"#9c179e\"],[0.4444444444444444,\"#bd3786\"],[0.5555555555555556,\"#d8576b\"],[0.6666666666666666,\"#ed7953\"],[0.7777777777777778,\"#fb9f3a\"],[0.8888888888888888,\"#fdca26\"],[1.0,\"#f0f921\"]],\"type\":\"histogram2dcontour\"}],\"histogram2d\":[{\"colorbar\":{\"outlinewidth\":0,\"ticks\":\"\"},\"colorscale\":[[0.0,\"#0d0887\"],[0.1111111111111111,\"#46039f\"],[0.2222222222222222,\"#7201a8\"],[0.3333333333333333,\"#9c179e\"],[0.4444444444444444,\"#bd3786\"],[0.5555555555555556,\"#d8576b\"],[0.6666666666666666,\"#ed7953\"],[0.7777777777777778,\"#fb9f3a\"],[0.8888888888888888,\"#fdca26\"],[1.0,\"#f0f921\"]],\"type\":\"histogram2d\"}],\"histogram\":[{\"marker\":{\"pattern\":{\"fillmode\":\"overlay\",\"size\":10,\"solidity\":0.2}},\"type\":\"histogram\"}],\"mesh3d\":[{\"colorbar\":{\"outlinewidth\":0,\"ticks\":\"\"},\"type\":\"mesh3d\"}],\"parcoords\":[{\"line\":{\"colorbar\":{\"outlinewidth\":0,\"ticks\":\"\"}},\"type\":\"parcoords\"}],\"pie\":[{\"automargin\":true,\"type\":\"pie\"}],\"scatter3d\":[{\"line\":{\"colorbar\":{\"outlinewidth\":0,\"ticks\":\"\"}},\"marker\":{\"colorbar\":{\"outlinewidth\":0,\"ticks\":\"\"}},\"type\":\"scatter3d\"}],\"scattercarpet\":[{\"marker\":{\"colorbar\":{\"outlinewidth\":0,\"ticks\":\"\"}},\"type\":\"scattercarpet\"}],\"scattergeo\":[{\"marker\":{\"colorbar\":{\"outlinewidth\":0,\"ticks\":\"\"}},\"type\":\"scattergeo\"}],\"scattergl\":[{\"marker\":{\"colorbar\":{\"outlinewidth\":0,\"ticks\":\"\"}},\"type\":\"scattergl\"}],\"scattermapbox\":[{\"marker\":{\"colorbar\":{\"outlinewidth\":0,\"ticks\":\"\"}},\"type\":\"scattermapbox\"}],\"scatterpolargl\":[{\"marker\":{\"colorbar\":{\"outlinewidth\":0,\"ticks\":\"\"}},\"type\":\"scatterpolargl\"}],\"scatterpolar\":[{\"marker\":{\"colorbar\":{\"outlinewidth\":0,\"ticks\":\"\"}},\"type\":\"scatterpolar\"}],\"scatter\":[{\"marker\":{\"colorbar\":{\"outlinewidth\":0,\"ticks\":\"\"}},\"type\":\"scatter\"}],\"scatterternary\":[{\"marker\":{\"colorbar\":{\"outlinewidth\":0,\"ticks\":\"\"}},\"type\":\"scatterternary\"}],\"surface\":[{\"colorbar\":{\"outlinewidth\":0,\"ticks\":\"\"},\"colorscale\":[[0.0,\"#0d0887\"],[0.1111111111111111,\"#46039f\"],[0.2222222222222222,\"#7201a8\"],[0.3333333333333333,\"#9c179e\"],[0.4444444444444444,\"#bd3786\"],[0.5555555555555556,\"#d8576b\"],[0.6666666666666666,\"#ed7953\"],[0.7777777777777778,\"#fb9f3a\"],[0.8888888888888888,\"#fdca26\"],[1.0,\"#f0f921\"]],\"type\":\"surface\"}],\"table\":[{\"cells\":{\"fill\":{\"color\":\"#EBF0F8\"},\"line\":{\"color\":\"white\"}},\"header\":{\"fill\":{\"color\":\"#C8D4E3\"},\"line\":{\"color\":\"white\"}},\"type\":\"table\"}]},\"layout\":{\"annotationdefaults\":{\"arrowcolor\":\"#2a3f5f\",\"arrowhead\":0,\"arrowwidth\":1},\"autotypenumbers\":\"strict\",\"coloraxis\":{\"colorbar\":{\"outlinewidth\":0,\"ticks\":\"\"}},\"colorscale\":{\"diverging\":[[0,\"#8e0152\"],[0.1,\"#c51b7d\"],[0.2,\"#de77ae\"],[0.3,\"#f1b6da\"],[0.4,\"#fde0ef\"],[0.5,\"#f7f7f7\"],[0.6,\"#e6f5d0\"],[0.7,\"#b8e186\"],[0.8,\"#7fbc41\"],[0.9,\"#4d9221\"],[1,\"#276419\"]],\"sequential\":[[0.0,\"#0d0887\"],[0.1111111111111111,\"#46039f\"],[0.2222222222222222,\"#7201a8\"],[0.3333333333333333,\"#9c179e\"],[0.4444444444444444,\"#bd3786\"],[0.5555555555555556,\"#d8576b\"],[0.6666666666666666,\"#ed7953\"],[0.7777777777777778,\"#fb9f3a\"],[0.8888888888888888,\"#fdca26\"],[1.0,\"#f0f921\"]],\"sequentialminus\":[[0.0,\"#0d0887\"],[0.1111111111111111,\"#46039f\"],[0.2222222222222222,\"#7201a8\"],[0.3333333333333333,\"#9c179e\"],[0.4444444444444444,\"#bd3786\"],[0.5555555555555556,\"#d8576b\"],[0.6666666666666666,\"#ed7953\"],[0.7777777777777778,\"#fb9f3a\"],[0.8888888888888888,\"#fdca26\"],[1.0,\"#f0f921\"]]},\"colorway\":[\"#636efa\",\"#EF553B\",\"#00cc96\",\"#ab63fa\",\"#FFA15A\",\"#19d3f3\",\"#FF6692\",\"#B6E880\",\"#FF97FF\",\"#FECB52\"],\"font\":{\"color\":\"#2a3f5f\"},\"geo\":{\"bgcolor\":\"white\",\"lakecolor\":\"white\",\"landcolor\":\"#E5ECF6\",\"showlakes\":true,\"showland\":true,\"subunitcolor\":\"white\"},\"hoverlabel\":{\"align\":\"left\"},\"hovermode\":\"closest\",\"mapbox\":{\"style\":\"light\"},\"paper_bgcolor\":\"white\",\"plot_bgcolor\":\"#E5ECF6\",\"polar\":{\"angularaxis\":{\"gridcolor\":\"white\",\"linecolor\":\"white\",\"ticks\":\"\"},\"bgcolor\":\"#E5ECF6\",\"radialaxis\":{\"gridcolor\":\"white\",\"linecolor\":\"white\",\"ticks\":\"\"}},\"scene\":{\"xaxis\":{\"backgroundcolor\":\"#E5ECF6\",\"gridcolor\":\"white\",\"gridwidth\":2,\"linecolor\":\"white\",\"showbackground\":true,\"ticks\":\"\",\"zerolinecolor\":\"white\"},\"yaxis\":{\"backgroundcolor\":\"#E5ECF6\",\"gridcolor\":\"white\",\"gridwidth\":2,\"linecolor\":\"white\",\"showbackground\":true,\"ticks\":\"\",\"zerolinecolor\":\"white\"},\"zaxis\":{\"backgroundcolor\":\"#E5ECF6\",\"gridcolor\":\"white\",\"gridwidth\":2,\"linecolor\":\"white\",\"showbackground\":true,\"ticks\":\"\",\"zerolinecolor\":\"white\"}},\"shapedefaults\":{\"line\":{\"color\":\"#2a3f5f\"}},\"ternary\":{\"aaxis\":{\"gridcolor\":\"white\",\"linecolor\":\"white\",\"ticks\":\"\"},\"baxis\":{\"gridcolor\":\"white\",\"linecolor\":\"white\",\"ticks\":\"\"},\"bgcolor\":\"#E5ECF6\",\"caxis\":{\"gridcolor\":\"white\",\"linecolor\":\"white\",\"ticks\":\"\"}},\"title\":{\"x\":0.05},\"xaxis\":{\"automargin\":true,\"gridcolor\":\"white\",\"linecolor\":\"white\",\"ticks\":\"\",\"title\":{\"standoff\":15},\"zerolinecolor\":\"white\",\"zerolinewidth\":2},\"yaxis\":{\"automargin\":true,\"gridcolor\":\"white\",\"linecolor\":\"white\",\"ticks\":\"\",\"title\":{\"standoff\":15},\"zerolinecolor\":\"white\",\"zerolinewidth\":2}}},\"title\":{\"text\":\"Date Sets\"}},                        {\"responsive\": true}                    ).then(function(){\n",
       "                            \n",
       "var gd = document.getElementById('b8e51d29-4533-4e80-8594-bdc526ab1bae');\n",
       "var x = new MutationObserver(function (mutations, observer) {{\n",
       "        var display = window.getComputedStyle(gd).display;\n",
       "        if (!display || display === 'none') {{\n",
       "            console.log([gd, 'removed!']);\n",
       "            Plotly.purge(gd);\n",
       "            observer.disconnect();\n",
       "        }}\n",
       "}});\n",
       "\n",
       "// Listen for the removal of the full notebook cells\n",
       "var notebookContainer = gd.closest('#notebook-container');\n",
       "if (notebookContainer) {{\n",
       "    x.observe(notebookContainer, {childList: true});\n",
       "}}\n",
       "\n",
       "// Listen for the clearing of the current output cell\n",
       "var outputEl = gd.closest('.output');\n",
       "if (outputEl) {{\n",
       "    x.observe(outputEl, {childList: true});\n",
       "}}\n",
       "\n",
       "                        })                };                });            </script>        </div>"
      ]
     },
     "metadata": {},
     "output_type": "display_data"
    }
   ],
   "source": [
    "# Plot data and model prediction\n",
    "plot_multivariate(x_train_multi, y_train_multi, input_features_multi, target_feature, lr_model_multi)"
   ]
  },
  {
   "cell_type": "markdown",
   "metadata": {
    "slideshow": {
     "slide_type": "slide"
    }
   },
   "source": [
    "### Pros/cons of analytical approach\n",
    "\n",
    "Pros:\n",
    "\n",
    "- Computed in one step.\n",
    "- Exact solution.\n",
    "\n",
    "Cons:\n",
    "\n",
    "- Computation of $(\\pmb{X}^T\\pmb{X})^{-1}$ is slow when the number of features is large ($n > 10^4$).\n",
    "- Doesn't work if $\\pmb{X}^T\\pmb{X}$ is not inversible.\n"
   ]
  },
  {
   "cell_type": "markdown",
   "metadata": {
    "slideshow": {
     "slide_type": "slide"
    }
   },
   "source": [
    "## Iterative approach: gradient descent"
   ]
  },
  {
   "cell_type": "markdown",
   "metadata": {
    "slideshow": {
     "slide_type": "slide"
    }
   },
   "source": [
    "### Method description\n",
    "\n",
    "- Same objective: find the $\\pmb{\\theta}^{*}$ vector that minimizes the loss.\n",
    "- General idea:\n",
    "  - Start with random values for $\\pmb{\\theta}$.\n",
    "  - Update $\\pmb{\\theta}$ in small steps towards loss minimization.\n",
    "- To know in which direction update $\\pmb{\\theta}$, we compute the **gradient** of the loss function w.r.t. $\\pmb{\\theta}$ and go into the opposite direction."
   ]
  },
  {
   "cell_type": "markdown",
   "metadata": {
    "slideshow": {
     "slide_type": "slide"
    }
   },
   "source": [
    "### Computation of gradients\n",
    "\n",
    "$$\\nabla_{\\theta}\\mathcal{L}(\\pmb{\\theta}) = \\begin{pmatrix}\n",
    "       \\ \\frac{\\partial}{\\partial \\theta_0} \\mathcal{L}(\\theta) \\\\\n",
    "       \\ \\frac{\\partial}{\\partial \\theta_1} \\mathcal{L}(\\theta) \\\\\n",
    "       \\ \\vdots \\\\\n",
    "       \\ \\frac{\\partial}{\\partial \\theta_n} \\mathcal{L}(\\theta)\n",
    "     \\end{pmatrix} =\n",
    "\\frac{2}{m}\\pmb{X}^T\\left(\\pmb{X}\\pmb{\\theta} - \\pmb{y}\\right)$$\n",
    "\n",
    "(See math proof above)"
   ]
  },
  {
   "cell_type": "markdown",
   "metadata": {
    "slideshow": {
     "slide_type": "slide"
    }
   },
   "source": [
    "### Parameters update\n",
    "\n",
    "The **_learning rate_** $\\eta$ governs the amplitude of updates.\n",
    "\n",
    "$$\\pmb{\\theta}_{next} = \\pmb{\\theta} - \\eta\\nabla_{\\theta}\\mathcal{L}(\\pmb{\\theta})$$\n",
    "\n",
    "[![Importance of learning rate](images/learning_rate.png)](https://www.jeremyjordan.me/nn-learning-rate/)"
   ]
  },
  {
   "cell_type": "markdown",
   "metadata": {
    "slideshow": {
     "slide_type": "slide"
    }
   },
   "source": [
    "### Interactive example\n",
    "\n",
    "[![Gradient descent line graph](images/gradient_descent_line_graph.gif)](https://alykhantejani.github.io/a-brief-introduction-to-gradient-descent/)"
   ]
  },
  {
   "cell_type": "markdown",
   "metadata": {
    "slideshow": {
     "slide_type": "slide"
    }
   },
   "source": [
    "### Gradient descent types\n",
    "\n",
    "- *Batch*: use the whole dataset to compute gradients.\n",
    "  - Safe but potentially slow.\n",
    "- *Stochastic*: use only one sample.\n",
    "  - Fast but potentially erratic.\n",
    "- *Mini-Batch*: use a small set of samples (10-1000).\n",
    "  - Good compromise."
   ]
  },
  {
   "cell_type": "markdown",
   "metadata": {
    "slideshow": {
     "slide_type": "slide"
    }
   },
   "source": [
    "### Example: applying stochastic gradient descent to predict country happiness"
   ]
  },
  {
   "cell_type": "code",
   "execution_count": 26,
   "metadata": {
    "slideshow": {
     "slide_type": "-"
    }
   },
   "outputs": [
    {
     "name": "stdout",
     "output_type": "stream",
     "text": [
      "Model weights: [2.53591725], bias: [2.5963995]\n",
      "Training error: 0.50506\n",
      "Test error: 0.58853\n"
     ]
    }
   ],
   "source": [
    "# Create a Linear Regression model (based on Stochastic Gradient Descent)\n",
    "sgd_model_uni = SGDRegressor()\n",
    "\n",
    "# Train and test the model on univariate data\n",
    "train_model(sgd_model_uni, x_train_uni, y_train_uni)\n",
    "test_model(sgd_model_uni, x_test_uni, y_test_uni)"
   ]
  },
  {
   "cell_type": "code",
   "execution_count": 27,
   "metadata": {
    "slideshow": {
     "slide_type": "slide"
    }
   },
   "outputs": [
    {
     "data": {
      "image/png": "[encoded data removed]",
      "text/plain": [
       "<Figure size 720x576 with 1 Axes>"
      ]
     },
     "metadata": {
      "image/png": {
       "height": 499,
       "width": 606
      }
     },
     "output_type": "display_data"
    }
   ],
   "source": [
    "# Plot data and models predictions\n",
    "plot_univariate(\n",
    "    x_train_uni,\n",
    "    y_train_uni,\n",
    "    input_features_uni,\n",
    "    target_feature,\n",
    "    model_list={\"LR\": lr_model, \"SGD\": sgd_model_uni},\n",
    ")"
   ]
  },
  {
   "cell_type": "markdown",
   "metadata": {
    "slideshow": {
     "slide_type": "slide"
    }
   },
   "source": [
    "### Pros/cons of iterative approach\n",
    "\n",
    "Pros:\n",
    "\n",
    "- Works well with a large number of features.\n",
    "- MSE loss function convex => guarantee of a global minimum.\n",
    "\n",
    "Cons:\n",
    "\n",
    "- Convergence depends on learning rate and GD type.\n",
    "- Dependant on feature scaling."
   ]
  },
  {
   "cell_type": "markdown",
   "metadata": {
    "slideshow": {
     "slide_type": "slide"
    }
   },
   "source": [
    "## Polynomial Regression"
   ]
  },
  {
   "cell_type": "markdown",
   "metadata": {
    "slideshow": {
     "slide_type": "slide"
    }
   },
   "source": [
    "### General idea\n",
    "\n",
    "- How can a linear model fit non-linear data?\n",
    "- Solution: add powers of each feature as new features.\n",
    "- The hypothesis function is still linear.\n",
    "- High-degree polynomial regression can be subject to severe overfitting."
   ]
  },
  {
   "cell_type": "markdown",
   "metadata": {
    "slideshow": {
     "slide_type": "slide"
    }
   },
   "source": [
    "### Example: fitting a quadratic curve with polynomial regression\n",
    "\n",
    "(Heavily inspired by Chapter 4 of [Hands-On Machine Learning](https://github.com/ageron/handson-ml2) by Aurélien Géron)"
   ]
  },
  {
   "cell_type": "code",
   "execution_count": 28,
   "metadata": {},
   "outputs": [],
   "source": [
    "# Generate quadratic data with noise\n",
    "# (ripped from https://github.com/ageron/handson-ml2)\n",
    "\n",
    "m = 200\n",
    "# Generate m data samples between -3 and 3\n",
    "x_quad = 6 * np.random.rand(m, 1) - 3\n",
    "\n",
    "# y = 0,5x^2 + x + 2 + noise\n",
    "y_quad = 0.5 * x_quad**2 + x_quad + 2 + np.random.randn(m, 1)"
   ]
  },
  {
   "cell_type": "code",
   "execution_count": 29,
   "metadata": {
    "slideshow": {
     "slide_type": "slide"
    }
   },
   "outputs": [
    {
     "data": {
      "image/png": "[encoded data removed]",
      "text/plain": [
       "<Figure size 720x576 with 1 Axes>"
      ]
     },
     "metadata": {
      "image/png": {
       "height": 483,
       "width": 597
      }
     },
     "output_type": "display_data"
    }
   ],
   "source": [
    "# Plot generated data\n",
    "plt.plot(x_quad, y_quad, \"b.\")\n",
    "plt.title(\"Quadratic data\")\n",
    "plt.show()"
   ]
  },
  {
   "cell_type": "code",
   "execution_count": 30,
   "metadata": {
    "slideshow": {
     "slide_type": "slide"
    }
   },
   "outputs": [
    {
     "name": "stdout",
     "output_type": "stream",
     "text": [
      "Initial feature for first sample: [1.80326168]\n",
      "New features for first sample: [1.80326168 3.25175268]\n"
     ]
    }
   ],
   "source": [
    "print(f\"Initial feature for first sample: {x_quad[0]}\")\n",
    "\n",
    "# Add polynomial features to the dataset\n",
    "poly_degree = 2\n",
    "poly_features = PolynomialFeatures(degree=poly_degree, include_bias=False)\n",
    "x_quad_poly = poly_features.fit_transform(x_quad)\n",
    "\n",
    "print(f\"New features for first sample: {x_quad_poly[0]}\")"
   ]
  },
  {
   "cell_type": "code",
   "execution_count": 31,
   "metadata": {
    "slideshow": {
     "slide_type": "slide"
    }
   },
   "outputs": [
    {
     "name": "stdout",
     "output_type": "stream",
     "text": [
      "Model weights: [[0.99406219 0.49278801]], bias: [1.97885369]\n"
     ]
    }
   ],
   "source": [
    "# Fit a linear regression model to the extended data\n",
    "lr_model_poly = LinearRegression()\n",
    "lr_model_poly.fit(x_quad_poly, y_quad)\n",
    "\n",
    "# Should be close to [1, 0,5] and 2\n",
    "print(f\"Model weights: {lr_model_poly.coef_}, bias: {lr_model_poly.intercept_}\")"
   ]
  },
  {
   "cell_type": "code",
   "execution_count": 32,
   "metadata": {
    "slideshow": {
     "slide_type": "slide"
    }
   },
   "outputs": [
    {
     "data": {
      "image/png": "[encoded data removed]",
      "text/plain": [
       "<Figure size 720x576 with 1 Axes>"
      ]
     },
     "metadata": {
      "image/png": {
       "height": 483,
       "width": 597
      }
     },
     "output_type": "display_data"
    }
   ],
   "source": [
    "# Plot data and model prediction\n",
    "plt.plot(x_quad, y_quad, \"b.\", label=\"Data\")\n",
    "x_pred = np.linspace(-3, 3, m).reshape(m, 1)\n",
    "x_pred_poly = poly_features.transform(x_pred)\n",
    "y_pred = lr_model_poly.predict(x_pred_poly)\n",
    "plt.plot(x_pred, y_pred, \"r-\", linewidth=2, label=\"Prediction\")\n",
    "plt.axis([-3, 3, 0, 10])\n",
    "plt.legend()\n",
    "plt.title(\"Quadratic data w/ prediction\")\n",
    "plt.show()"
   ]
  },
  {
   "cell_type": "markdown",
   "metadata": {
    "slideshow": {
     "slide_type": "slide"
    }
   },
   "source": [
    "## Regularization"
   ]
  },
  {
   "cell_type": "markdown",
   "metadata": {
    "slideshow": {
     "slide_type": "slide"
    }
   },
   "source": [
    "### General idea\n",
    "\n",
    "- Solution against overfitting: constraining model parameters to take small values.\n",
    "\n",
    "- *Ridge regression* (using l2 norm): \n",
    "\n",
    "$$\\mathcal{L}(\\pmb{\\theta}) = \\mathrm{MSE}(\\pmb{\\theta}) + \\frac{\\lambda}{2}\\sum_{i=1}^n \\theta_i^2$$\n",
    "\n",
    "- *Lasso regression* (using l1 norm):\n",
    "\n",
    "$$\\mathcal{L}(\\pmb{\\theta}) = \\mathrm{MSE}(\\pmb{\\theta}) + \\lambda\\sum_{i=1}^n |\\theta_i|$$\n",
    "\n",
    "- $\\lambda$ is called the **regularization rate**."
   ]
  },
  {
   "cell_type": "markdown",
   "metadata": {
    "slideshow": {
     "slide_type": "slide"
    }
   },
   "source": [
    "### Example: observing the effects of regularization rate\n",
    "\n",
    "(Heavily inspired by Chapter 4 of [Hands-On Machine Learning](https://github.com/ageron/handson-ml2) by Aurélien Géron)"
   ]
  },
  {
   "cell_type": "code",
   "execution_count": 33,
   "metadata": {},
   "outputs": [],
   "source": [
    "m = 20\n",
    "x_reg = 3 * np.random.rand(m, 1)\n",
    "y_reg = 1 + 0.5 * x_reg + np.random.randn(m, 1) / 1.5\n",
    "x_new = np.linspace(0, 3, 100).reshape(100, 1)"
   ]
  },
  {
   "cell_type": "code",
   "execution_count": 34,
   "metadata": {
    "slideshow": {
     "slide_type": "slide"
    },
    "tags": [
     "hide-input"
    ]
   },
   "outputs": [],
   "source": [
    "def plot_model(model_class, polynomial, lambdas, **model_kargs):\n",
    "    # Plot data and predictions for several regularization rates\n",
    "    for reg_rate, style in zip(lambdas, (\"b-\", \"g--\", \"r:\")):\n",
    "        model = model_class(reg_rate, **model_kargs) if reg_rate > 0 else LinearRegression()\n",
    "        if polynomial:\n",
    "            model = Pipeline([\n",
    "                    (\"poly_features\", PolynomialFeatures(degree=10, include_bias=False)),\n",
    "                    (\"std_scaler\", StandardScaler()),\n",
    "                    (\"regul_reg\", model),\n",
    "                ])\n",
    "        model.fit(x_reg, y_reg)\n",
    "        y_new_regul = model.predict(x_new)\n",
    "        lw = 2 if reg_rate > 0 else 1\n",
    "        plt.plot(x_new, y_new_regul, style, linewidth=lw, label=r\"$\\lambda = {}$\".format(reg_rate))\n",
    "    plt.plot(x_reg, y_reg, \"b.\", linewidth=3)\n",
    "    plt.legend(loc=\"upper left\", fontsize=15)\n",
    "    plt.xlabel(\"$x$\", fontsize=18)\n",
    "    plt.axis([0, 3, 0, 4])"
   ]
  },
  {
   "cell_type": "code",
   "execution_count": 35,
   "metadata": {
    "slideshow": {
     "slide_type": "slide"
    }
   },
   "outputs": [
    {
     "data": {
      "image/png": "[encoded data removed]",
      "text/plain": [
       "<Figure size 1008x504 with 2 Axes>"
      ]
     },
     "metadata": {
      "image/png": {
       "height": 449,
       "width": 838
      }
     },
     "output_type": "display_data"
    }
   ],
   "source": [
    "# Plot data and predictions with varying regularization rates\n",
    "plt.figure(figsize=(14,7))\n",
    "plt.subplot(121)\n",
    "plot_model(Ridge, polynomial=False, lambdas=(0, 10, 100), random_state=42)\n",
    "plt.ylabel(\"$y$\", rotation=0, fontsize=18)\n",
    "plt.title(\"Linear regression with Ridge regularization\")\n",
    "plt.subplot(122)\n",
    "plot_model(Ridge, polynomial=True, lambdas=(0, 10**-5, 1), random_state=42)\n",
    "plt.title(\"Polynomial regression with Ridge regularization\")\n",
    "plt.show()"
   ]
  },
  {
   "cell_type": "code",
   "execution_count": null,
   "metadata": {},
   "outputs": [],
   "source": []
  }
 ],
 "metadata": {
  "celltoolbar": "Diaporama",
  "kernelspec": {
   "display_name": "Python 3 (ipykernel)",
   "language": "python",
   "name": "python3"
  },
  "language_info": {
   "codemirror_mode": {
    "name": "ipython",
    "version": 3
   },
   "file_extension": ".py",
   "mimetype": "text/x-python",
   "name": "python",
   "nbconvert_exporter": "python",
   "pygments_lexer": "ipython3",
   "version": "3.7.11"
  }
 },
 "nbformat": 4,
 "nbformat_minor": 4
}
